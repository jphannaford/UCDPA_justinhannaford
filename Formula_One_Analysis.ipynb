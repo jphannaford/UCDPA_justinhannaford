{
 "cells": [
  {
   "cell_type": "code",
   "execution_count": 1,
   "id": "c13ed2dd",
   "metadata": {},
   "outputs": [],
   "source": [
    "# 4 - number of races (popularity)\n",
    "\n",
    "# 5 - british drivers dominate\n",
    "\n",
    "# 3 - world champs top 5\n",
    "\n",
    "# 1 - Retirments per decade - \n",
    "\n",
    "# 2 - cars safer accidents vs deaths\n",
    "\n",
    "\n",
    "\n",
    "\n",
    "\n",
    "\n",
    "#1 - increased reliability\n",
    "# 2 - world champions top 5 percentage vs rest of field\n",
    "# same with poles\n",
    "# 3 - number of races per year\n",
    "# 4 - pit stop times \n",
    "# 5 - safety? retirements/\n",
    "#disqualifications?\n",
    "# 6 - fatalities"
   ]
  },
  {
   "cell_type": "markdown",
   "id": "0762b1fd",
   "metadata": {},
   "source": [
    "### Import Packages"
   ]
  },
  {
   "cell_type": "code",
   "execution_count": 2,
   "id": "9ea7e09e",
   "metadata": {},
   "outputs": [],
   "source": [
    "import pandas as pd\n",
    "import numpy as np\n",
    "import matplotlib.pyplot as plt\n",
    "import seaborn as sns"
   ]
  },
  {
   "cell_type": "code",
   "execution_count": 3,
   "id": "5d2dccb6",
   "metadata": {},
   "outputs": [],
   "source": [
    "# Import Formula 1 csv files\n",
    "\n",
    "#f1_circuits = pd.read_csv('F1_circuits.csv') # Contains a list of all F1 tracks\n",
    "f1_status = pd.read_csv('F1_status.csv') # Contains a Status Code for each driver foreach race\n",
    "f1_drivers = pd.read_csv('F1_drivers.csv') # Contais a list of every driver to have driven in Formula 1\n",
    "f1_races = pd.read_csv('F1_races.csv') # Contains data for every race in Formula 1\n",
    "f1_results = pd.read_csv('F1_results.csv') # Contains data for results of every driver in every race in Formula 1"
   ]
  },
  {
   "cell_type": "markdown",
   "id": "8369c4f8",
   "metadata": {},
   "source": [
    "### Inspect & Reformat \"Circuits\" DataFrame"
   ]
  },
  {
   "cell_type": "code",
   "execution_count": 4,
   "id": "09596ab3",
   "metadata": {
    "scrolled": true
   },
   "outputs": [],
   "source": [
    "# Inspect \"Circuits\" DataFrame\n",
    "\n",
    "#f1_circuits.info()\n",
    "\n",
    "# 76 entries with zero null values\n",
    "# Remove all columns except 'circuitId' & 'name'\n",
    "# Required columns are correct Data Types"
   ]
  },
  {
   "cell_type": "code",
   "execution_count": 5,
   "id": "7d6391e2",
   "metadata": {},
   "outputs": [],
   "source": [
    "# Drop all columns except 'circuitId' & 'name'\n",
    "\n",
    "#cols = [1,3,4,5,6,7,8]\n",
    "#f1_circuits.drop(f1_circuits.columns[cols],axis=1,inplace=True)"
   ]
  },
  {
   "cell_type": "code",
   "execution_count": 6,
   "id": "8edf9b0f",
   "metadata": {},
   "outputs": [],
   "source": [
    "#f1_circuits.head()"
   ]
  },
  {
   "cell_type": "markdown",
   "id": "7c69a4b3",
   "metadata": {},
   "source": [
    "### Inspect \"Status\" DataFrame"
   ]
  },
  {
   "cell_type": "code",
   "execution_count": 7,
   "id": "686d0900",
   "metadata": {},
   "outputs": [
    {
     "name": "stdout",
     "output_type": "stream",
     "text": [
      "<class 'pandas.core.frame.DataFrame'>\n",
      "RangeIndex: 139 entries, 0 to 138\n",
      "Data columns (total 2 columns):\n",
      " #   Column    Non-Null Count  Dtype \n",
      "---  ------    --------------  ----- \n",
      " 0   statusId  139 non-null    int64 \n",
      " 1   status    139 non-null    object\n",
      "dtypes: int64(1), object(1)\n",
      "memory usage: 2.3+ KB\n"
     ]
    }
   ],
   "source": [
    "# Inspect \"Status\" DataFrame\n",
    "\n",
    "f1_status.info()\n",
    "\n",
    "# 139 entries with zero null values\n",
    "# All columns are correct Data Types"
   ]
  },
  {
   "cell_type": "code",
   "execution_count": 8,
   "id": "405d2a2c",
   "metadata": {},
   "outputs": [
    {
     "data": {
      "text/html": [
       "<div>\n",
       "<style scoped>\n",
       "    .dataframe tbody tr th:only-of-type {\n",
       "        vertical-align: middle;\n",
       "    }\n",
       "\n",
       "    .dataframe tbody tr th {\n",
       "        vertical-align: top;\n",
       "    }\n",
       "\n",
       "    .dataframe thead th {\n",
       "        text-align: right;\n",
       "    }\n",
       "</style>\n",
       "<table border=\"1\" class=\"dataframe\">\n",
       "  <thead>\n",
       "    <tr style=\"text-align: right;\">\n",
       "      <th></th>\n",
       "      <th>statusId</th>\n",
       "      <th>status</th>\n",
       "    </tr>\n",
       "  </thead>\n",
       "  <tbody>\n",
       "    <tr>\n",
       "      <th>0</th>\n",
       "      <td>1</td>\n",
       "      <td>Finished</td>\n",
       "    </tr>\n",
       "    <tr>\n",
       "      <th>1</th>\n",
       "      <td>2</td>\n",
       "      <td>Disqualified</td>\n",
       "    </tr>\n",
       "    <tr>\n",
       "      <th>2</th>\n",
       "      <td>3</td>\n",
       "      <td>Accident</td>\n",
       "    </tr>\n",
       "    <tr>\n",
       "      <th>3</th>\n",
       "      <td>4</td>\n",
       "      <td>Collision</td>\n",
       "    </tr>\n",
       "    <tr>\n",
       "      <th>4</th>\n",
       "      <td>5</td>\n",
       "      <td>Engine</td>\n",
       "    </tr>\n",
       "  </tbody>\n",
       "</table>\n",
       "</div>"
      ],
      "text/plain": [
       "   statusId        status\n",
       "0         1      Finished\n",
       "1         2  Disqualified\n",
       "2         3      Accident\n",
       "3         4     Collision\n",
       "4         5        Engine"
      ]
     },
     "execution_count": 8,
     "metadata": {},
     "output_type": "execute_result"
    }
   ],
   "source": [
    "f1_status.head()"
   ]
  },
  {
   "cell_type": "markdown",
   "id": "f611b52a",
   "metadata": {},
   "source": [
    "### Bring in Fatality DataFrame from Web Scrape"
   ]
  },
  {
   "cell_type": "code",
   "execution_count": 9,
   "id": "affb1201",
   "metadata": {},
   "outputs": [],
   "source": [
    "# Import \"World Champions\" data from Wikipedia\n",
    "\n",
    "fatalities_table = pd.read_html('https://en.wikipedia.org/wiki/\\\n",
    "List_of_Formula_One_fatalities',\n",
    "match=\"Fatalities by driver\")"
   ]
  },
  {
   "cell_type": "code",
   "execution_count": 10,
   "id": "a6f86257",
   "metadata": {},
   "outputs": [],
   "source": [
    "# Create DataFrame from Table\n",
    "\n",
    "f1_fatalities = pd.DataFrame(fatalities_table[0])"
   ]
  },
  {
   "cell_type": "code",
   "execution_count": 11,
   "id": "e00d5ba0",
   "metadata": {},
   "outputs": [],
   "source": [
    "# Wikipedia page has merged cells in header and footer\n",
    "# Save to csv and reimport, removing the first row and two bottom rows\n",
    "\n",
    "#f1_world_champions.to_csv('F1.csv')\n",
    "#f1_world_champions = pd.read_csv('F1.csv', index_col=0, skiprows=[1], skipfooter=2, engine='python')"
   ]
  },
  {
   "cell_type": "code",
   "execution_count": 12,
   "id": "30409e8f",
   "metadata": {},
   "outputs": [
    {
     "data": {
      "text/html": [
       "<div>\n",
       "<style scoped>\n",
       "    .dataframe tbody tr th:only-of-type {\n",
       "        vertical-align: middle;\n",
       "    }\n",
       "\n",
       "    .dataframe tbody tr th {\n",
       "        vertical-align: top;\n",
       "    }\n",
       "\n",
       "    .dataframe thead th {\n",
       "        text-align: right;\n",
       "    }\n",
       "</style>\n",
       "<table border=\"1\" class=\"dataframe\">\n",
       "  <thead>\n",
       "    <tr style=\"text-align: right;\">\n",
       "      <th></th>\n",
       "      <th>Driver</th>\n",
       "      <th>Date of accident</th>\n",
       "      <th>Event</th>\n",
       "      <th>Circuit</th>\n",
       "      <th>Car</th>\n",
       "      <th>Session</th>\n",
       "      <th>Ref(s).</th>\n",
       "    </tr>\n",
       "  </thead>\n",
       "  <tbody>\n",
       "    <tr>\n",
       "      <th>0</th>\n",
       "      <td>Cameron Earl (UK)</td>\n",
       "      <td>June 18, 1952</td>\n",
       "      <td>Test</td>\n",
       "      <td>MIRA</td>\n",
       "      <td>ERA</td>\n",
       "      <td>Test</td>\n",
       "      <td>[15]</td>\n",
       "    </tr>\n",
       "    <tr>\n",
       "      <th>1</th>\n",
       "      <td>Chet Miller (USA)</td>\n",
       "      <td>May 15, 1953</td>\n",
       "      <td>Indianapolis 500[note 1]</td>\n",
       "      <td>Indianapolis Motor Speedway</td>\n",
       "      <td>Kurtis Kraft</td>\n",
       "      <td>Practice</td>\n",
       "      <td>[17]</td>\n",
       "    </tr>\n",
       "    <tr>\n",
       "      <th>2</th>\n",
       "      <td>Charles de Tornaco (BEL)</td>\n",
       "      <td>September 18, 1953</td>\n",
       "      <td>Modena Grand Prix</td>\n",
       "      <td>Autodromo di Modena</td>\n",
       "      <td>Ferrari Tipo 500</td>\n",
       "      <td>Practice</td>\n",
       "      <td>[18]</td>\n",
       "    </tr>\n",
       "    <tr>\n",
       "      <th>3</th>\n",
       "      <td>Onofre Marimón (ARG)</td>\n",
       "      <td>July 31, 1954</td>\n",
       "      <td>German Grand Prix</td>\n",
       "      <td>Nürburgring</td>\n",
       "      <td>Maserati 250F</td>\n",
       "      <td>Practice</td>\n",
       "      <td>[17]</td>\n",
       "    </tr>\n",
       "    <tr>\n",
       "      <th>4</th>\n",
       "      <td>Mario Alborghetti (ITA)</td>\n",
       "      <td>April 11, 1955</td>\n",
       "      <td>Pau Grand Prix</td>\n",
       "      <td>Circuit de Pau-Ville</td>\n",
       "      <td>Maserati 4CLT</td>\n",
       "      <td>Race</td>\n",
       "      <td>[19]</td>\n",
       "    </tr>\n",
       "  </tbody>\n",
       "</table>\n",
       "</div>"
      ],
      "text/plain": [
       "                     Driver    Date of accident                     Event  \\\n",
       "0         Cameron Earl (UK)       June 18, 1952                      Test   \n",
       "1         Chet Miller (USA)        May 15, 1953  Indianapolis 500[note 1]   \n",
       "2  Charles de Tornaco (BEL)  September 18, 1953         Modena Grand Prix   \n",
       "3      Onofre Marimón (ARG)       July 31, 1954         German Grand Prix   \n",
       "4   Mario Alborghetti (ITA)      April 11, 1955            Pau Grand Prix   \n",
       "\n",
       "                       Circuit               Car   Session Ref(s).  \n",
       "0                         MIRA               ERA      Test    [15]  \n",
       "1  Indianapolis Motor Speedway      Kurtis Kraft  Practice    [17]  \n",
       "2          Autodromo di Modena  Ferrari Tipo 500  Practice    [18]  \n",
       "3                  Nürburgring     Maserati 250F  Practice    [17]  \n",
       "4         Circuit de Pau-Ville     Maserati 4CLT      Race    [19]  "
      ]
     },
     "execution_count": 12,
     "metadata": {},
     "output_type": "execute_result"
    }
   ],
   "source": [
    "# Inspect \"World Champions\" DataFrame\n",
    "\n",
    "f1_fatalities.head()\n",
    "\n",
    "# 74 entries with zero null values\n",
    "# Remove all columns except 'Season' & 'Driver'\n",
    "# Remove trailing data in both 'Season' & 'Driver' columns\n",
    "# Convert Season from object to Date\n",
    "# Required columns are correct Data Types"
   ]
  },
  {
   "cell_type": "code",
   "execution_count": null,
   "id": "2365205b",
   "metadata": {},
   "outputs": [],
   "source": []
  },
  {
   "cell_type": "code",
   "execution_count": 13,
   "id": "12dd1e22",
   "metadata": {},
   "outputs": [],
   "source": [
    "# Remove extraneous data in 'Driver' column\n",
    "\n",
    "f1_fatalities_Driver_split = f1_fatalities['Date of accident'].str.split(',', expand=True)\n",
    "\n",
    "#Assign back into original DataFrame\n",
    "\n",
    "f1_fatalities['Date of accident'] = f1_fatalities_Driver_split[1]\n",
    "f1_fatalities[\"Date of accident\"] = f1_fatalities[\"Date of accident\"].astype('int64')"
   ]
  },
  {
   "cell_type": "code",
   "execution_count": 14,
   "id": "b8566886",
   "metadata": {},
   "outputs": [
    {
     "name": "stdout",
     "output_type": "stream",
     "text": [
      "<class 'pandas.core.frame.DataFrame'>\n",
      "RangeIndex: 52 entries, 0 to 51\n",
      "Data columns (total 7 columns):\n",
      " #   Column            Non-Null Count  Dtype \n",
      "---  ------            --------------  ----- \n",
      " 0   Driver            52 non-null     object\n",
      " 1   Date of accident  52 non-null     int64 \n",
      " 2   Event             52 non-null     object\n",
      " 3   Circuit           52 non-null     object\n",
      " 4   Car               52 non-null     object\n",
      " 5   Session           52 non-null     object\n",
      " 6   Ref(s).           52 non-null     object\n",
      "dtypes: int64(1), object(6)\n",
      "memory usage: 3.0+ KB\n"
     ]
    }
   ],
   "source": [
    "f1_fatalities.info()"
   ]
  },
  {
   "cell_type": "code",
   "execution_count": 15,
   "id": "1f06bcc5",
   "metadata": {},
   "outputs": [],
   "source": [
    "# Remove extraneous data in 'Driver' column\n",
    "\n",
    "f1_fatalities_Driver_split = f1_fatalities['Driver'].str.split('(', expand=True)\n",
    "\n",
    "#Assign back into original DataFrame\n",
    "\n",
    "f1_fatalities['Driver'] = f1_fatalities_Driver_split[0]"
   ]
  },
  {
   "cell_type": "code",
   "execution_count": null,
   "id": "9abb0948",
   "metadata": {},
   "outputs": [],
   "source": []
  },
  {
   "cell_type": "code",
   "execution_count": 16,
   "id": "205f64b0",
   "metadata": {},
   "outputs": [],
   "source": [
    "# Remove all non F1 race deaths. Retain Only Events that are Grand Prix\n",
    "\n",
    "f1_fatalities = f1_fatalities[~f1_fatalities['Event'].str.contains('Grand') == False]"
   ]
  },
  {
   "cell_type": "code",
   "execution_count": 17,
   "id": "8bbcab3f",
   "metadata": {},
   "outputs": [
    {
     "data": {
      "text/html": [
       "<div>\n",
       "<style scoped>\n",
       "    .dataframe tbody tr th:only-of-type {\n",
       "        vertical-align: middle;\n",
       "    }\n",
       "\n",
       "    .dataframe tbody tr th {\n",
       "        vertical-align: top;\n",
       "    }\n",
       "\n",
       "    .dataframe thead th {\n",
       "        text-align: right;\n",
       "    }\n",
       "</style>\n",
       "<table border=\"1\" class=\"dataframe\">\n",
       "  <thead>\n",
       "    <tr style=\"text-align: right;\">\n",
       "      <th></th>\n",
       "      <th>Driver</th>\n",
       "      <th>Date of accident</th>\n",
       "      <th>Event</th>\n",
       "      <th>Circuit</th>\n",
       "      <th>Car</th>\n",
       "      <th>Session</th>\n",
       "      <th>Ref(s).</th>\n",
       "    </tr>\n",
       "  </thead>\n",
       "  <tbody>\n",
       "    <tr>\n",
       "      <th>2</th>\n",
       "      <td>Charles de Tornaco</td>\n",
       "      <td>1953</td>\n",
       "      <td>Modena Grand Prix</td>\n",
       "      <td>Autodromo di Modena</td>\n",
       "      <td>Ferrari Tipo 500</td>\n",
       "      <td>Practice</td>\n",
       "      <td>[18]</td>\n",
       "    </tr>\n",
       "    <tr>\n",
       "      <th>3</th>\n",
       "      <td>Onofre Marimón</td>\n",
       "      <td>1954</td>\n",
       "      <td>German Grand Prix</td>\n",
       "      <td>Nürburgring</td>\n",
       "      <td>Maserati 250F</td>\n",
       "      <td>Practice</td>\n",
       "      <td>[17]</td>\n",
       "    </tr>\n",
       "    <tr>\n",
       "      <th>4</th>\n",
       "      <td>Mario Alborghetti</td>\n",
       "      <td>1955</td>\n",
       "      <td>Pau Grand Prix</td>\n",
       "      <td>Circuit de Pau-Ville</td>\n",
       "      <td>Maserati 4CLT</td>\n",
       "      <td>Race</td>\n",
       "      <td>[19]</td>\n",
       "    </tr>\n",
       "    <tr>\n",
       "      <th>10</th>\n",
       "      <td>Luigi Musso</td>\n",
       "      <td>1958</td>\n",
       "      <td>French Grand Prix</td>\n",
       "      <td>Circuit de Reims-Gueux</td>\n",
       "      <td>Ferrari 246 F1</td>\n",
       "      <td>Race</td>\n",
       "      <td>[17]</td>\n",
       "    </tr>\n",
       "    <tr>\n",
       "      <th>11</th>\n",
       "      <td>Peter Collins</td>\n",
       "      <td>1958</td>\n",
       "      <td>German Grand Prix</td>\n",
       "      <td>Nürburgring</td>\n",
       "      <td>Ferrari 246 F1</td>\n",
       "      <td>Race</td>\n",
       "      <td>[22]</td>\n",
       "    </tr>\n",
       "  </tbody>\n",
       "</table>\n",
       "</div>"
      ],
      "text/plain": [
       "                 Driver  Date of accident              Event  \\\n",
       "2   Charles de Tornaco               1953  Modena Grand Prix   \n",
       "3       Onofre Marimón               1954  German Grand Prix   \n",
       "4    Mario Alborghetti               1955     Pau Grand Prix   \n",
       "10         Luigi Musso               1958  French Grand Prix   \n",
       "11       Peter Collins               1958  German Grand Prix   \n",
       "\n",
       "                   Circuit               Car   Session Ref(s).  \n",
       "2      Autodromo di Modena  Ferrari Tipo 500  Practice    [18]  \n",
       "3              Nürburgring     Maserati 250F  Practice    [17]  \n",
       "4     Circuit de Pau-Ville     Maserati 4CLT      Race    [19]  \n",
       "10  Circuit de Reims-Gueux    Ferrari 246 F1      Race    [17]  \n",
       "11             Nürburgring    Ferrari 246 F1      Race    [22]  "
      ]
     },
     "execution_count": 17,
     "metadata": {},
     "output_type": "execute_result"
    }
   ],
   "source": [
    "f1_fatalities.head()\n"
   ]
  },
  {
   "cell_type": "code",
   "execution_count": 18,
   "id": "adbbe2df",
   "metadata": {},
   "outputs": [
    {
     "name": "stdout",
     "output_type": "stream",
     "text": [
      "<class 'pandas.core.frame.DataFrame'>\n",
      "Int64Index: 30 entries, 2 to 51\n",
      "Data columns (total 7 columns):\n",
      " #   Column            Non-Null Count  Dtype \n",
      "---  ------            --------------  ----- \n",
      " 0   Driver            30 non-null     object\n",
      " 1   Date of accident  30 non-null     int64 \n",
      " 2   Event             30 non-null     object\n",
      " 3   Circuit           30 non-null     object\n",
      " 4   Car               30 non-null     object\n",
      " 5   Session           30 non-null     object\n",
      " 6   Ref(s).           30 non-null     object\n",
      "dtypes: int64(1), object(6)\n",
      "memory usage: 1.9+ KB\n"
     ]
    }
   ],
   "source": [
    "f1_fatalities.info()"
   ]
  },
  {
   "cell_type": "code",
   "execution_count": 19,
   "id": "a40becb2",
   "metadata": {},
   "outputs": [
    {
     "data": {
      "text/html": [
       "<div>\n",
       "<style scoped>\n",
       "    .dataframe tbody tr th:only-of-type {\n",
       "        vertical-align: middle;\n",
       "    }\n",
       "\n",
       "    .dataframe tbody tr th {\n",
       "        vertical-align: top;\n",
       "    }\n",
       "\n",
       "    .dataframe thead th {\n",
       "        text-align: right;\n",
       "    }\n",
       "</style>\n",
       "<table border=\"1\" class=\"dataframe\">\n",
       "  <thead>\n",
       "    <tr style=\"text-align: right;\">\n",
       "      <th></th>\n",
       "      <th>Driver</th>\n",
       "      <th>Date of accident</th>\n",
       "    </tr>\n",
       "  </thead>\n",
       "  <tbody>\n",
       "    <tr>\n",
       "      <th>0</th>\n",
       "      <td>Charles de Tornaco</td>\n",
       "      <td>1953</td>\n",
       "    </tr>\n",
       "    <tr>\n",
       "      <th>1</th>\n",
       "      <td>Onofre Marimón</td>\n",
       "      <td>1954</td>\n",
       "    </tr>\n",
       "    <tr>\n",
       "      <th>2</th>\n",
       "      <td>Mario Alborghetti</td>\n",
       "      <td>1955</td>\n",
       "    </tr>\n",
       "    <tr>\n",
       "      <th>3</th>\n",
       "      <td>Luigi Musso</td>\n",
       "      <td>1958</td>\n",
       "    </tr>\n",
       "    <tr>\n",
       "      <th>4</th>\n",
       "      <td>Peter Collins</td>\n",
       "      <td>1958</td>\n",
       "    </tr>\n",
       "    <tr>\n",
       "      <th>5</th>\n",
       "      <td>Stuart Lewis-Evans</td>\n",
       "      <td>1958</td>\n",
       "    </tr>\n",
       "    <tr>\n",
       "      <th>6</th>\n",
       "      <td>Chris Bristow</td>\n",
       "      <td>1960</td>\n",
       "    </tr>\n",
       "    <tr>\n",
       "      <th>7</th>\n",
       "      <td>Alan Stacey</td>\n",
       "      <td>1960</td>\n",
       "    </tr>\n",
       "    <tr>\n",
       "      <th>8</th>\n",
       "      <td>Wolfgang von Trips</td>\n",
       "      <td>1961</td>\n",
       "    </tr>\n",
       "    <tr>\n",
       "      <th>9</th>\n",
       "      <td>Ricardo Rodríguez</td>\n",
       "      <td>1962</td>\n",
       "    </tr>\n",
       "    <tr>\n",
       "      <th>10</th>\n",
       "      <td>Gary Hocking</td>\n",
       "      <td>1962</td>\n",
       "    </tr>\n",
       "    <tr>\n",
       "      <th>11</th>\n",
       "      <td>Carel Godin de Beaufort</td>\n",
       "      <td>1964</td>\n",
       "    </tr>\n",
       "    <tr>\n",
       "      <th>12</th>\n",
       "      <td>John Taylor</td>\n",
       "      <td>1966</td>\n",
       "    </tr>\n",
       "    <tr>\n",
       "      <th>13</th>\n",
       "      <td>Lorenzo Bandini</td>\n",
       "      <td>1967</td>\n",
       "    </tr>\n",
       "    <tr>\n",
       "      <th>14</th>\n",
       "      <td>Jo Schlesser</td>\n",
       "      <td>1968</td>\n",
       "    </tr>\n",
       "    <tr>\n",
       "      <th>15</th>\n",
       "      <td>Gerhard Mitter</td>\n",
       "      <td>1969</td>\n",
       "    </tr>\n",
       "    <tr>\n",
       "      <th>16</th>\n",
       "      <td>Piers Courage</td>\n",
       "      <td>1970</td>\n",
       "    </tr>\n",
       "    <tr>\n",
       "      <th>17</th>\n",
       "      <td>Jochen Rindt</td>\n",
       "      <td>1970</td>\n",
       "    </tr>\n",
       "    <tr>\n",
       "      <th>18</th>\n",
       "      <td>Roger Williamson</td>\n",
       "      <td>1973</td>\n",
       "    </tr>\n",
       "    <tr>\n",
       "      <th>19</th>\n",
       "      <td>François Cevert</td>\n",
       "      <td>1973</td>\n",
       "    </tr>\n",
       "    <tr>\n",
       "      <th>20</th>\n",
       "      <td>Helmuth Koinigg</td>\n",
       "      <td>1974</td>\n",
       "    </tr>\n",
       "    <tr>\n",
       "      <th>21</th>\n",
       "      <td>Mark Donohue</td>\n",
       "      <td>1975</td>\n",
       "    </tr>\n",
       "    <tr>\n",
       "      <th>22</th>\n",
       "      <td>Tom Pryce</td>\n",
       "      <td>1977</td>\n",
       "    </tr>\n",
       "    <tr>\n",
       "      <th>23</th>\n",
       "      <td>Ronnie Peterson</td>\n",
       "      <td>1978</td>\n",
       "    </tr>\n",
       "    <tr>\n",
       "      <th>24</th>\n",
       "      <td>Gilles Villeneuve</td>\n",
       "      <td>1982</td>\n",
       "    </tr>\n",
       "    <tr>\n",
       "      <th>25</th>\n",
       "      <td>Riccardo Paletti</td>\n",
       "      <td>1982</td>\n",
       "    </tr>\n",
       "    <tr>\n",
       "      <th>26</th>\n",
       "      <td>Roland Ratzenberger</td>\n",
       "      <td>1994</td>\n",
       "    </tr>\n",
       "    <tr>\n",
       "      <th>27</th>\n",
       "      <td>Ayrton Senna</td>\n",
       "      <td>1994</td>\n",
       "    </tr>\n",
       "    <tr>\n",
       "      <th>28</th>\n",
       "      <td>Jules Bianchi</td>\n",
       "      <td>2014</td>\n",
       "    </tr>\n",
       "    <tr>\n",
       "      <th>29</th>\n",
       "      <td>David Ferrer</td>\n",
       "      <td>2017</td>\n",
       "    </tr>\n",
       "  </tbody>\n",
       "</table>\n",
       "</div>"
      ],
      "text/plain": [
       "                      Driver  Date of accident\n",
       "0        Charles de Tornaco               1953\n",
       "1            Onofre Marimón               1954\n",
       "2         Mario Alborghetti               1955\n",
       "3               Luigi Musso               1958\n",
       "4             Peter Collins               1958\n",
       "5        Stuart Lewis-Evans               1958\n",
       "6             Chris Bristow               1960\n",
       "7               Alan Stacey               1960\n",
       "8        Wolfgang von Trips               1961\n",
       "9         Ricardo Rodríguez               1962\n",
       "10             Gary Hocking               1962\n",
       "11  Carel Godin de Beaufort               1964\n",
       "12              John Taylor               1966\n",
       "13          Lorenzo Bandini               1967\n",
       "14             Jo Schlesser               1968\n",
       "15           Gerhard Mitter               1969\n",
       "16            Piers Courage               1970\n",
       "17             Jochen Rindt               1970\n",
       "18         Roger Williamson               1973\n",
       "19          François Cevert               1973\n",
       "20          Helmuth Koinigg               1974\n",
       "21             Mark Donohue               1975\n",
       "22                Tom Pryce               1977\n",
       "23          Ronnie Peterson               1978\n",
       "24        Gilles Villeneuve               1982\n",
       "25         Riccardo Paletti               1982\n",
       "26      Roland Ratzenberger               1994\n",
       "27             Ayrton Senna               1994\n",
       "28            Jules Bianchi               2014\n",
       "29             David Ferrer               2017"
      ]
     },
     "execution_count": 19,
     "metadata": {},
     "output_type": "execute_result"
    }
   ],
   "source": [
    "# Drop all columns except Driver and Date of Accident\n",
    "\n",
    "f1_fatalities.drop(f1_fatalities.loc[:, 'Event':'Ref(s).'].columns, axis=1).reset_index(drop=True)"
   ]
  },
  {
   "cell_type": "markdown",
   "id": "3f1cb92e",
   "metadata": {},
   "source": [
    "### Import \"World Champions\" DataFrame from Wikipedia Web Scrape"
   ]
  },
  {
   "cell_type": "code",
   "execution_count": 20,
   "id": "9f226228",
   "metadata": {},
   "outputs": [],
   "source": [
    "# Import \"World Champions\" data from Wikipedia\n",
    "\n",
    "world_champions_table = pd.read_html('https://en.wikipedia.org/wiki/\\\n",
    "List_of_Formula_One_World_Drivers%27_Champions',\n",
    "match=\"World Drivers' Champions by season\")"
   ]
  },
  {
   "cell_type": "code",
   "execution_count": 21,
   "id": "fa30d83e",
   "metadata": {},
   "outputs": [],
   "source": [
    "# Create DataFrame from Table\n",
    "\n",
    "f1_world_champions = pd.DataFrame(world_champions_table[0])"
   ]
  },
  {
   "cell_type": "code",
   "execution_count": 22,
   "id": "002b4a70",
   "metadata": {},
   "outputs": [],
   "source": [
    "# Wikipedia page has merged cells in header and footer\n",
    "# Save to csv and reimport, removing the first row and two bottom rows\n",
    "\n",
    "f1_world_champions.to_csv('F1.csv')\n",
    "f1_world_champions = pd.read_csv('F1.csv', index_col=0, skiprows=[1], skipfooter=2, engine='python')"
   ]
  },
  {
   "cell_type": "code",
   "execution_count": 23,
   "id": "47d188ba",
   "metadata": {},
   "outputs": [
    {
     "name": "stdout",
     "output_type": "stream",
     "text": [
      "<class 'pandas.core.frame.DataFrame'>\n",
      "Int64Index: 74 entries, 0 to 73\n",
      "Data columns (total 16 columns):\n",
      " #   Column               Non-Null Count  Dtype  \n",
      "---  ------               --------------  -----  \n",
      " 0   Season               74 non-null     object \n",
      " 1   Driver               74 non-null     object \n",
      " 2   Age                  74 non-null     int64  \n",
      " 3   Constructor          74 non-null     object \n",
      " 4   Constructor.1        74 non-null     object \n",
      " 5   Tyres                74 non-null     object \n",
      " 6   Poles                74 non-null     int64  \n",
      " 7   Wins                 74 non-null     int64  \n",
      " 8   Podiums              74 non-null     int64  \n",
      " 9   Fastest laps         74 non-null     int64  \n",
      " 10  Points               74 non-null     float64\n",
      " 11  % Points             74 non-null     object \n",
      " 12  Clinched[17]         74 non-null     object \n",
      " 13  # of racesremaining  74 non-null     int64  \n",
      " 14  Margin               74 non-null     object \n",
      " 15  % Margin             74 non-null     object \n",
      "dtypes: float64(1), int64(6), object(9)\n",
      "memory usage: 9.8+ KB\n"
     ]
    }
   ],
   "source": [
    "# Inspect \"World Champions\" DataFrame\n",
    "\n",
    "f1_world_champions.info()\n",
    "\n",
    "# 74 entries with zero null values\n",
    "# Remove all columns except 'Season' & 'Driver'\n",
    "# Remove trailing data in both 'Season' & 'Driver' columns\n",
    "# Required columns are correct Data Types"
   ]
  },
  {
   "cell_type": "code",
   "execution_count": 24,
   "id": "278c441e",
   "metadata": {},
   "outputs": [
    {
     "data": {
      "text/html": [
       "<div>\n",
       "<style scoped>\n",
       "    .dataframe tbody tr th:only-of-type {\n",
       "        vertical-align: middle;\n",
       "    }\n",
       "\n",
       "    .dataframe tbody tr th {\n",
       "        vertical-align: top;\n",
       "    }\n",
       "\n",
       "    .dataframe thead th {\n",
       "        text-align: right;\n",
       "    }\n",
       "</style>\n",
       "<table border=\"1\" class=\"dataframe\">\n",
       "  <thead>\n",
       "    <tr style=\"text-align: right;\">\n",
       "      <th></th>\n",
       "      <th>Season</th>\n",
       "      <th>Driver</th>\n",
       "      <th>Age</th>\n",
       "      <th>Constructor</th>\n",
       "      <th>Constructor.1</th>\n",
       "      <th>Tyres</th>\n",
       "      <th>Poles</th>\n",
       "      <th>Wins</th>\n",
       "      <th>Podiums</th>\n",
       "      <th>Fastest laps</th>\n",
       "      <th>Points</th>\n",
       "      <th>% Points</th>\n",
       "      <th>Clinched[17]</th>\n",
       "      <th># of racesremaining</th>\n",
       "      <th>Margin</th>\n",
       "      <th>% Margin</th>\n",
       "    </tr>\n",
       "  </thead>\n",
       "  <tbody>\n",
       "    <tr>\n",
       "      <th>0</th>\n",
       "      <td>1950</td>\n",
       "      <td>Giuseppe Farina[20]</td>\n",
       "      <td>44</td>\n",
       "      <td>Alfa Romeo</td>\n",
       "      <td>Alfa Romeo</td>\n",
       "      <td>P</td>\n",
       "      <td>2</td>\n",
       "      <td>3</td>\n",
       "      <td>3</td>\n",
       "      <td>3</td>\n",
       "      <td>30.0</td>\n",
       "      <td>83.333 (47.619)</td>\n",
       "      <td>Race 7 of 7</td>\n",
       "      <td>0</td>\n",
       "      <td>3</td>\n",
       "      <td>10.000</td>\n",
       "    </tr>\n",
       "    <tr>\n",
       "      <th>1</th>\n",
       "      <td>1951</td>\n",
       "      <td>Juan Manuel Fangio[21]</td>\n",
       "      <td>40</td>\n",
       "      <td>Alfa Romeo</td>\n",
       "      <td>Alfa Romeo</td>\n",
       "      <td>P</td>\n",
       "      <td>4</td>\n",
       "      <td>3</td>\n",
       "      <td>5</td>\n",
       "      <td>5</td>\n",
       "      <td>31.0</td>\n",
       "      <td>86.111 (51.389)</td>\n",
       "      <td>Race 8 of 8</td>\n",
       "      <td>0</td>\n",
       "      <td>6</td>\n",
       "      <td>19.355</td>\n",
       "    </tr>\n",
       "    <tr>\n",
       "      <th>2</th>\n",
       "      <td>1952[a]</td>\n",
       "      <td>Alberto Ascari[23]</td>\n",
       "      <td>34</td>\n",
       "      <td>Ferrari</td>\n",
       "      <td>Ferrari</td>\n",
       "      <td>F P</td>\n",
       "      <td>5</td>\n",
       "      <td>6</td>\n",
       "      <td>6</td>\n",
       "      <td>6</td>\n",
       "      <td>36.0</td>\n",
       "      <td>100.000 (74.306)</td>\n",
       "      <td>Race 6 of 8</td>\n",
       "      <td>2</td>\n",
       "      <td>12</td>\n",
       "      <td>33.333</td>\n",
       "    </tr>\n",
       "    <tr>\n",
       "      <th>3</th>\n",
       "      <td>1953[a]</td>\n",
       "      <td>Alberto Ascari[23]</td>\n",
       "      <td>35</td>\n",
       "      <td>Ferrari</td>\n",
       "      <td>Ferrari</td>\n",
       "      <td>P</td>\n",
       "      <td>6</td>\n",
       "      <td>5</td>\n",
       "      <td>5</td>\n",
       "      <td>4</td>\n",
       "      <td>34.5</td>\n",
       "      <td>95.833 (57.764)</td>\n",
       "      <td>Race 8 of 9</td>\n",
       "      <td>1</td>\n",
       "      <td>6.5</td>\n",
       "      <td>18.841</td>\n",
       "    </tr>\n",
       "    <tr>\n",
       "      <th>4</th>\n",
       "      <td>1954</td>\n",
       "      <td>Juan Manuel Fangio[21]</td>\n",
       "      <td>43</td>\n",
       "      <td>Maserati[b]</td>\n",
       "      <td>Maserati</td>\n",
       "      <td>P</td>\n",
       "      <td>5</td>\n",
       "      <td>6</td>\n",
       "      <td>7</td>\n",
       "      <td>3</td>\n",
       "      <td>42.0</td>\n",
       "      <td>93.333 (70.547)</td>\n",
       "      <td>Race 7 of 9</td>\n",
       "      <td>2</td>\n",
       "      <td>16.857</td>\n",
       "      <td>40.136</td>\n",
       "    </tr>\n",
       "  </tbody>\n",
       "</table>\n",
       "</div>"
      ],
      "text/plain": [
       "    Season                  Driver  Age  Constructor Constructor.1 Tyres  \\\n",
       "0     1950     Giuseppe Farina[20]   44   Alfa Romeo    Alfa Romeo     P   \n",
       "1     1951  Juan Manuel Fangio[21]   40   Alfa Romeo    Alfa Romeo     P   \n",
       "2  1952[a]      Alberto Ascari[23]   34      Ferrari       Ferrari   F P   \n",
       "3  1953[a]      Alberto Ascari[23]   35      Ferrari       Ferrari     P   \n",
       "4     1954  Juan Manuel Fangio[21]   43  Maserati[b]      Maserati     P   \n",
       "\n",
       "   Poles  Wins  Podiums  Fastest laps  Points          % Points Clinched[17]  \\\n",
       "0      2     3        3             3    30.0   83.333 (47.619)  Race 7 of 7   \n",
       "1      4     3        5             5    31.0   86.111 (51.389)  Race 8 of 8   \n",
       "2      5     6        6             6    36.0  100.000 (74.306)  Race 6 of 8   \n",
       "3      6     5        5             4    34.5   95.833 (57.764)  Race 8 of 9   \n",
       "4      5     6        7             3    42.0   93.333 (70.547)  Race 7 of 9   \n",
       "\n",
       "   # of racesremaining  Margin % Margin  \n",
       "0                    0       3   10.000  \n",
       "1                    0       6   19.355  \n",
       "2                    2      12   33.333  \n",
       "3                    1     6.5   18.841  \n",
       "4                    2  16.857   40.136  "
      ]
     },
     "execution_count": 24,
     "metadata": {},
     "output_type": "execute_result"
    }
   ],
   "source": [
    "f1_world_champions.head()"
   ]
  },
  {
   "cell_type": "code",
   "execution_count": 25,
   "id": "10f3c5ec",
   "metadata": {},
   "outputs": [],
   "source": [
    "# Remove trailing data from season and driver\n",
    "\n",
    "f1_world_champions_split = f1_world_champions['Season'].str.split('[', expand=True)\n",
    "f1_world_champions['Season'] = f1_world_champions_split[0]\n",
    "f1_world_champions_split = f1_world_champions['Driver'].str.split('[', expand=True)\n",
    "f1_world_champions['Driver'] = f1_world_champions_split[0]"
   ]
  },
  {
   "cell_type": "code",
   "execution_count": 26,
   "id": "2f246e90",
   "metadata": {},
   "outputs": [],
   "source": [
    "# Remove unwanted columns\n",
    "\n",
    "f1_world_champions.drop(f1_world_champions.loc[:,'Age':'% Margin'].columns, axis=1, inplace=True)"
   ]
  },
  {
   "cell_type": "code",
   "execution_count": 27,
   "id": "e4c61de4",
   "metadata": {},
   "outputs": [],
   "source": [
    "# Groupby DataFrame and save\n",
    "\n",
    "f1_world_champions=f1_world_champions.groupby([ \"Driver\"]).size().to_frame(name = 'TimesWorldChampion').reset_index()"
   ]
  },
  {
   "cell_type": "code",
   "execution_count": 28,
   "id": "1bdfe2ec",
   "metadata": {},
   "outputs": [],
   "source": [
    "f1_world_champions = f1_world_champions.sort_values('TimesWorldChampion', ascending = False).reset_index(drop=True)"
   ]
  },
  {
   "cell_type": "code",
   "execution_count": 29,
   "id": "f8b64440",
   "metadata": {},
   "outputs": [
    {
     "data": {
      "text/html": [
       "<div>\n",
       "<style scoped>\n",
       "    .dataframe tbody tr th:only-of-type {\n",
       "        vertical-align: middle;\n",
       "    }\n",
       "\n",
       "    .dataframe tbody tr th {\n",
       "        vertical-align: top;\n",
       "    }\n",
       "\n",
       "    .dataframe thead th {\n",
       "        text-align: right;\n",
       "    }\n",
       "</style>\n",
       "<table border=\"1\" class=\"dataframe\">\n",
       "  <thead>\n",
       "    <tr style=\"text-align: right;\">\n",
       "      <th></th>\n",
       "      <th>Driver</th>\n",
       "      <th>TimesWorldChampion</th>\n",
       "    </tr>\n",
       "  </thead>\n",
       "  <tbody>\n",
       "    <tr>\n",
       "      <th>0</th>\n",
       "      <td>Michael Schumacher</td>\n",
       "      <td>7</td>\n",
       "    </tr>\n",
       "    <tr>\n",
       "      <th>1</th>\n",
       "      <td>Lewis Hamilton</td>\n",
       "      <td>7</td>\n",
       "    </tr>\n",
       "    <tr>\n",
       "      <th>2</th>\n",
       "      <td>Juan Manuel Fangio</td>\n",
       "      <td>6</td>\n",
       "    </tr>\n",
       "    <tr>\n",
       "      <th>3</th>\n",
       "      <td>Alain Prost</td>\n",
       "      <td>4</td>\n",
       "    </tr>\n",
       "    <tr>\n",
       "      <th>4</th>\n",
       "      <td>Sebastian Vettel</td>\n",
       "      <td>4</td>\n",
       "    </tr>\n",
       "  </tbody>\n",
       "</table>\n",
       "</div>"
      ],
      "text/plain": [
       "               Driver  TimesWorldChampion\n",
       "0  Michael Schumacher                   7\n",
       "1      Lewis Hamilton                   7\n",
       "2  Juan Manuel Fangio                   6\n",
       "3         Alain Prost                   4\n",
       "4    Sebastian Vettel                   4"
      ]
     },
     "execution_count": 29,
     "metadata": {},
     "output_type": "execute_result"
    }
   ],
   "source": [
    "f1_world_champions.head()"
   ]
  },
  {
   "cell_type": "markdown",
   "id": "1b214af5",
   "metadata": {},
   "source": [
    "### Inspect & Reformat \"Drivers\" DataFrame"
   ]
  },
  {
   "cell_type": "code",
   "execution_count": 30,
   "id": "2c364261",
   "metadata": {},
   "outputs": [
    {
     "name": "stdout",
     "output_type": "stream",
     "text": [
      "<class 'pandas.core.frame.DataFrame'>\n",
      "RangeIndex: 855 entries, 0 to 854\n",
      "Data columns (total 9 columns):\n",
      " #   Column       Non-Null Count  Dtype \n",
      "---  ------       --------------  ----- \n",
      " 0   driverId     855 non-null    int64 \n",
      " 1   driverRef    855 non-null    object\n",
      " 2   number       855 non-null    object\n",
      " 3   code         855 non-null    object\n",
      " 4   forename     855 non-null    object\n",
      " 5   surname      855 non-null    object\n",
      " 6   dob          855 non-null    object\n",
      " 7   nationality  855 non-null    object\n",
      " 8   url          855 non-null    object\n",
      "dtypes: int64(1), object(8)\n",
      "memory usage: 60.2+ KB\n"
     ]
    }
   ],
   "source": [
    "# Inspect \"Drivers\" DataFrame\n",
    "\n",
    "f1_drivers.info()\n",
    "\n",
    "# 855 entries with zero null values\n",
    "# Remove all columns except 'driverId',  'forename', 'surname' & 'nationality'\n",
    "# Required columns are correct Data Types"
   ]
  },
  {
   "cell_type": "code",
   "execution_count": 31,
   "id": "2936fd57",
   "metadata": {},
   "outputs": [],
   "source": [
    "# Drop all columns except 'driverId',  'forename', 'surname' & 'nationality'\n",
    "\n",
    "cols = [1,2,3,6,8]\n",
    "f1_drivers.drop(f1_drivers.columns[cols],axis=1,inplace=True)"
   ]
  },
  {
   "cell_type": "code",
   "execution_count": 32,
   "id": "399a748c",
   "metadata": {},
   "outputs": [],
   "source": [
    "# Create 'Full Name' column in DataFrame\n",
    "\n",
    "f1_drivers[\"fullname\"] = f1_drivers[\"forename\"] + ' ' + f1_drivers[\"surname\"]"
   ]
  },
  {
   "cell_type": "code",
   "execution_count": 33,
   "id": "215a29fd",
   "metadata": {},
   "outputs": [],
   "source": [
    "# Move 'full name' position to after 'surname''\n",
    "\n",
    "f1_drivers = f1_drivers.reindex(['driverId', 'forename', 'surname', 'fullname', 'nationality'], axis=1)"
   ]
  },
  {
   "cell_type": "code",
   "execution_count": 34,
   "id": "1a187d8f",
   "metadata": {},
   "outputs": [
    {
     "name": "stdout",
     "output_type": "stream",
     "text": [
      "<class 'pandas.core.frame.DataFrame'>\n",
      "RangeIndex: 855 entries, 0 to 854\n",
      "Data columns (total 5 columns):\n",
      " #   Column       Non-Null Count  Dtype \n",
      "---  ------       --------------  ----- \n",
      " 0   driverId     855 non-null    int64 \n",
      " 1   forename     855 non-null    object\n",
      " 2   surname      855 non-null    object\n",
      " 3   fullname     855 non-null    object\n",
      " 4   nationality  855 non-null    object\n",
      "dtypes: int64(1), object(4)\n",
      "memory usage: 33.5+ KB\n"
     ]
    }
   ],
   "source": [
    "f1_drivers.info()"
   ]
  },
  {
   "cell_type": "markdown",
   "id": "0ec0279d",
   "metadata": {},
   "source": [
    "Because the World Champion data is coming from a different source, check to ensure that full names are consistent in both DataFrames"
   ]
  },
  {
   "cell_type": "code",
   "execution_count": 35,
   "id": "df3db30c",
   "metadata": {},
   "outputs": [],
   "source": [
    "# check drivers to world champions on fullname\n",
    "f1_name_check = pd.merge(f1_drivers,f1_world_champions, left_on='fullname', right_on='Driver', how='right')\n"
   ]
  },
  {
   "cell_type": "code",
   "execution_count": 36,
   "id": "1f0d93ef",
   "metadata": {},
   "outputs": [
    {
     "data": {
      "text/html": [
       "<div>\n",
       "<style scoped>\n",
       "    .dataframe tbody tr th:only-of-type {\n",
       "        vertical-align: middle;\n",
       "    }\n",
       "\n",
       "    .dataframe tbody tr th {\n",
       "        vertical-align: top;\n",
       "    }\n",
       "\n",
       "    .dataframe thead th {\n",
       "        text-align: right;\n",
       "    }\n",
       "</style>\n",
       "<table border=\"1\" class=\"dataframe\">\n",
       "  <thead>\n",
       "    <tr style=\"text-align: right;\">\n",
       "      <th></th>\n",
       "      <th>driverId</th>\n",
       "      <th>forename</th>\n",
       "      <th>surname</th>\n",
       "      <th>fullname</th>\n",
       "      <th>nationality</th>\n",
       "      <th>Driver</th>\n",
       "      <th>TimesWorldChampion</th>\n",
       "    </tr>\n",
       "  </thead>\n",
       "  <tbody>\n",
       "    <tr>\n",
       "      <th>2</th>\n",
       "      <td>NaN</td>\n",
       "      <td>NaN</td>\n",
       "      <td>NaN</td>\n",
       "      <td>NaN</td>\n",
       "      <td>NaN</td>\n",
       "      <td>Juan Manuel Fangio</td>\n",
       "      <td>6</td>\n",
       "    </tr>\n",
       "    <tr>\n",
       "      <th>32</th>\n",
       "      <td>NaN</td>\n",
       "      <td>NaN</td>\n",
       "      <td>NaN</td>\n",
       "      <td>NaN</td>\n",
       "      <td>NaN</td>\n",
       "      <td>Giuseppe Farina</td>\n",
       "      <td>1</td>\n",
       "    </tr>\n",
       "  </tbody>\n",
       "</table>\n",
       "</div>"
      ],
      "text/plain": [
       "    driverId forename surname fullname nationality              Driver  \\\n",
       "2        NaN      NaN     NaN      NaN         NaN  Juan Manuel Fangio   \n",
       "32       NaN      NaN     NaN      NaN         NaN     Giuseppe Farina   \n",
       "\n",
       "    TimesWorldChampion  \n",
       "2                    6  \n",
       "32                   1  "
      ]
     },
     "execution_count": 36,
     "metadata": {},
     "output_type": "execute_result"
    }
   ],
   "source": [
    "f1_name_check[f1_name_check['fullname'].isna()]"
   ]
  },
  {
   "cell_type": "code",
   "execution_count": 37,
   "id": "94c14807",
   "metadata": {},
   "outputs": [
    {
     "name": "stdout",
     "output_type": "stream",
     "text": [
      "     driverId forename surname     fullname nationality\n",
      "579       579     Juan  Fangio  Juan Fangio   Argentine\n",
      "642       642     Nino  Farina  Nino Farina     Italian\n"
     ]
    }
   ],
   "source": [
    "#find impacted rows in f1_drivers\n",
    "\n",
    "f1_name_check = f1_drivers[f1_drivers.eval(\"surname == 'Fangio' or \\\n",
    "                                            surname == 'Farina'\")]\n",
    "print(f1_name_check)"
   ]
  },
  {
   "cell_type": "code",
   "execution_count": 38,
   "id": "9357420a",
   "metadata": {},
   "outputs": [],
   "source": [
    " # change forenames and surnames in f1_driver\n",
    "\n",
    "f1_drivers['forename'] = f1_drivers['forename'].str.replace('Nino','Giuseppe')\n",
    "f1_drivers['forename'] = f1_drivers['forename'].str.replace('Juan','Juan Manuel')\n",
    "f1_drivers['fullname'] = f1_drivers['fullname'].str.replace('Nino Farina','Giuseppe Farina')\n",
    "f1_drivers['fullname'] = f1_drivers['fullname'].str.replace('Juan Fangio','Juan Manuel Fangio')\n"
   ]
  },
  {
   "cell_type": "code",
   "execution_count": 39,
   "id": "48adb418",
   "metadata": {},
   "outputs": [
    {
     "name": "stdout",
     "output_type": "stream",
     "text": [
      "     driverId     forename surname            fullname nationality\n",
      "579       579  Juan Manuel  Fangio  Juan Manuel Fangio   Argentine\n",
      "642       642     Giuseppe  Farina     Giuseppe Farina     Italian\n"
     ]
    }
   ],
   "source": [
    "print(f1_drivers.loc[f1_drivers['fullname'].isin(['Juan Manuel Fangio', 'Giuseppe Farina'])])"
   ]
  },
  {
   "cell_type": "code",
   "execution_count": 40,
   "id": "886d6ec9",
   "metadata": {},
   "outputs": [
    {
     "data": {
      "text/plain": [
       "driverId       0\n",
       "forename       0\n",
       "surname        0\n",
       "fullname       0\n",
       "nationality    0\n",
       "dtype: int64"
      ]
     },
     "execution_count": 40,
     "metadata": {},
     "output_type": "execute_result"
    }
   ],
   "source": [
    "f1_drivers.isna().sum()"
   ]
  },
  {
   "cell_type": "markdown",
   "id": "b8501d1e",
   "metadata": {},
   "source": [
    "### Merge \"World Champions\" DataFrame into \"Drivers\" DataFrame"
   ]
  },
  {
   "cell_type": "code",
   "execution_count": 41,
   "id": "2962c17e",
   "metadata": {},
   "outputs": [
    {
     "data": {
      "text/html": [
       "<div>\n",
       "<style scoped>\n",
       "    .dataframe tbody tr th:only-of-type {\n",
       "        vertical-align: middle;\n",
       "    }\n",
       "\n",
       "    .dataframe tbody tr th {\n",
       "        vertical-align: top;\n",
       "    }\n",
       "\n",
       "    .dataframe thead th {\n",
       "        text-align: right;\n",
       "    }\n",
       "</style>\n",
       "<table border=\"1\" class=\"dataframe\">\n",
       "  <thead>\n",
       "    <tr style=\"text-align: right;\">\n",
       "      <th></th>\n",
       "      <th>driverId</th>\n",
       "      <th>forename</th>\n",
       "      <th>surname</th>\n",
       "      <th>fullname</th>\n",
       "      <th>nationality</th>\n",
       "    </tr>\n",
       "  </thead>\n",
       "  <tbody>\n",
       "    <tr>\n",
       "      <th>0</th>\n",
       "      <td>1</td>\n",
       "      <td>Lewis</td>\n",
       "      <td>Hamilton</td>\n",
       "      <td>Lewis Hamilton</td>\n",
       "      <td>British</td>\n",
       "    </tr>\n",
       "    <tr>\n",
       "      <th>1</th>\n",
       "      <td>2</td>\n",
       "      <td>Nick</td>\n",
       "      <td>Heidfeld</td>\n",
       "      <td>Nick Heidfeld</td>\n",
       "      <td>German</td>\n",
       "    </tr>\n",
       "    <tr>\n",
       "      <th>2</th>\n",
       "      <td>3</td>\n",
       "      <td>Nico</td>\n",
       "      <td>Rosberg</td>\n",
       "      <td>Nico Rosberg</td>\n",
       "      <td>German</td>\n",
       "    </tr>\n",
       "    <tr>\n",
       "      <th>3</th>\n",
       "      <td>4</td>\n",
       "      <td>Fernando</td>\n",
       "      <td>Alonso</td>\n",
       "      <td>Fernando Alonso</td>\n",
       "      <td>Spanish</td>\n",
       "    </tr>\n",
       "    <tr>\n",
       "      <th>4</th>\n",
       "      <td>5</td>\n",
       "      <td>Heikki</td>\n",
       "      <td>Kovalainen</td>\n",
       "      <td>Heikki Kovalainen</td>\n",
       "      <td>Finnish</td>\n",
       "    </tr>\n",
       "    <tr>\n",
       "      <th>5</th>\n",
       "      <td>6</td>\n",
       "      <td>Kazuki</td>\n",
       "      <td>Nakajima</td>\n",
       "      <td>Kazuki Nakajima</td>\n",
       "      <td>Japanese</td>\n",
       "    </tr>\n",
       "    <tr>\n",
       "      <th>6</th>\n",
       "      <td>7</td>\n",
       "      <td>Sébastien</td>\n",
       "      <td>Bourdais</td>\n",
       "      <td>Sébastien Bourdais</td>\n",
       "      <td>French</td>\n",
       "    </tr>\n",
       "    <tr>\n",
       "      <th>7</th>\n",
       "      <td>8</td>\n",
       "      <td>Kimi</td>\n",
       "      <td>Räikkönen</td>\n",
       "      <td>Kimi Räikkönen</td>\n",
       "      <td>Finnish</td>\n",
       "    </tr>\n",
       "    <tr>\n",
       "      <th>8</th>\n",
       "      <td>9</td>\n",
       "      <td>Robert</td>\n",
       "      <td>Kubica</td>\n",
       "      <td>Robert Kubica</td>\n",
       "      <td>Polish</td>\n",
       "    </tr>\n",
       "    <tr>\n",
       "      <th>9</th>\n",
       "      <td>10</td>\n",
       "      <td>Timo</td>\n",
       "      <td>Glock</td>\n",
       "      <td>Timo Glock</td>\n",
       "      <td>German</td>\n",
       "    </tr>\n",
       "  </tbody>\n",
       "</table>\n",
       "</div>"
      ],
      "text/plain": [
       "   driverId   forename     surname            fullname nationality\n",
       "0         1      Lewis    Hamilton      Lewis Hamilton     British\n",
       "1         2       Nick    Heidfeld       Nick Heidfeld      German\n",
       "2         3       Nico     Rosberg        Nico Rosberg      German\n",
       "3         4   Fernando      Alonso     Fernando Alonso     Spanish\n",
       "4         5     Heikki  Kovalainen   Heikki Kovalainen     Finnish\n",
       "5         6     Kazuki    Nakajima     Kazuki Nakajima    Japanese\n",
       "6         7  Sébastien    Bourdais  Sébastien Bourdais      French\n",
       "7         8       Kimi   Räikkönen      Kimi Räikkönen     Finnish\n",
       "8         9     Robert      Kubica       Robert Kubica      Polish\n",
       "9        10       Timo       Glock          Timo Glock      German"
      ]
     },
     "execution_count": 41,
     "metadata": {},
     "output_type": "execute_result"
    }
   ],
   "source": [
    "f1_drivers.head(10)"
   ]
  },
  {
   "cell_type": "code",
   "execution_count": null,
   "id": "33ef6f4e",
   "metadata": {},
   "outputs": [],
   "source": []
  },
  {
   "cell_type": "code",
   "execution_count": null,
   "id": "99515065",
   "metadata": {},
   "outputs": [],
   "source": []
  },
  {
   "cell_type": "code",
   "execution_count": 42,
   "id": "a0c68803",
   "metadata": {},
   "outputs": [],
   "source": [
    "# Merge \"Warld Champions\" data into \"Drivers\"\n",
    "\n",
    "f1_drivers = pd.merge(f1_drivers,f1_world_champions, left_on='fullname', right_on='Driver', how='outer')\n",
    "\n"
   ]
  },
  {
   "cell_type": "code",
   "execution_count": 46,
   "id": "4f6e453f",
   "metadata": {},
   "outputs": [],
   "source": [
    "# Remove unwanted columns\n",
    "f1_drivers.drop(['Driver'], axis=1, inplace=True)"
   ]
  },
  {
   "cell_type": "code",
   "execution_count": null,
   "id": "0bb4f2af",
   "metadata": {},
   "outputs": [],
   "source": []
  },
  {
   "cell_type": "code",
   "execution_count": 47,
   "id": "3b21f0e9",
   "metadata": {},
   "outputs": [
    {
     "data": {
      "text/html": [
       "<div>\n",
       "<style scoped>\n",
       "    .dataframe tbody tr th:only-of-type {\n",
       "        vertical-align: middle;\n",
       "    }\n",
       "\n",
       "    .dataframe tbody tr th {\n",
       "        vertical-align: top;\n",
       "    }\n",
       "\n",
       "    .dataframe thead th {\n",
       "        text-align: right;\n",
       "    }\n",
       "</style>\n",
       "<table border=\"1\" class=\"dataframe\">\n",
       "  <thead>\n",
       "    <tr style=\"text-align: right;\">\n",
       "      <th></th>\n",
       "      <th>driverId</th>\n",
       "      <th>forename</th>\n",
       "      <th>surname</th>\n",
       "      <th>fullname</th>\n",
       "      <th>nationality</th>\n",
       "      <th>TimesWorldChampion</th>\n",
       "    </tr>\n",
       "  </thead>\n",
       "  <tbody>\n",
       "    <tr>\n",
       "      <th>0</th>\n",
       "      <td>1</td>\n",
       "      <td>Lewis</td>\n",
       "      <td>Hamilton</td>\n",
       "      <td>Lewis Hamilton</td>\n",
       "      <td>British</td>\n",
       "      <td>7.0</td>\n",
       "    </tr>\n",
       "    <tr>\n",
       "      <th>1</th>\n",
       "      <td>2</td>\n",
       "      <td>Nick</td>\n",
       "      <td>Heidfeld</td>\n",
       "      <td>Nick Heidfeld</td>\n",
       "      <td>German</td>\n",
       "      <td>NaN</td>\n",
       "    </tr>\n",
       "    <tr>\n",
       "      <th>2</th>\n",
       "      <td>3</td>\n",
       "      <td>Nico</td>\n",
       "      <td>Rosberg</td>\n",
       "      <td>Nico Rosberg</td>\n",
       "      <td>German</td>\n",
       "      <td>1.0</td>\n",
       "    </tr>\n",
       "    <tr>\n",
       "      <th>3</th>\n",
       "      <td>4</td>\n",
       "      <td>Fernando</td>\n",
       "      <td>Alonso</td>\n",
       "      <td>Fernando Alonso</td>\n",
       "      <td>Spanish</td>\n",
       "      <td>2.0</td>\n",
       "    </tr>\n",
       "    <tr>\n",
       "      <th>4</th>\n",
       "      <td>5</td>\n",
       "      <td>Heikki</td>\n",
       "      <td>Kovalainen</td>\n",
       "      <td>Heikki Kovalainen</td>\n",
       "      <td>Finnish</td>\n",
       "      <td>NaN</td>\n",
       "    </tr>\n",
       "    <tr>\n",
       "      <th>5</th>\n",
       "      <td>6</td>\n",
       "      <td>Kazuki</td>\n",
       "      <td>Nakajima</td>\n",
       "      <td>Kazuki Nakajima</td>\n",
       "      <td>Japanese</td>\n",
       "      <td>NaN</td>\n",
       "    </tr>\n",
       "    <tr>\n",
       "      <th>6</th>\n",
       "      <td>7</td>\n",
       "      <td>Sébastien</td>\n",
       "      <td>Bourdais</td>\n",
       "      <td>Sébastien Bourdais</td>\n",
       "      <td>French</td>\n",
       "      <td>NaN</td>\n",
       "    </tr>\n",
       "    <tr>\n",
       "      <th>7</th>\n",
       "      <td>8</td>\n",
       "      <td>Kimi</td>\n",
       "      <td>Räikkönen</td>\n",
       "      <td>Kimi Räikkönen</td>\n",
       "      <td>Finnish</td>\n",
       "      <td>1.0</td>\n",
       "    </tr>\n",
       "    <tr>\n",
       "      <th>8</th>\n",
       "      <td>9</td>\n",
       "      <td>Robert</td>\n",
       "      <td>Kubica</td>\n",
       "      <td>Robert Kubica</td>\n",
       "      <td>Polish</td>\n",
       "      <td>NaN</td>\n",
       "    </tr>\n",
       "    <tr>\n",
       "      <th>9</th>\n",
       "      <td>10</td>\n",
       "      <td>Timo</td>\n",
       "      <td>Glock</td>\n",
       "      <td>Timo Glock</td>\n",
       "      <td>German</td>\n",
       "      <td>NaN</td>\n",
       "    </tr>\n",
       "  </tbody>\n",
       "</table>\n",
       "</div>"
      ],
      "text/plain": [
       "   driverId   forename     surname            fullname nationality  \\\n",
       "0         1      Lewis    Hamilton      Lewis Hamilton     British   \n",
       "1         2       Nick    Heidfeld       Nick Heidfeld      German   \n",
       "2         3       Nico     Rosberg        Nico Rosberg      German   \n",
       "3         4   Fernando      Alonso     Fernando Alonso     Spanish   \n",
       "4         5     Heikki  Kovalainen   Heikki Kovalainen     Finnish   \n",
       "5         6     Kazuki    Nakajima     Kazuki Nakajima    Japanese   \n",
       "6         7  Sébastien    Bourdais  Sébastien Bourdais      French   \n",
       "7         8       Kimi   Räikkönen      Kimi Räikkönen     Finnish   \n",
       "8         9     Robert      Kubica       Robert Kubica      Polish   \n",
       "9        10       Timo       Glock          Timo Glock      German   \n",
       "\n",
       "   TimesWorldChampion  \n",
       "0                 7.0  \n",
       "1                 NaN  \n",
       "2                 1.0  \n",
       "3                 2.0  \n",
       "4                 NaN  \n",
       "5                 NaN  \n",
       "6                 NaN  \n",
       "7                 1.0  \n",
       "8                 NaN  \n",
       "9                 NaN  "
      ]
     },
     "execution_count": 47,
     "metadata": {},
     "output_type": "execute_result"
    }
   ],
   "source": [
    "# Inspect f1_drivers post-merge \n",
    "\n",
    "f1_drivers.head(10)"
   ]
  },
  {
   "cell_type": "code",
   "execution_count": 48,
   "id": "5a834ec1",
   "metadata": {},
   "outputs": [],
   "source": [
    "# Replace NULL values with zero\n",
    "\n",
    "f1_drivers['TimesWorldChampion'] = f1_drivers['TimesWorldChampion'].fillna(0).astype(np.int64)"
   ]
  },
  {
   "cell_type": "code",
   "execution_count": 49,
   "id": "e865b622",
   "metadata": {},
   "outputs": [],
   "source": [
    "# Change driverId from float to int\n",
    "\n",
    "f1_drivers['driverId'] = f1_drivers['driverId'].astype(np.int64)"
   ]
  },
  {
   "cell_type": "code",
   "execution_count": 50,
   "id": "0af50bc7",
   "metadata": {},
   "outputs": [
    {
     "name": "stdout",
     "output_type": "stream",
     "text": [
      "<class 'pandas.core.frame.DataFrame'>\n",
      "Int64Index: 855 entries, 0 to 854\n",
      "Data columns (total 6 columns):\n",
      " #   Column              Non-Null Count  Dtype \n",
      "---  ------              --------------  ----- \n",
      " 0   driverId            855 non-null    int64 \n",
      " 1   forename            855 non-null    object\n",
      " 2   surname             855 non-null    object\n",
      " 3   fullname            855 non-null    object\n",
      " 4   nationality         855 non-null    object\n",
      " 5   TimesWorldChampion  855 non-null    int64 \n",
      "dtypes: int64(2), object(4)\n",
      "memory usage: 46.8+ KB\n"
     ]
    }
   ],
   "source": [
    "f1_drivers.info()"
   ]
  },
  {
   "cell_type": "code",
   "execution_count": 51,
   "id": "4ad8c8bc",
   "metadata": {},
   "outputs": [
    {
     "data": {
      "text/html": [
       "<div>\n",
       "<style scoped>\n",
       "    .dataframe tbody tr th:only-of-type {\n",
       "        vertical-align: middle;\n",
       "    }\n",
       "\n",
       "    .dataframe tbody tr th {\n",
       "        vertical-align: top;\n",
       "    }\n",
       "\n",
       "    .dataframe thead th {\n",
       "        text-align: right;\n",
       "    }\n",
       "</style>\n",
       "<table border=\"1\" class=\"dataframe\">\n",
       "  <thead>\n",
       "    <tr style=\"text-align: right;\">\n",
       "      <th></th>\n",
       "      <th>driverId</th>\n",
       "      <th>forename</th>\n",
       "      <th>surname</th>\n",
       "      <th>fullname</th>\n",
       "      <th>nationality</th>\n",
       "      <th>TimesWorldChampion</th>\n",
       "    </tr>\n",
       "  </thead>\n",
       "  <tbody>\n",
       "    <tr>\n",
       "      <th>0</th>\n",
       "      <td>1</td>\n",
       "      <td>Lewis</td>\n",
       "      <td>Hamilton</td>\n",
       "      <td>Lewis Hamilton</td>\n",
       "      <td>British</td>\n",
       "      <td>7</td>\n",
       "    </tr>\n",
       "    <tr>\n",
       "      <th>1</th>\n",
       "      <td>2</td>\n",
       "      <td>Nick</td>\n",
       "      <td>Heidfeld</td>\n",
       "      <td>Nick Heidfeld</td>\n",
       "      <td>German</td>\n",
       "      <td>0</td>\n",
       "    </tr>\n",
       "    <tr>\n",
       "      <th>2</th>\n",
       "      <td>3</td>\n",
       "      <td>Nico</td>\n",
       "      <td>Rosberg</td>\n",
       "      <td>Nico Rosberg</td>\n",
       "      <td>German</td>\n",
       "      <td>1</td>\n",
       "    </tr>\n",
       "    <tr>\n",
       "      <th>3</th>\n",
       "      <td>4</td>\n",
       "      <td>Fernando</td>\n",
       "      <td>Alonso</td>\n",
       "      <td>Fernando Alonso</td>\n",
       "      <td>Spanish</td>\n",
       "      <td>2</td>\n",
       "    </tr>\n",
       "    <tr>\n",
       "      <th>4</th>\n",
       "      <td>5</td>\n",
       "      <td>Heikki</td>\n",
       "      <td>Kovalainen</td>\n",
       "      <td>Heikki Kovalainen</td>\n",
       "      <td>Finnish</td>\n",
       "      <td>0</td>\n",
       "    </tr>\n",
       "  </tbody>\n",
       "</table>\n",
       "</div>"
      ],
      "text/plain": [
       "   driverId  forename     surname           fullname nationality  \\\n",
       "0         1     Lewis    Hamilton     Lewis Hamilton     British   \n",
       "1         2      Nick    Heidfeld      Nick Heidfeld      German   \n",
       "2         3      Nico     Rosberg       Nico Rosberg      German   \n",
       "3         4  Fernando      Alonso    Fernando Alonso     Spanish   \n",
       "4         5    Heikki  Kovalainen  Heikki Kovalainen     Finnish   \n",
       "\n",
       "   TimesWorldChampion  \n",
       "0                   7  \n",
       "1                   0  \n",
       "2                   1  \n",
       "3                   2  \n",
       "4                   0  "
      ]
     },
     "execution_count": 51,
     "metadata": {},
     "output_type": "execute_result"
    }
   ],
   "source": [
    "f1_drivers.head()"
   ]
  },
  {
   "cell_type": "markdown",
   "id": "3354d900",
   "metadata": {},
   "source": [
    "### Inspect & Reformat \"Races\" DataFrame"
   ]
  },
  {
   "cell_type": "code",
   "execution_count": 52,
   "id": "fbe5dee8",
   "metadata": {},
   "outputs": [
    {
     "name": "stdout",
     "output_type": "stream",
     "text": [
      "<class 'pandas.core.frame.DataFrame'>\n",
      "RangeIndex: 1079 entries, 0 to 1078\n",
      "Data columns (total 18 columns):\n",
      " #   Column       Non-Null Count  Dtype \n",
      "---  ------       --------------  ----- \n",
      " 0   raceId       1079 non-null   int64 \n",
      " 1   year         1079 non-null   int64 \n",
      " 2   round        1079 non-null   int64 \n",
      " 3   circuitId    1079 non-null   int64 \n",
      " 4   name         1079 non-null   object\n",
      " 5   date         1079 non-null   object\n",
      " 6   time         1079 non-null   object\n",
      " 7   url          1079 non-null   object\n",
      " 8   fp1_date     1079 non-null   object\n",
      " 9   fp1_time     1079 non-null   object\n",
      " 10  fp2_date     1079 non-null   object\n",
      " 11  fp2_time     1079 non-null   object\n",
      " 12  fp3_date     1079 non-null   object\n",
      " 13  fp3_time     1079 non-null   object\n",
      " 14  quali_date   1079 non-null   object\n",
      " 15  quali_time   1079 non-null   object\n",
      " 16  sprint_date  1079 non-null   object\n",
      " 17  sprint_time  1079 non-null   object\n",
      "dtypes: int64(4), object(14)\n",
      "memory usage: 151.9+ KB\n"
     ]
    }
   ],
   "source": [
    "# Inspect \"Results\" DataFrame\n",
    "\n",
    "f1_races.info()\n",
    "\n",
    "# 1,079 entries with zero null values\n",
    "# Remove all columns except 'raceId', 'year',  'circuitId', 'name' \n",
    "# Rename \"name\" to \"racename\"\n",
    "# Required columns are correct Data Types except for date \n",
    "# which need to be converted from object to date"
   ]
  },
  {
   "cell_type": "code",
   "execution_count": 53,
   "id": "4b8a03e7",
   "metadata": {},
   "outputs": [],
   "source": [
    "# Drop all columns except 'raceId', 'year',  'circuitId', 'name' & 'date'\n",
    "\n",
    "#f1_races.drop('round', axis = 1, inplace = True)\n",
    "f1_races.drop(f1_races.loc[:,'round':'sprint_time'].columns, axis=1, inplace=True)"
   ]
  },
  {
   "cell_type": "code",
   "execution_count": 54,
   "id": "df6034bc",
   "metadata": {},
   "outputs": [
    {
     "data": {
      "text/html": [
       "<div>\n",
       "<style scoped>\n",
       "    .dataframe tbody tr th:only-of-type {\n",
       "        vertical-align: middle;\n",
       "    }\n",
       "\n",
       "    .dataframe tbody tr th {\n",
       "        vertical-align: top;\n",
       "    }\n",
       "\n",
       "    .dataframe thead th {\n",
       "        text-align: right;\n",
       "    }\n",
       "</style>\n",
       "<table border=\"1\" class=\"dataframe\">\n",
       "  <thead>\n",
       "    <tr style=\"text-align: right;\">\n",
       "      <th></th>\n",
       "      <th>raceId</th>\n",
       "      <th>year</th>\n",
       "    </tr>\n",
       "  </thead>\n",
       "  <tbody>\n",
       "    <tr>\n",
       "      <th>0</th>\n",
       "      <td>1</td>\n",
       "      <td>2009</td>\n",
       "    </tr>\n",
       "    <tr>\n",
       "      <th>1</th>\n",
       "      <td>2</td>\n",
       "      <td>2009</td>\n",
       "    </tr>\n",
       "    <tr>\n",
       "      <th>2</th>\n",
       "      <td>3</td>\n",
       "      <td>2009</td>\n",
       "    </tr>\n",
       "    <tr>\n",
       "      <th>3</th>\n",
       "      <td>4</td>\n",
       "      <td>2009</td>\n",
       "    </tr>\n",
       "    <tr>\n",
       "      <th>4</th>\n",
       "      <td>5</td>\n",
       "      <td>2009</td>\n",
       "    </tr>\n",
       "  </tbody>\n",
       "</table>\n",
       "</div>"
      ],
      "text/plain": [
       "   raceId  year\n",
       "0       1  2009\n",
       "1       2  2009\n",
       "2       3  2009\n",
       "3       4  2009\n",
       "4       5  2009"
      ]
     },
     "execution_count": 54,
     "metadata": {},
     "output_type": "execute_result"
    }
   ],
   "source": [
    "f1_races.head()"
   ]
  },
  {
   "cell_type": "code",
   "execution_count": 55,
   "id": "93118fc1",
   "metadata": {},
   "outputs": [],
   "source": [
    "#f1_races[\"year\"] = f1_races[\"year\"].astype('datetime64[ns]')"
   ]
  },
  {
   "cell_type": "code",
   "execution_count": 56,
   "id": "02299168",
   "metadata": {},
   "outputs": [],
   "source": [
    "# Merge \"Circuits\" data into \"Races\" DataFrame\n",
    "\n",
    "#f1_races = pd.merge(f1_races,f1_circuits, on='circuitId', how='inner')"
   ]
  },
  {
   "cell_type": "code",
   "execution_count": 57,
   "id": "420bb09b",
   "metadata": {},
   "outputs": [],
   "source": [
    "#f1_races.info()"
   ]
  },
  {
   "cell_type": "code",
   "execution_count": 58,
   "id": "562f70f7",
   "metadata": {},
   "outputs": [],
   "source": [
    "# Rename \"name_x\" & \"name_y\" columns\n",
    "\n",
    "#f1_races.rename(columns={'name_x': 'racename','name_y':'circuitname'},inplace=True)"
   ]
  },
  {
   "cell_type": "code",
   "execution_count": 59,
   "id": "2b2ba96f",
   "metadata": {},
   "outputs": [],
   "source": [
    "#f1_races.head()"
   ]
  },
  {
   "cell_type": "markdown",
   "id": "b5d8c570",
   "metadata": {},
   "source": [
    "### Inspect & Reformat \"Results\" DataFrame"
   ]
  },
  {
   "cell_type": "code",
   "execution_count": 60,
   "id": "4eea7962",
   "metadata": {},
   "outputs": [
    {
     "name": "stdout",
     "output_type": "stream",
     "text": [
      "<class 'pandas.core.frame.DataFrame'>\n",
      "RangeIndex: 25840 entries, 0 to 25839\n",
      "Data columns (total 18 columns):\n",
      " #   Column           Non-Null Count  Dtype  \n",
      "---  ------           --------------  -----  \n",
      " 0   resultId         25840 non-null  int64  \n",
      " 1   raceId           25840 non-null  int64  \n",
      " 2   driverId         25840 non-null  int64  \n",
      " 3   constructorId    25840 non-null  int64  \n",
      " 4   number           25840 non-null  object \n",
      " 5   grid             25840 non-null  int64  \n",
      " 6   position         25840 non-null  object \n",
      " 7   positionText     25840 non-null  object \n",
      " 8   positionOrder    25840 non-null  int64  \n",
      " 9   points           25840 non-null  float64\n",
      " 10  laps             25840 non-null  int64  \n",
      " 11  time             25840 non-null  object \n",
      " 12  milliseconds     25840 non-null  object \n",
      " 13  fastestLap       25840 non-null  object \n",
      " 14  rank             25840 non-null  object \n",
      " 15  fastestLapTime   25840 non-null  object \n",
      " 16  fastestLapSpeed  25840 non-null  object \n",
      " 17  statusId         25840 non-null  int64  \n",
      "dtypes: float64(1), int64(8), object(9)\n",
      "memory usage: 3.5+ MB\n"
     ]
    }
   ],
   "source": [
    "# Inspect \"Results\" DataFrame\n",
    "# 25,840 entries with zero null values\n",
    "# Remove all columns except 'raceId', 'driverId', 'positionText'  \n",
    "# 'positionOrder', 'fastestLapSpeed' & 'statusId'\n",
    "\n",
    "f1_results.info()"
   ]
  },
  {
   "cell_type": "code",
   "execution_count": 61,
   "id": "5a3ee25b",
   "metadata": {},
   "outputs": [
    {
     "data": {
      "text/html": [
       "<div>\n",
       "<style scoped>\n",
       "    .dataframe tbody tr th:only-of-type {\n",
       "        vertical-align: middle;\n",
       "    }\n",
       "\n",
       "    .dataframe tbody tr th {\n",
       "        vertical-align: top;\n",
       "    }\n",
       "\n",
       "    .dataframe thead th {\n",
       "        text-align: right;\n",
       "    }\n",
       "</style>\n",
       "<table border=\"1\" class=\"dataframe\">\n",
       "  <thead>\n",
       "    <tr style=\"text-align: right;\">\n",
       "      <th></th>\n",
       "      <th>resultId</th>\n",
       "      <th>raceId</th>\n",
       "      <th>driverId</th>\n",
       "      <th>constructorId</th>\n",
       "      <th>number</th>\n",
       "      <th>grid</th>\n",
       "      <th>position</th>\n",
       "      <th>positionText</th>\n",
       "      <th>positionOrder</th>\n",
       "      <th>points</th>\n",
       "      <th>laps</th>\n",
       "      <th>time</th>\n",
       "      <th>milliseconds</th>\n",
       "      <th>fastestLap</th>\n",
       "      <th>rank</th>\n",
       "      <th>fastestLapTime</th>\n",
       "      <th>fastestLapSpeed</th>\n",
       "      <th>statusId</th>\n",
       "    </tr>\n",
       "  </thead>\n",
       "  <tbody>\n",
       "    <tr>\n",
       "      <th>0</th>\n",
       "      <td>1</td>\n",
       "      <td>18</td>\n",
       "      <td>1</td>\n",
       "      <td>1</td>\n",
       "      <td>22</td>\n",
       "      <td>1</td>\n",
       "      <td>1</td>\n",
       "      <td>1</td>\n",
       "      <td>1</td>\n",
       "      <td>10.0</td>\n",
       "      <td>58</td>\n",
       "      <td>1:34:50.616</td>\n",
       "      <td>5690616</td>\n",
       "      <td>39</td>\n",
       "      <td>2</td>\n",
       "      <td>1:27.452</td>\n",
       "      <td>218.300</td>\n",
       "      <td>1</td>\n",
       "    </tr>\n",
       "    <tr>\n",
       "      <th>1</th>\n",
       "      <td>2</td>\n",
       "      <td>18</td>\n",
       "      <td>2</td>\n",
       "      <td>2</td>\n",
       "      <td>3</td>\n",
       "      <td>5</td>\n",
       "      <td>2</td>\n",
       "      <td>2</td>\n",
       "      <td>2</td>\n",
       "      <td>8.0</td>\n",
       "      <td>58</td>\n",
       "      <td>+5.478</td>\n",
       "      <td>5696094</td>\n",
       "      <td>41</td>\n",
       "      <td>3</td>\n",
       "      <td>1:27.739</td>\n",
       "      <td>217.586</td>\n",
       "      <td>1</td>\n",
       "    </tr>\n",
       "    <tr>\n",
       "      <th>2</th>\n",
       "      <td>3</td>\n",
       "      <td>18</td>\n",
       "      <td>3</td>\n",
       "      <td>3</td>\n",
       "      <td>7</td>\n",
       "      <td>7</td>\n",
       "      <td>3</td>\n",
       "      <td>3</td>\n",
       "      <td>3</td>\n",
       "      <td>6.0</td>\n",
       "      <td>58</td>\n",
       "      <td>+8.163</td>\n",
       "      <td>5698779</td>\n",
       "      <td>41</td>\n",
       "      <td>5</td>\n",
       "      <td>1:28.090</td>\n",
       "      <td>216.719</td>\n",
       "      <td>1</td>\n",
       "    </tr>\n",
       "    <tr>\n",
       "      <th>3</th>\n",
       "      <td>4</td>\n",
       "      <td>18</td>\n",
       "      <td>4</td>\n",
       "      <td>4</td>\n",
       "      <td>5</td>\n",
       "      <td>11</td>\n",
       "      <td>4</td>\n",
       "      <td>4</td>\n",
       "      <td>4</td>\n",
       "      <td>5.0</td>\n",
       "      <td>58</td>\n",
       "      <td>+17.181</td>\n",
       "      <td>5707797</td>\n",
       "      <td>58</td>\n",
       "      <td>7</td>\n",
       "      <td>1:28.603</td>\n",
       "      <td>215.464</td>\n",
       "      <td>1</td>\n",
       "    </tr>\n",
       "    <tr>\n",
       "      <th>4</th>\n",
       "      <td>5</td>\n",
       "      <td>18</td>\n",
       "      <td>5</td>\n",
       "      <td>1</td>\n",
       "      <td>23</td>\n",
       "      <td>3</td>\n",
       "      <td>5</td>\n",
       "      <td>5</td>\n",
       "      <td>5</td>\n",
       "      <td>4.0</td>\n",
       "      <td>58</td>\n",
       "      <td>+18.014</td>\n",
       "      <td>5708630</td>\n",
       "      <td>43</td>\n",
       "      <td>1</td>\n",
       "      <td>1:27.418</td>\n",
       "      <td>218.385</td>\n",
       "      <td>1</td>\n",
       "    </tr>\n",
       "  </tbody>\n",
       "</table>\n",
       "</div>"
      ],
      "text/plain": [
       "   resultId  raceId  driverId  constructorId number  grid position  \\\n",
       "0         1      18         1              1     22     1        1   \n",
       "1         2      18         2              2      3     5        2   \n",
       "2         3      18         3              3      7     7        3   \n",
       "3         4      18         4              4      5    11        4   \n",
       "4         5      18         5              1     23     3        5   \n",
       "\n",
       "  positionText  positionOrder  points  laps         time milliseconds  \\\n",
       "0            1              1    10.0    58  1:34:50.616      5690616   \n",
       "1            2              2     8.0    58       +5.478      5696094   \n",
       "2            3              3     6.0    58       +8.163      5698779   \n",
       "3            4              4     5.0    58      +17.181      5707797   \n",
       "4            5              5     4.0    58      +18.014      5708630   \n",
       "\n",
       "  fastestLap rank fastestLapTime fastestLapSpeed  statusId  \n",
       "0         39    2       1:27.452         218.300         1  \n",
       "1         41    3       1:27.739         217.586         1  \n",
       "2         41    5       1:28.090         216.719         1  \n",
       "3         58    7       1:28.603         215.464         1  \n",
       "4         43    1       1:27.418         218.385         1  "
      ]
     },
     "execution_count": 61,
     "metadata": {},
     "output_type": "execute_result"
    }
   ],
   "source": [
    "f1_results.head()"
   ]
  },
  {
   "cell_type": "code",
   "execution_count": 62,
   "id": "f5caae78",
   "metadata": {},
   "outputs": [],
   "source": [
    "# Merge \"Status\" data into \"Results\" DataFrame\n",
    "f1_results = pd.merge(f1_results,f1_status,on='statusId', how='inner')"
   ]
  },
  {
   "cell_type": "code",
   "execution_count": 63,
   "id": "5d8599a5",
   "metadata": {},
   "outputs": [],
   "source": [
    "# Merge \"Drivers\" data into \"Results\" DataFrame\n",
    "\n",
    "f1_results = pd.merge(f1_results,f1_drivers,on='driverId', how='inner')"
   ]
  },
  {
   "cell_type": "code",
   "execution_count": 64,
   "id": "04a8389e",
   "metadata": {},
   "outputs": [],
   "source": [
    "# Merge \"Races\" data into \"Results\" DataFrame\n",
    "\n",
    "f1_results = pd.merge(f1_results,f1_races,on='raceId', how='inner')"
   ]
  },
  {
   "cell_type": "code",
   "execution_count": 65,
   "id": "67774ba7",
   "metadata": {},
   "outputs": [
    {
     "data": {
      "text/html": [
       "<div>\n",
       "<style scoped>\n",
       "    .dataframe tbody tr th:only-of-type {\n",
       "        vertical-align: middle;\n",
       "    }\n",
       "\n",
       "    .dataframe tbody tr th {\n",
       "        vertical-align: top;\n",
       "    }\n",
       "\n",
       "    .dataframe thead th {\n",
       "        text-align: right;\n",
       "    }\n",
       "</style>\n",
       "<table border=\"1\" class=\"dataframe\">\n",
       "  <thead>\n",
       "    <tr style=\"text-align: right;\">\n",
       "      <th></th>\n",
       "      <th>resultId</th>\n",
       "      <th>raceId</th>\n",
       "      <th>driverId</th>\n",
       "      <th>constructorId</th>\n",
       "      <th>number</th>\n",
       "      <th>grid</th>\n",
       "      <th>position</th>\n",
       "      <th>positionText</th>\n",
       "      <th>positionOrder</th>\n",
       "      <th>points</th>\n",
       "      <th>...</th>\n",
       "      <th>fastestLapTime</th>\n",
       "      <th>fastestLapSpeed</th>\n",
       "      <th>statusId</th>\n",
       "      <th>status</th>\n",
       "      <th>forename</th>\n",
       "      <th>surname</th>\n",
       "      <th>fullname</th>\n",
       "      <th>nationality</th>\n",
       "      <th>TimesWorldChampion</th>\n",
       "      <th>year</th>\n",
       "    </tr>\n",
       "  </thead>\n",
       "  <tbody>\n",
       "    <tr>\n",
       "      <th>0</th>\n",
       "      <td>1</td>\n",
       "      <td>18</td>\n",
       "      <td>1</td>\n",
       "      <td>1</td>\n",
       "      <td>22</td>\n",
       "      <td>1</td>\n",
       "      <td>1</td>\n",
       "      <td>1</td>\n",
       "      <td>1</td>\n",
       "      <td>10.0</td>\n",
       "      <td>...</td>\n",
       "      <td>1:27.452</td>\n",
       "      <td>218.300</td>\n",
       "      <td>1</td>\n",
       "      <td>Finished</td>\n",
       "      <td>Lewis</td>\n",
       "      <td>Hamilton</td>\n",
       "      <td>Lewis Hamilton</td>\n",
       "      <td>British</td>\n",
       "      <td>7</td>\n",
       "      <td>2008</td>\n",
       "    </tr>\n",
       "    <tr>\n",
       "      <th>1</th>\n",
       "      <td>2</td>\n",
       "      <td>18</td>\n",
       "      <td>2</td>\n",
       "      <td>2</td>\n",
       "      <td>3</td>\n",
       "      <td>5</td>\n",
       "      <td>2</td>\n",
       "      <td>2</td>\n",
       "      <td>2</td>\n",
       "      <td>8.0</td>\n",
       "      <td>...</td>\n",
       "      <td>1:27.739</td>\n",
       "      <td>217.586</td>\n",
       "      <td>1</td>\n",
       "      <td>Finished</td>\n",
       "      <td>Nick</td>\n",
       "      <td>Heidfeld</td>\n",
       "      <td>Nick Heidfeld</td>\n",
       "      <td>German</td>\n",
       "      <td>0</td>\n",
       "      <td>2008</td>\n",
       "    </tr>\n",
       "    <tr>\n",
       "      <th>2</th>\n",
       "      <td>3</td>\n",
       "      <td>18</td>\n",
       "      <td>3</td>\n",
       "      <td>3</td>\n",
       "      <td>7</td>\n",
       "      <td>7</td>\n",
       "      <td>3</td>\n",
       "      <td>3</td>\n",
       "      <td>3</td>\n",
       "      <td>6.0</td>\n",
       "      <td>...</td>\n",
       "      <td>1:28.090</td>\n",
       "      <td>216.719</td>\n",
       "      <td>1</td>\n",
       "      <td>Finished</td>\n",
       "      <td>Nico</td>\n",
       "      <td>Rosberg</td>\n",
       "      <td>Nico Rosberg</td>\n",
       "      <td>German</td>\n",
       "      <td>1</td>\n",
       "      <td>2008</td>\n",
       "    </tr>\n",
       "    <tr>\n",
       "      <th>3</th>\n",
       "      <td>4</td>\n",
       "      <td>18</td>\n",
       "      <td>4</td>\n",
       "      <td>4</td>\n",
       "      <td>5</td>\n",
       "      <td>11</td>\n",
       "      <td>4</td>\n",
       "      <td>4</td>\n",
       "      <td>4</td>\n",
       "      <td>5.0</td>\n",
       "      <td>...</td>\n",
       "      <td>1:28.603</td>\n",
       "      <td>215.464</td>\n",
       "      <td>1</td>\n",
       "      <td>Finished</td>\n",
       "      <td>Fernando</td>\n",
       "      <td>Alonso</td>\n",
       "      <td>Fernando Alonso</td>\n",
       "      <td>Spanish</td>\n",
       "      <td>2</td>\n",
       "      <td>2008</td>\n",
       "    </tr>\n",
       "    <tr>\n",
       "      <th>4</th>\n",
       "      <td>5</td>\n",
       "      <td>18</td>\n",
       "      <td>5</td>\n",
       "      <td>1</td>\n",
       "      <td>23</td>\n",
       "      <td>3</td>\n",
       "      <td>5</td>\n",
       "      <td>5</td>\n",
       "      <td>5</td>\n",
       "      <td>4.0</td>\n",
       "      <td>...</td>\n",
       "      <td>1:27.418</td>\n",
       "      <td>218.385</td>\n",
       "      <td>1</td>\n",
       "      <td>Finished</td>\n",
       "      <td>Heikki</td>\n",
       "      <td>Kovalainen</td>\n",
       "      <td>Heikki Kovalainen</td>\n",
       "      <td>Finnish</td>\n",
       "      <td>0</td>\n",
       "      <td>2008</td>\n",
       "    </tr>\n",
       "  </tbody>\n",
       "</table>\n",
       "<p>5 rows × 25 columns</p>\n",
       "</div>"
      ],
      "text/plain": [
       "   resultId  raceId  driverId  constructorId number  grid position  \\\n",
       "0         1      18         1              1     22     1        1   \n",
       "1         2      18         2              2      3     5        2   \n",
       "2         3      18         3              3      7     7        3   \n",
       "3         4      18         4              4      5    11        4   \n",
       "4         5      18         5              1     23     3        5   \n",
       "\n",
       "  positionText  positionOrder  points  ...  fastestLapTime fastestLapSpeed  \\\n",
       "0            1              1    10.0  ...        1:27.452         218.300   \n",
       "1            2              2     8.0  ...        1:27.739         217.586   \n",
       "2            3              3     6.0  ...        1:28.090         216.719   \n",
       "3            4              4     5.0  ...        1:28.603         215.464   \n",
       "4            5              5     4.0  ...        1:27.418         218.385   \n",
       "\n",
       "  statusId    status  forename     surname           fullname  nationality  \\\n",
       "0        1  Finished     Lewis    Hamilton     Lewis Hamilton      British   \n",
       "1        1  Finished      Nick    Heidfeld      Nick Heidfeld       German   \n",
       "2        1  Finished      Nico     Rosberg       Nico Rosberg       German   \n",
       "3        1  Finished  Fernando      Alonso    Fernando Alonso      Spanish   \n",
       "4        1  Finished    Heikki  Kovalainen  Heikki Kovalainen      Finnish   \n",
       "\n",
       "  TimesWorldChampion  year  \n",
       "0                  7  2008  \n",
       "1                  0  2008  \n",
       "2                  1  2008  \n",
       "3                  2  2008  \n",
       "4                  0  2008  \n",
       "\n",
       "[5 rows x 25 columns]"
      ]
     },
     "execution_count": 65,
     "metadata": {},
     "output_type": "execute_result"
    }
   ],
   "source": [
    "f1_results.head()"
   ]
  },
  {
   "cell_type": "code",
   "execution_count": 66,
   "id": "08f88f22",
   "metadata": {},
   "outputs": [
    {
     "name": "stdout",
     "output_type": "stream",
     "text": [
      "<class 'pandas.core.frame.DataFrame'>\n",
      "Int64Index: 25840 entries, 0 to 25839\n",
      "Data columns (total 25 columns):\n",
      " #   Column              Non-Null Count  Dtype  \n",
      "---  ------              --------------  -----  \n",
      " 0   resultId            25840 non-null  int64  \n",
      " 1   raceId              25840 non-null  int64  \n",
      " 2   driverId            25840 non-null  int64  \n",
      " 3   constructorId       25840 non-null  int64  \n",
      " 4   number              25840 non-null  object \n",
      " 5   grid                25840 non-null  int64  \n",
      " 6   position            25840 non-null  object \n",
      " 7   positionText        25840 non-null  object \n",
      " 8   positionOrder       25840 non-null  int64  \n",
      " 9   points              25840 non-null  float64\n",
      " 10  laps                25840 non-null  int64  \n",
      " 11  time                25840 non-null  object \n",
      " 12  milliseconds        25840 non-null  object \n",
      " 13  fastestLap          25840 non-null  object \n",
      " 14  rank                25840 non-null  object \n",
      " 15  fastestLapTime      25840 non-null  object \n",
      " 16  fastestLapSpeed     25840 non-null  object \n",
      " 17  statusId            25840 non-null  int64  \n",
      " 18  status              25840 non-null  object \n",
      " 19  forename            25840 non-null  object \n",
      " 20  surname             25840 non-null  object \n",
      " 21  fullname            25840 non-null  object \n",
      " 22  nationality         25840 non-null  object \n",
      " 23  TimesWorldChampion  25840 non-null  int64  \n",
      " 24  year                25840 non-null  int64  \n",
      "dtypes: float64(1), int64(10), object(14)\n",
      "memory usage: 5.1+ MB\n"
     ]
    }
   ],
   "source": [
    "f1_results.info()"
   ]
  },
  {
   "cell_type": "code",
   "execution_count": 67,
   "id": "0d0abaf8",
   "metadata": {},
   "outputs": [],
   "source": [
    "# Drop all columns except 'positionText', 'positionOrder' & 'status'\n",
    "cols = [0,1,2,3,4,5,6,9,11,12,13,14,15,16,17,19,20,23]\n",
    "f1_results.drop(f1_results.columns[cols],axis=1,inplace=True)"
   ]
  },
  {
   "cell_type": "code",
   "execution_count": null,
   "id": "0622f37f",
   "metadata": {},
   "outputs": [],
   "source": []
  },
  {
   "cell_type": "code",
   "execution_count": 68,
   "id": "eef62b47",
   "metadata": {},
   "outputs": [
    {
     "data": {
      "text/html": [
       "<div>\n",
       "<style scoped>\n",
       "    .dataframe tbody tr th:only-of-type {\n",
       "        vertical-align: middle;\n",
       "    }\n",
       "\n",
       "    .dataframe tbody tr th {\n",
       "        vertical-align: top;\n",
       "    }\n",
       "\n",
       "    .dataframe thead th {\n",
       "        text-align: right;\n",
       "    }\n",
       "</style>\n",
       "<table border=\"1\" class=\"dataframe\">\n",
       "  <thead>\n",
       "    <tr style=\"text-align: right;\">\n",
       "      <th></th>\n",
       "      <th>positionText</th>\n",
       "      <th>positionOrder</th>\n",
       "      <th>laps</th>\n",
       "      <th>status</th>\n",
       "      <th>fullname</th>\n",
       "      <th>nationality</th>\n",
       "      <th>year</th>\n",
       "    </tr>\n",
       "  </thead>\n",
       "  <tbody>\n",
       "    <tr>\n",
       "      <th>0</th>\n",
       "      <td>1</td>\n",
       "      <td>1</td>\n",
       "      <td>58</td>\n",
       "      <td>Finished</td>\n",
       "      <td>Lewis Hamilton</td>\n",
       "      <td>British</td>\n",
       "      <td>2008</td>\n",
       "    </tr>\n",
       "    <tr>\n",
       "      <th>1</th>\n",
       "      <td>2</td>\n",
       "      <td>2</td>\n",
       "      <td>58</td>\n",
       "      <td>Finished</td>\n",
       "      <td>Nick Heidfeld</td>\n",
       "      <td>German</td>\n",
       "      <td>2008</td>\n",
       "    </tr>\n",
       "    <tr>\n",
       "      <th>2</th>\n",
       "      <td>3</td>\n",
       "      <td>3</td>\n",
       "      <td>58</td>\n",
       "      <td>Finished</td>\n",
       "      <td>Nico Rosberg</td>\n",
       "      <td>German</td>\n",
       "      <td>2008</td>\n",
       "    </tr>\n",
       "    <tr>\n",
       "      <th>3</th>\n",
       "      <td>4</td>\n",
       "      <td>4</td>\n",
       "      <td>58</td>\n",
       "      <td>Finished</td>\n",
       "      <td>Fernando Alonso</td>\n",
       "      <td>Spanish</td>\n",
       "      <td>2008</td>\n",
       "    </tr>\n",
       "    <tr>\n",
       "      <th>4</th>\n",
       "      <td>5</td>\n",
       "      <td>5</td>\n",
       "      <td>58</td>\n",
       "      <td>Finished</td>\n",
       "      <td>Heikki Kovalainen</td>\n",
       "      <td>Finnish</td>\n",
       "      <td>2008</td>\n",
       "    </tr>\n",
       "  </tbody>\n",
       "</table>\n",
       "</div>"
      ],
      "text/plain": [
       "  positionText  positionOrder  laps    status           fullname nationality  \\\n",
       "0            1              1    58  Finished     Lewis Hamilton     British   \n",
       "1            2              2    58  Finished      Nick Heidfeld      German   \n",
       "2            3              3    58  Finished       Nico Rosberg      German   \n",
       "3            4              4    58  Finished    Fernando Alonso     Spanish   \n",
       "4            5              5    58  Finished  Heikki Kovalainen     Finnish   \n",
       "\n",
       "   year  \n",
       "0  2008  \n",
       "1  2008  \n",
       "2  2008  \n",
       "3  2008  \n",
       "4  2008  "
      ]
     },
     "execution_count": 68,
     "metadata": {},
     "output_type": "execute_result"
    }
   ],
   "source": [
    "f1_results.head()"
   ]
  },
  {
   "cell_type": "code",
   "execution_count": null,
   "id": "55ec98cc",
   "metadata": {},
   "outputs": [],
   "source": []
  },
  {
   "cell_type": "markdown",
   "id": "4780a8c4",
   "metadata": {},
   "source": [
    "### number of races per year"
   ]
  },
  {
   "cell_type": "code",
   "execution_count": 69,
   "id": "ed1b6d26",
   "metadata": {},
   "outputs": [],
   "source": [
    "f1_numberofraces = f1_races.groupby([\"year\"]).size().to_frame(name = 'NumberOfRaces').reset_index()"
   ]
  },
  {
   "cell_type": "code",
   "execution_count": 70,
   "id": "a852a9a8",
   "metadata": {},
   "outputs": [
    {
     "data": {
      "text/html": [
       "<div>\n",
       "<style scoped>\n",
       "    .dataframe tbody tr th:only-of-type {\n",
       "        vertical-align: middle;\n",
       "    }\n",
       "\n",
       "    .dataframe tbody tr th {\n",
       "        vertical-align: top;\n",
       "    }\n",
       "\n",
       "    .dataframe thead th {\n",
       "        text-align: right;\n",
       "    }\n",
       "</style>\n",
       "<table border=\"1\" class=\"dataframe\">\n",
       "  <thead>\n",
       "    <tr style=\"text-align: right;\">\n",
       "      <th></th>\n",
       "      <th>year</th>\n",
       "      <th>NumberOfRaces</th>\n",
       "    </tr>\n",
       "  </thead>\n",
       "  <tbody>\n",
       "    <tr>\n",
       "      <th>0</th>\n",
       "      <td>1950</td>\n",
       "      <td>7</td>\n",
       "    </tr>\n",
       "    <tr>\n",
       "      <th>1</th>\n",
       "      <td>1951</td>\n",
       "      <td>8</td>\n",
       "    </tr>\n",
       "    <tr>\n",
       "      <th>2</th>\n",
       "      <td>1952</td>\n",
       "      <td>8</td>\n",
       "    </tr>\n",
       "    <tr>\n",
       "      <th>3</th>\n",
       "      <td>1953</td>\n",
       "      <td>9</td>\n",
       "    </tr>\n",
       "    <tr>\n",
       "      <th>4</th>\n",
       "      <td>1954</td>\n",
       "      <td>9</td>\n",
       "    </tr>\n",
       "    <tr>\n",
       "      <th>...</th>\n",
       "      <td>...</td>\n",
       "      <td>...</td>\n",
       "    </tr>\n",
       "    <tr>\n",
       "      <th>68</th>\n",
       "      <td>2018</td>\n",
       "      <td>21</td>\n",
       "    </tr>\n",
       "    <tr>\n",
       "      <th>69</th>\n",
       "      <td>2019</td>\n",
       "      <td>21</td>\n",
       "    </tr>\n",
       "    <tr>\n",
       "      <th>70</th>\n",
       "      <td>2020</td>\n",
       "      <td>17</td>\n",
       "    </tr>\n",
       "    <tr>\n",
       "      <th>71</th>\n",
       "      <td>2021</td>\n",
       "      <td>22</td>\n",
       "    </tr>\n",
       "    <tr>\n",
       "      <th>72</th>\n",
       "      <td>2022</td>\n",
       "      <td>22</td>\n",
       "    </tr>\n",
       "  </tbody>\n",
       "</table>\n",
       "<p>73 rows × 2 columns</p>\n",
       "</div>"
      ],
      "text/plain": [
       "    year  NumberOfRaces\n",
       "0   1950              7\n",
       "1   1951              8\n",
       "2   1952              8\n",
       "3   1953              9\n",
       "4   1954              9\n",
       "..   ...            ...\n",
       "68  2018             21\n",
       "69  2019             21\n",
       "70  2020             17\n",
       "71  2021             22\n",
       "72  2022             22\n",
       "\n",
       "[73 rows x 2 columns]"
      ]
     },
     "execution_count": 70,
     "metadata": {},
     "output_type": "execute_result"
    }
   ],
   "source": [
    "f1_numberofraces"
   ]
  },
  {
   "cell_type": "code",
   "execution_count": 71,
   "id": "8ab169fd",
   "metadata": {},
   "outputs": [
    {
     "data": {
      "image/png": "[encoded data removed]",
      "text/plain": [
       "<Figure size 432x288 with 1 Axes>"
      ]
     },
     "metadata": {
      "needs_background": "light"
     },
     "output_type": "display_data"
    }
   ],
   "source": [
    "plt.plot(f1_numberofraces[\"year\"], f1_numberofraces[\"NumberOfRaces\"])\n",
    "plt.axhline(y = np.nanmean(f1_numberofraces.NumberOfRaces),color='green',linewidth=3,label='Average Races per Year')\n",
    "\n",
    "# Add plot title\n",
    "plt.title(\"Number of Formula One races per Year\")\n",
    "\n",
    "# Add axis labels\n",
    "plt.xlabel(\"Year\")\n",
    "plt.ylabel(\"Number of Races\")\n",
    "\n",
    "# Add legend label\n",
    "plt.legend(loc='best')\n",
    "plt.show()"
   ]
  },
  {
   "cell_type": "code",
   "execution_count": null,
   "id": "9879191e",
   "metadata": {},
   "outputs": [],
   "source": []
  },
  {
   "cell_type": "code",
   "execution_count": null,
   "id": "205b5118",
   "metadata": {},
   "outputs": [],
   "source": []
  },
  {
   "cell_type": "code",
   "execution_count": null,
   "id": "2a1af3a2",
   "metadata": {},
   "outputs": [],
   "source": []
  },
  {
   "cell_type": "code",
   "execution_count": null,
   "id": "2c85a15a",
   "metadata": {},
   "outputs": [],
   "source": []
  },
  {
   "cell_type": "code",
   "execution_count": null,
   "id": "e427f830",
   "metadata": {},
   "outputs": [],
   "source": []
  },
  {
   "cell_type": "code",
   "execution_count": null,
   "id": "5a9e8112",
   "metadata": {},
   "outputs": [],
   "source": []
  },
  {
   "cell_type": "code",
   "execution_count": null,
   "id": "152a87d9",
   "metadata": {},
   "outputs": [],
   "source": []
  },
  {
   "cell_type": "markdown",
   "id": "1d9ea1ab",
   "metadata": {},
   "source": [
    "### retirement graph"
   ]
  },
  {
   "cell_type": "code",
   "execution_count": 72,
   "id": "b1bc0e4b",
   "metadata": {},
   "outputs": [],
   "source": [
    "f1_retirements = f1_results[f1_results.eval(\"positionText == 'R' & \\\n",
    "                                            status != 'Accident' & \\\n",
    "                                            status != 'Collision' & \\\n",
    "                                            status != 'Collision damage' & \\\n",
    "                                            status != 'Spun off' & \\\n",
    "                                            status != 'Suspension' & \\\n",
    "                                            status != 'Withdrew'\")]"
   ]
  },
  {
   "cell_type": "code",
   "execution_count": 73,
   "id": "9b991674",
   "metadata": {},
   "outputs": [],
   "source": [
    "# Groupby DataFrame and save\n",
    "f1_retirements = f1_retirements.groupby([\"year\"]).size().to_frame(name = 'NumberOfRetirements').reset_index()"
   ]
  },
  {
   "cell_type": "code",
   "execution_count": 74,
   "id": "ba41fbb4",
   "metadata": {},
   "outputs": [],
   "source": [
    "f1_retirements.to_csv('f1_retirements.csv')  "
   ]
  },
  {
   "cell_type": "code",
   "execution_count": 75,
   "id": "cfaa5127",
   "metadata": {},
   "outputs": [
    {
     "data": {
      "text/plain": [
       "year                   73\n",
       "NumberOfRetirements    73\n",
       "dtype: int64"
      ]
     },
     "execution_count": 75,
     "metadata": {},
     "output_type": "execute_result"
    }
   ],
   "source": [
    "f1_retirements.count()"
   ]
  },
  {
   "cell_type": "code",
   "execution_count": 76,
   "id": "03d91f4a",
   "metadata": {},
   "outputs": [
    {
     "data": {
      "text/plain": [
       "<function matplotlib.pyplot.show(close=None, block=None)>"
      ]
     },
     "execution_count": 76,
     "metadata": {},
     "output_type": "execute_result"
    },
    {
     "data": {
      "image/png": "[encoded data removed]",
      "text/plain": [
       "<Figure size 432x288 with 1 Axes>"
      ]
     },
     "metadata": {
      "needs_background": "light"
     },
     "output_type": "display_data"
    }
   ],
   "source": [
    "f1_retirements['year'] = f1_retirements['year'] - f1_retirements['year'] % 10\n",
    "df_decade = (f1_retirements.groupby(['year']).sum().reset_index())\n",
    "ax = sns.barplot(x=\"year\", y=\"NumberOfRetirements\", data=df_decade)\n",
    "\n",
    "# Add plot title\n",
    "plt.title('Total Formula One retirements per decade')\n",
    "\n",
    "# Add axis labels\n",
    "plt.xlabel('Number of Retirements')\n",
    "plt.ylabel('Decade')\n",
    "\n",
    "plt.show"
   ]
  },
  {
   "cell_type": "markdown",
   "id": "fd0cf5a1",
   "metadata": {},
   "source": [
    "https://en.wikipedia.org/wiki/Formula_One_engines#:~:text=By%20mid%2D1985%2C%20every%20Formula,670%20kW)%20in%20race%20spec.\n",
    "\n",
    "\n",
    "By mid-1985, every Formula One car was running with a turbocharged engine. BMW's straight-4 turbo, the M12/13, produced around 1,400–1,500 hp (1,040–1,120 kW) at over 5 bar of boost in qualifying trim, but was detuned to produce between 850–900 hp (630–670 kW) in race spec. It powered the Brabham BT52 of 1983, with which Nelson Piquet won that year's Drivers' Championship. By 1986, power figures were reaching unprecedented levels, with all engines reaching over 1,000 hp (750 kW) during qualifying with unrestricted turbo boost pressures. This was especially seen with the BMW engines of Benetton's cars, reaching around 1,400 hp (1,040 kW) at a 5.5 bar boost pressure during qualifying. However, these engines and gearboxes were very unreliable because of the engine's immense power, and would only last about four laps\n",
    "\n",
    "Turbochargers were banned from the 1989 Formula One season, leaving only a naturally aspirated 3.5 L formula\n",
    "\n",
    "\n"
   ]
  },
  {
   "cell_type": "code",
   "execution_count": null,
   "id": "dfcfb3ee",
   "metadata": {},
   "outputs": [],
   "source": []
  },
  {
   "cell_type": "code",
   "execution_count": null,
   "id": "9333aab1",
   "metadata": {},
   "outputs": [],
   "source": []
  },
  {
   "cell_type": "code",
   "execution_count": null,
   "id": "bf29fbdc",
   "metadata": {},
   "outputs": [],
   "source": []
  },
  {
   "cell_type": "markdown",
   "id": "873f1039",
   "metadata": {},
   "source": [
    "### nationality of winners"
   ]
  },
  {
   "cell_type": "code",
   "execution_count": 77,
   "id": "32695902",
   "metadata": {},
   "outputs": [],
   "source": [
    "f1_nationality = f1_results[f1_results.eval(\"positionOrder == 1\")]"
   ]
  },
  {
   "cell_type": "code",
   "execution_count": 78,
   "id": "1cf1db48",
   "metadata": {},
   "outputs": [],
   "source": [
    "# \n",
    "f1_nationality = f1_nationality.groupby([\"nationality\"]).size().to_frame(name = 'NumberOfNationalities').reset_index()"
   ]
  },
  {
   "cell_type": "code",
   "execution_count": 79,
   "id": "c7664371",
   "metadata": {},
   "outputs": [
    {
     "name": "stdout",
     "output_type": "stream",
     "text": [
      "<class 'pandas.core.frame.DataFrame'>\n",
      "RangeIndex: 23 entries, 0 to 22\n",
      "Data columns (total 2 columns):\n",
      " #   Column                 Non-Null Count  Dtype \n",
      "---  ------                 --------------  ----- \n",
      " 0   nationality            23 non-null     object\n",
      " 1   NumberOfNationalities  23 non-null     int64 \n",
      "dtypes: int64(1), object(1)\n",
      "memory usage: 496.0+ bytes\n"
     ]
    }
   ],
   "source": [
    "f1_nationality.info()"
   ]
  },
  {
   "cell_type": "code",
   "execution_count": 80,
   "id": "bdf674ca",
   "metadata": {},
   "outputs": [
    {
     "data": {
      "text/plain": [
       "Text(0, 0.5, 'Nationality')"
      ]
     },
     "execution_count": 80,
     "metadata": {},
     "output_type": "execute_result"
    },
    {
     "data": {
      "image/png": "[encoded data removed]",
      "text/plain": [
       "<Figure size 432x288 with 1 Axes>"
      ]
     },
     "metadata": {
      "needs_background": "light"
     },
     "output_type": "display_data"
    }
   ],
   "source": [
    "# Create horizontal barplot\n",
    "sns.barplot(x = f1_nationality.NumberOfNationalities, y = f1_nationality.nationality, orient='h')\n",
    "\n",
    "# Add plot title\n",
    "plt.title('Total Formula One wins per Nationality')\n",
    "\n",
    "# Add axis labels\n",
    "plt.xlabel('Number of wins')\n",
    "plt.ylabel('Nationality')"
   ]
  },
  {
   "cell_type": "code",
   "execution_count": null,
   "id": "649e5f76",
   "metadata": {},
   "outputs": [],
   "source": []
  },
  {
   "cell_type": "code",
   "execution_count": null,
   "id": "ce0a67d4",
   "metadata": {},
   "outputs": [],
   "source": []
  },
  {
   "cell_type": "markdown",
   "id": "425cdbbb",
   "metadata": {},
   "source": [
    "### % world champions"
   ]
  },
  {
   "cell_type": "code",
   "execution_count": 169,
   "id": "064f7d1a",
   "metadata": {},
   "outputs": [
    {
     "name": "stdout",
     "output_type": "stream",
     "text": [
      "Driver                Michael Schumacher\n",
      "TimesWorldChampion                     7\n",
      "Name: 0, dtype: object\n",
      "Driver                Lewis Hamilton\n",
      "TimesWorldChampion                 7\n",
      "Name: 1, dtype: object\n",
      "Driver                Juan Manuel Fangio\n",
      "TimesWorldChampion                     6\n",
      "Name: 2, dtype: object\n",
      "Driver                Alain Prost\n",
      "TimesWorldChampion              4\n",
      "Name: 3, dtype: object\n",
      "Driver                Sebastian Vettel\n",
      "TimesWorldChampion                   4\n",
      "Name: 4, dtype: object\n"
     ]
    }
   ],
   "source": [
    "for i in range(len(f1_world_champions)):\n",
    "    if f1_world_champions.loc[i, \"TimesWorldChampion\"] >= 4:\n",
    "        print(f1_world_champions.loc[i])\n"
   ]
  },
  {
   "cell_type": "code",
   "execution_count": 170,
   "id": "18d29640",
   "metadata": {},
   "outputs": [
    {
     "data": {
      "text/html": [
       "<div>\n",
       "<style scoped>\n",
       "    .dataframe tbody tr th:only-of-type {\n",
       "        vertical-align: middle;\n",
       "    }\n",
       "\n",
       "    .dataframe tbody tr th {\n",
       "        vertical-align: top;\n",
       "    }\n",
       "\n",
       "    .dataframe thead th {\n",
       "        text-align: right;\n",
       "    }\n",
       "</style>\n",
       "<table border=\"1\" class=\"dataframe\">\n",
       "  <thead>\n",
       "    <tr style=\"text-align: right;\">\n",
       "      <th></th>\n",
       "      <th>DriversGrouped</th>\n",
       "      <th>NumberOfChampionships</th>\n",
       "    </tr>\n",
       "  </thead>\n",
       "  <tbody>\n",
       "    <tr>\n",
       "      <th>0</th>\n",
       "      <td>top 5 drivers</td>\n",
       "      <td>28</td>\n",
       "    </tr>\n",
       "    <tr>\n",
       "      <th>1</th>\n",
       "      <td>rest of drivers</td>\n",
       "      <td>46</td>\n",
       "    </tr>\n",
       "  </tbody>\n",
       "</table>\n",
       "</div>"
      ],
      "text/plain": [
       "    DriversGrouped  NumberOfChampionships\n",
       "0    top 5 drivers                     28\n",
       "1  rest of drivers                     46"
      ]
     },
     "execution_count": 170,
     "metadata": {},
     "output_type": "execute_result"
    }
   ],
   "source": [
    "# Import pandas library\n",
    "import pandas as pd\n",
    "  \n",
    "# initialize list of lists\n",
    "f1_world_champions_top_5 = [['top 5 drivers', (f1_world_champions['TimesWorldChampion'][:5].sum())], ['rest of drivers', (f1_world_champions['TimesWorldChampion'][5:].sum())]]\n",
    "  \n",
    "# Create the pandas DataFrame\n",
    "f1_world_champions_top_5 = pd.DataFrame(f1_world_champions_top_5, columns=['DriversGrouped', 'NumberOfChampionships'])\n",
    "  \n",
    "# print dataframe.\n",
    "f1_world_champions_top_5"
   ]
  },
  {
   "cell_type": "code",
   "execution_count": 171,
   "id": "c3a10f31",
   "metadata": {},
   "outputs": [
    {
     "data": {
      "text/plain": [
       "<AxesSubplot:>"
      ]
     },
     "execution_count": 171,
     "metadata": {},
     "output_type": "execute_result"
    },
    {
     "data": {
      "image/png": "[encoded data removed]",
      "text/plain": [
       "<Figure size 432x288 with 1 Axes>"
      ]
     },
     "metadata": {},
     "output_type": "display_data"
    }
   ],
   "source": [
    "import pandas as pd\n",
    "  \n",
    "\n",
    "f1_world_champions_top_5.groupby(['DriversGrouped']).sum().plot(\n",
    "    kind='pie', y='NumberOfChampionships', ylabel = '', autopct='%0.1f%%', colors = ['skyblue', 'sienna'], shadow=False)"
   ]
  },
  {
   "cell_type": "code",
   "execution_count": null,
   "id": "2e47ea7e",
   "metadata": {},
   "outputs": [],
   "source": []
  },
  {
   "cell_type": "code",
   "execution_count": null,
   "id": "4f509ddc",
   "metadata": {},
   "outputs": [],
   "source": []
  },
  {
   "cell_type": "code",
   "execution_count": null,
   "id": "17d5d7c8",
   "metadata": {},
   "outputs": [],
   "source": []
  },
  {
   "cell_type": "code",
   "execution_count": null,
   "id": "ffa4eb03",
   "metadata": {},
   "outputs": [],
   "source": []
  },
  {
   "cell_type": "code",
   "execution_count": null,
   "id": "659a67df",
   "metadata": {},
   "outputs": [],
   "source": [
    "#f1_world_champions_top_5['pct'] = (f1_world_champions_top_5['NumberOfChampionships'] / f1_world_champions_top_5['NumberOfChampionships'].sum()) * 100"
   ]
  },
  {
   "cell_type": "code",
   "execution_count": null,
   "id": "26c1248d",
   "metadata": {},
   "outputs": [],
   "source": [
    "#import pandas as pd\n",
    "  \n",
    "# DataFrame of each student and the votes they get\n",
    "\n",
    "  \n",
    "# Plotting the pie chart for above dataframe\n",
    "#f1_world_champions_top_5.groupby(['DriversGrouped']).sum().plot(\n",
    "#    kind='pie', y='pct', autopct='%1.0f%%')"
   ]
  },
  {
   "cell_type": "code",
   "execution_count": null,
   "id": "6c6fb4ee",
   "metadata": {},
   "outputs": [],
   "source": []
  },
  {
   "cell_type": "code",
   "execution_count": null,
   "id": "69a8ba74",
   "metadata": {},
   "outputs": [],
   "source": []
  },
  {
   "cell_type": "code",
   "execution_count": null,
   "id": "14aea10e",
   "metadata": {},
   "outputs": [],
   "source": []
  },
  {
   "cell_type": "markdown",
   "id": "afb13d30",
   "metadata": {},
   "source": [
    "### accident scatter"
   ]
  },
  {
   "cell_type": "code",
   "execution_count": 83,
   "id": "ef2362d8",
   "metadata": {},
   "outputs": [],
   "source": [
    "f1_accidents = f1_results[f1_results.eval(\"positionText == 'R' & \\\n",
    "                                            status == 'Accident' or \\\n",
    "                                            status == 'Collision'\")]"
   ]
  },
  {
   "cell_type": "code",
   "execution_count": 84,
   "id": "ed1bc3b9",
   "metadata": {},
   "outputs": [],
   "source": [
    "f1_accidents = f1_accidents.groupby([\"year\"]).size().to_frame(name = 'NumberOfAccidents').reset_index()"
   ]
  },
  {
   "cell_type": "code",
   "execution_count": 85,
   "id": "b83d4fff",
   "metadata": {},
   "outputs": [
    {
     "name": "stdout",
     "output_type": "stream",
     "text": [
      "    year  NumberOfAccidents\n",
      "0   1950                 12\n",
      "1   1951                  9\n",
      "2   1952                  5\n",
      "3   1953                  9\n",
      "4   1954                 10\n",
      "..   ...                ...\n",
      "68  2018                 26\n",
      "69  2019                 20\n",
      "70  2020                 18\n",
      "71  2021                 25\n",
      "72  2022                 18\n",
      "\n",
      "[73 rows x 2 columns]\n"
     ]
    }
   ],
   "source": [
    "print(f1_accidents)"
   ]
  },
  {
   "cell_type": "code",
   "execution_count": 86,
   "id": "e6075c86",
   "metadata": {},
   "outputs": [
    {
     "data": {
      "image/png": "[encoded data removed]",
      "text/plain": [
       "<Figure size 432x288 with 1 Axes>"
      ]
     },
     "metadata": {
      "needs_background": "light"
     },
     "output_type": "display_data"
    }
   ],
   "source": [
    "plt.plot(f1_accidents[\"year\"], f1_accidents[\"NumberOfAccidents\"], color = 'red')\n",
    "plt.title(\"Number of Accidents per Year\")\n",
    "plt.xlabel(\"Year\")\n",
    "plt.ylabel(\"Number of Accidents\")\n",
    "plt.show()"
   ]
  },
  {
   "cell_type": "code",
   "execution_count": 87,
   "id": "3bd7f6e6",
   "metadata": {},
   "outputs": [
    {
     "data": {
      "image/png": "[encoded data removed]",
      "text/plain": [
       "<Figure size 432x288 with 1 Axes>"
      ]
     },
     "metadata": {
      "needs_background": "light"
     },
     "output_type": "display_data"
    }
   ],
   "source": [
    "f1_accidents['year'] = f1_accidents['year'] - f1_accidents['year'] % 10\n",
    "df_decade = (f1_accidents.groupby(['year']).sum().reset_index())\n",
    "plt.title(\"Number of Accidents per Decade\")\n",
    "plt.xlabel(\"Decade\")\n",
    "plt.ylabel(\"Number of Fatalities\")\n",
    "\n",
    "ax = sns.lineplot(x=\"year\", y=\"NumberOfAccidents\", data=df_decade)\n"
   ]
  },
  {
   "cell_type": "code",
   "execution_count": null,
   "id": "7b1a100b",
   "metadata": {},
   "outputs": [],
   "source": []
  },
  {
   "cell_type": "code",
   "execution_count": null,
   "id": "933a7240",
   "metadata": {},
   "outputs": [],
   "source": []
  },
  {
   "cell_type": "code",
   "execution_count": null,
   "id": "d21157ef",
   "metadata": {},
   "outputs": [],
   "source": []
  },
  {
   "cell_type": "code",
   "execution_count": null,
   "id": "7014a2ac",
   "metadata": {},
   "outputs": [],
   "source": []
  },
  {
   "cell_type": "code",
   "execution_count": null,
   "id": "acd50b3f",
   "metadata": {},
   "outputs": [],
   "source": []
  },
  {
   "cell_type": "code",
   "execution_count": null,
   "id": "ea6aada0",
   "metadata": {},
   "outputs": [],
   "source": []
  },
  {
   "cell_type": "code",
   "execution_count": null,
   "id": "5cc5614b",
   "metadata": {},
   "outputs": [],
   "source": []
  },
  {
   "cell_type": "markdown",
   "id": "f0e4a5f3",
   "metadata": {},
   "source": [
    "### fatality lineplot"
   ]
  },
  {
   "cell_type": "code",
   "execution_count": 88,
   "id": "7f38d1a1",
   "metadata": {},
   "outputs": [],
   "source": [
    "f1_fatalities = f1_fatalities.groupby([\"Date of accident\"]).size().to_frame(name = 'NumberOfFatalities').reset_index()"
   ]
  },
  {
   "cell_type": "code",
   "execution_count": 89,
   "id": "4d16ac2a",
   "metadata": {},
   "outputs": [],
   "source": [
    "#f1_fatality.head()"
   ]
  },
  {
   "cell_type": "code",
   "execution_count": 90,
   "id": "8e092f44",
   "metadata": {},
   "outputs": [],
   "source": [
    "#sns.barplot(x=f1_fatalities['year'],y=f1_fatality['NumberOfFatalities']);"
   ]
  },
  {
   "cell_type": "code",
   "execution_count": 91,
   "id": "46f64028",
   "metadata": {},
   "outputs": [
    {
     "data": {
      "image/png": "[encoded data removed]",
      "text/plain": [
       "<Figure size 432x288 with 1 Axes>"
      ]
     },
     "metadata": {
      "needs_background": "light"
     },
     "output_type": "display_data"
    }
   ],
   "source": [
    "#plt.plot(f1_fatalities[\"Date of accident\"], f1_fatalities[\"NumberOfFatalities\"], color = 'blue')\n",
    "#plt.title(\"Number of Fatalities per Year\")\n",
    "#plt.xlabel(\"Year\")\n",
    "#plt.ylabel(\"Number of Fatalities\")\n",
    "#plt.show()\n",
    "\n",
    "\n",
    "\n",
    "\n",
    "f1_fatalities['Date of accident'] = f1_fatalities['Date of accident'] - f1_fatalities['Date of accident'] % 10\n",
    "df_decade = (f1_fatalities.groupby(['Date of accident']).sum().reset_index())\n",
    "\n",
    "plt.title(\"Number of Fatalities per Decade\")\n",
    "plt.xlabel(\"Decade\")\n",
    "plt.ylabel(\"Number of Fatalities\")\n",
    "\n",
    "ax = sns.lineplot(x=\"Date of accident\", y=\"NumberOfFatalities\", data=df_decade)"
   ]
  },
  {
   "cell_type": "code",
   "execution_count": null,
   "id": "23a4b11b",
   "metadata": {},
   "outputs": [],
   "source": []
  },
  {
   "cell_type": "code",
   "execution_count": null,
   "id": "e92540fc",
   "metadata": {},
   "outputs": [],
   "source": []
  },
  {
   "cell_type": "code",
   "execution_count": null,
   "id": "5f4ca015",
   "metadata": {},
   "outputs": [],
   "source": []
  },
  {
   "cell_type": "markdown",
   "id": "f9993dd2",
   "metadata": {},
   "source": [
    "### Experienced drivers"
   ]
  },
  {
   "cell_type": "code",
   "execution_count": 92,
   "id": "72197f9f",
   "metadata": {},
   "outputs": [
    {
     "data": {
      "text/html": [
       "<div>\n",
       "<style scoped>\n",
       "    .dataframe tbody tr th:only-of-type {\n",
       "        vertical-align: middle;\n",
       "    }\n",
       "\n",
       "    .dataframe tbody tr th {\n",
       "        vertical-align: top;\n",
       "    }\n",
       "\n",
       "    .dataframe thead th {\n",
       "        text-align: right;\n",
       "    }\n",
       "</style>\n",
       "<table border=\"1\" class=\"dataframe\">\n",
       "  <thead>\n",
       "    <tr style=\"text-align: right;\">\n",
       "      <th></th>\n",
       "      <th>fullname</th>\n",
       "      <th>NumberOfRaces</th>\n",
       "    </tr>\n",
       "  </thead>\n",
       "  <tbody>\n",
       "    <tr>\n",
       "      <th>256</th>\n",
       "      <td>Fernando Alonso</td>\n",
       "      <td>358</td>\n",
       "    </tr>\n",
       "    <tr>\n",
       "      <th>501</th>\n",
       "      <td>Kimi Räikkönen</td>\n",
       "      <td>352</td>\n",
       "    </tr>\n",
       "    <tr>\n",
       "      <th>748</th>\n",
       "      <td>Rubens Barrichello</td>\n",
       "      <td>326</td>\n",
       "    </tr>\n",
       "    <tr>\n",
       "      <th>522</th>\n",
       "      <td>Lewis Hamilton</td>\n",
       "      <td>310</td>\n",
       "    </tr>\n",
       "    <tr>\n",
       "      <th>410</th>\n",
       "      <td>Jenson Button</td>\n",
       "      <td>309</td>\n",
       "    </tr>\n",
       "    <tr>\n",
       "      <th>...</th>\n",
       "      <td>...</td>\n",
       "      <td>...</td>\n",
       "    </tr>\n",
       "    <tr>\n",
       "      <th>436</th>\n",
       "      <td>Joe Fry</td>\n",
       "      <td>1</td>\n",
       "    </tr>\n",
       "    <tr>\n",
       "      <th>431</th>\n",
       "      <td>Jo Vonlanthen</td>\n",
       "      <td>1</td>\n",
       "    </tr>\n",
       "    <tr>\n",
       "      <th>1</th>\n",
       "      <td>Adolfo Cruz</td>\n",
       "      <td>1</td>\n",
       "    </tr>\n",
       "    <tr>\n",
       "      <th>426</th>\n",
       "      <td>Jimmy Stewart</td>\n",
       "      <td>1</td>\n",
       "    </tr>\n",
       "    <tr>\n",
       "      <th>854</th>\n",
       "      <td>Óscar González</td>\n",
       "      <td>1</td>\n",
       "    </tr>\n",
       "  </tbody>\n",
       "</table>\n",
       "<p>855 rows × 2 columns</p>\n",
       "</div>"
      ],
      "text/plain": [
       "               fullname  NumberOfRaces\n",
       "256     Fernando Alonso            358\n",
       "501      Kimi Räikkönen            352\n",
       "748  Rubens Barrichello            326\n",
       "522      Lewis Hamilton            310\n",
       "410       Jenson Button            309\n",
       "..                  ...            ...\n",
       "436             Joe Fry              1\n",
       "431       Jo Vonlanthen              1\n",
       "1           Adolfo Cruz              1\n",
       "426       Jimmy Stewart              1\n",
       "854      Óscar González              1\n",
       "\n",
       "[855 rows x 2 columns]"
      ]
     },
     "execution_count": 92,
     "metadata": {},
     "output_type": "execute_result"
    }
   ],
   "source": [
    "f1_experience = f1_results.groupby(['fullname']).size().to_frame(name = 'NumberOfRaces').reset_index()\n",
    "f1_experience.sort_values('NumberOfRaces', ascending=False)"
   ]
  },
  {
   "cell_type": "code",
   "execution_count": 93,
   "id": "042db014",
   "metadata": {},
   "outputs": [
    {
     "data": {
      "text/plain": [
       "Text(0, 0.5, 'Driver')"
      ]
     },
     "execution_count": 93,
     "metadata": {},
     "output_type": "execute_result"
    },
    {
     "data": {
      "image/png": "[encoded data removed]",
      "text/plain": [
       "<Figure size 432x288 with 1 Axes>"
      ]
     },
     "metadata": {
      "needs_background": "light"
     },
     "output_type": "display_data"
    }
   ],
   "source": [
    "sns.barplot(\n",
    "    x = 'NumberOfRaces',\n",
    "    y = 'fullname',\n",
    "    data=f1_experience.nlargest(10, 'NumberOfRaces')\n",
    ")\n",
    "\n",
    "# Add plot title\n",
    "plt.title('Top 10 Formula One drivers - number of races')\n",
    "\n",
    "# Add axis labels\n",
    "plt.xlabel('Number of races')\n",
    "plt.ylabel('Driver')"
   ]
  },
  {
   "cell_type": "code",
   "execution_count": null,
   "id": "80c1b220",
   "metadata": {},
   "outputs": [],
   "source": []
  },
  {
   "cell_type": "markdown",
   "id": "28c35749",
   "metadata": {},
   "source": [
    "### Best conversion of races for wins"
   ]
  },
  {
   "cell_type": "code",
   "execution_count": 94,
   "id": "38320e9d",
   "metadata": {},
   "outputs": [
    {
     "data": {
      "text/html": [
       "<div>\n",
       "<style scoped>\n",
       "    .dataframe tbody tr th:only-of-type {\n",
       "        vertical-align: middle;\n",
       "    }\n",
       "\n",
       "    .dataframe tbody tr th {\n",
       "        vertical-align: top;\n",
       "    }\n",
       "\n",
       "    .dataframe thead th {\n",
       "        text-align: right;\n",
       "    }\n",
       "</style>\n",
       "<table border=\"1\" class=\"dataframe\">\n",
       "  <thead>\n",
       "    <tr style=\"text-align: right;\">\n",
       "      <th></th>\n",
       "      <th>fullname</th>\n",
       "      <th>NumberOfWins</th>\n",
       "    </tr>\n",
       "  </thead>\n",
       "  <tbody>\n",
       "    <tr>\n",
       "      <th>66</th>\n",
       "      <td>Lewis Hamilton</td>\n",
       "      <td>103</td>\n",
       "    </tr>\n",
       "    <tr>\n",
       "      <th>75</th>\n",
       "      <td>Michael Schumacher</td>\n",
       "      <td>91</td>\n",
       "    </tr>\n",
       "    <tr>\n",
       "      <th>104</th>\n",
       "      <td>Sebastian Vettel</td>\n",
       "      <td>53</td>\n",
       "    </tr>\n",
       "    <tr>\n",
       "      <th>0</th>\n",
       "      <td>Alain Prost</td>\n",
       "      <td>51</td>\n",
       "    </tr>\n",
       "    <tr>\n",
       "      <th>4</th>\n",
       "      <td>Ayrton Senna</td>\n",
       "      <td>41</td>\n",
       "    </tr>\n",
       "    <tr>\n",
       "      <th>...</th>\n",
       "      <td>...</td>\n",
       "      <td>...</td>\n",
       "    </tr>\n",
       "    <tr>\n",
       "      <th>34</th>\n",
       "      <td>Heikki Kovalainen</td>\n",
       "      <td>1</td>\n",
       "    </tr>\n",
       "    <tr>\n",
       "      <th>90</th>\n",
       "      <td>Peter Gethin</td>\n",
       "      <td>1</td>\n",
       "    </tr>\n",
       "    <tr>\n",
       "      <th>58</th>\n",
       "      <td>Johnnie Parsons</td>\n",
       "      <td>1</td>\n",
       "    </tr>\n",
       "    <tr>\n",
       "      <th>36</th>\n",
       "      <td>Innes Ireland</td>\n",
       "      <td>1</td>\n",
       "    </tr>\n",
       "    <tr>\n",
       "      <th>22</th>\n",
       "      <td>Esteban Ocon</td>\n",
       "      <td>1</td>\n",
       "    </tr>\n",
       "  </tbody>\n",
       "</table>\n",
       "<p>113 rows × 2 columns</p>\n",
       "</div>"
      ],
      "text/plain": [
       "               fullname  NumberOfWins\n",
       "66       Lewis Hamilton           103\n",
       "75   Michael Schumacher            91\n",
       "104    Sebastian Vettel            53\n",
       "0           Alain Prost            51\n",
       "4          Ayrton Senna            41\n",
       "..                  ...           ...\n",
       "34    Heikki Kovalainen             1\n",
       "90         Peter Gethin             1\n",
       "58      Johnnie Parsons             1\n",
       "36        Innes Ireland             1\n",
       "22         Esteban Ocon             1\n",
       "\n",
       "[113 rows x 2 columns]"
      ]
     },
     "execution_count": 94,
     "metadata": {},
     "output_type": "execute_result"
    }
   ],
   "source": [
    "f1_individual_wins = f1_results[f1_results.eval(\"positionOrder == 1\")].reset_index()\n",
    "f1_individual_wins = f1_individual_wins.groupby(['fullname']).size().to_frame(name = 'positionOrder').reset_index()\n",
    "f1_individual_wins = f1_individual_wins.rename(columns = {'positionOrder':'NumberOfWins'}, inplace = False)\n",
    "f1_individual_wins.sort_values('NumberOfWins', ascending=False)\n"
   ]
  },
  {
   "cell_type": "code",
   "execution_count": null,
   "id": "79812874",
   "metadata": {},
   "outputs": [],
   "source": []
  },
  {
   "cell_type": "code",
   "execution_count": null,
   "id": "56145d81",
   "metadata": {},
   "outputs": [],
   "source": []
  },
  {
   "cell_type": "code",
   "execution_count": null,
   "id": "7929e803",
   "metadata": {},
   "outputs": [],
   "source": []
  },
  {
   "cell_type": "code",
   "execution_count": null,
   "id": "9f3df34d",
   "metadata": {},
   "outputs": [],
   "source": []
  },
  {
   "cell_type": "code",
   "execution_count": 153,
   "id": "a6384fab",
   "metadata": {},
   "outputs": [],
   "source": [
    "f1_conversion_rate = pd.merge(f1_experience,f1_individual_wins, on = 'fullname', how='inner').reset_index(drop=True)\n",
    "\n",
    "#drivers who never won a race have been dropped\n",
    "\n",
    "\n",
    "#f1_safety = pd.merge(f1_accidents,f1_fatalities, left_on = 'year', right_on = 'Date of accident', how='left')"
   ]
  },
  {
   "cell_type": "code",
   "execution_count": 154,
   "id": "0f5b8cf7",
   "metadata": {},
   "outputs": [
    {
     "data": {
      "text/html": [
       "<div>\n",
       "<style scoped>\n",
       "    .dataframe tbody tr th:only-of-type {\n",
       "        vertical-align: middle;\n",
       "    }\n",
       "\n",
       "    .dataframe tbody tr th {\n",
       "        vertical-align: top;\n",
       "    }\n",
       "\n",
       "    .dataframe thead th {\n",
       "        text-align: right;\n",
       "    }\n",
       "</style>\n",
       "<table border=\"1\" class=\"dataframe\">\n",
       "  <thead>\n",
       "    <tr style=\"text-align: right;\">\n",
       "      <th></th>\n",
       "      <th>fullname</th>\n",
       "      <th>NumberOfRaces</th>\n",
       "      <th>NumberOfWins</th>\n",
       "    </tr>\n",
       "  </thead>\n",
       "  <tbody>\n",
       "    <tr>\n",
       "      <th>0</th>\n",
       "      <td>Alain Prost</td>\n",
       "      <td>202</td>\n",
       "      <td>51</td>\n",
       "    </tr>\n",
       "    <tr>\n",
       "      <th>1</th>\n",
       "      <td>Alan Jones</td>\n",
       "      <td>117</td>\n",
       "      <td>12</td>\n",
       "    </tr>\n",
       "    <tr>\n",
       "      <th>2</th>\n",
       "      <td>Alberto Ascari</td>\n",
       "      <td>36</td>\n",
       "      <td>13</td>\n",
       "    </tr>\n",
       "  </tbody>\n",
       "</table>\n",
       "</div>"
      ],
      "text/plain": [
       "         fullname  NumberOfRaces  NumberOfWins\n",
       "0     Alain Prost            202            51\n",
       "1      Alan Jones            117            12\n",
       "2  Alberto Ascari             36            13"
      ]
     },
     "execution_count": 154,
     "metadata": {},
     "output_type": "execute_result"
    }
   ],
   "source": [
    "f1_conversion_rate.head(3)"
   ]
  },
  {
   "cell_type": "code",
   "execution_count": 155,
   "id": "652f910a",
   "metadata": {},
   "outputs": [],
   "source": [
    "#new Pct column\n",
    "f1_conversion_rate['Percent'] = ((f1_conversion_rate.NumberOfWins / f1_conversion_rate.NumberOfRaces)*100).reset_index(drop=True)\n",
    "f1_conversion_rate.sort_values('Percent', ascending=False, inplace=True)\n"
   ]
  },
  {
   "cell_type": "code",
   "execution_count": 156,
   "id": "a619a828",
   "metadata": {},
   "outputs": [],
   "source": [
    "# qualifier of minimum 20 races\n",
    "f1_conversion_rate = f1_conversion_rate[~(f1_conversion_rate['NumberOfWins'] <= 20)].reset_index(drop=True)"
   ]
  },
  {
   "cell_type": "code",
   "execution_count": 157,
   "id": "b313d54f",
   "metadata": {},
   "outputs": [],
   "source": [
    "# drop all drivers except the 10 with highest percentage of win conversions\n",
    "f1_conversion_rate = f1_conversion_rate.iloc[:10]"
   ]
  },
  {
   "cell_type": "code",
   "execution_count": 158,
   "id": "140305d1",
   "metadata": {},
   "outputs": [
    {
     "data": {
      "text/html": [
       "<div>\n",
       "<style scoped>\n",
       "    .dataframe tbody tr th:only-of-type {\n",
       "        vertical-align: middle;\n",
       "    }\n",
       "\n",
       "    .dataframe tbody tr th {\n",
       "        vertical-align: top;\n",
       "    }\n",
       "\n",
       "    .dataframe thead th {\n",
       "        text-align: right;\n",
       "    }\n",
       "</style>\n",
       "<table border=\"1\" class=\"dataframe\">\n",
       "  <thead>\n",
       "    <tr style=\"text-align: right;\">\n",
       "      <th></th>\n",
       "      <th>fullname</th>\n",
       "      <th>NumberOfRaces</th>\n",
       "      <th>NumberOfWins</th>\n",
       "      <th>Percent</th>\n",
       "    </tr>\n",
       "  </thead>\n",
       "  <tbody>\n",
       "    <tr>\n",
       "      <th>0</th>\n",
       "      <td>Juan Manuel Fangio</td>\n",
       "      <td>58</td>\n",
       "      <td>24</td>\n",
       "      <td>41.379310</td>\n",
       "    </tr>\n",
       "    <tr>\n",
       "      <th>1</th>\n",
       "      <td>Jim Clark</td>\n",
       "      <td>73</td>\n",
       "      <td>25</td>\n",
       "      <td>34.246575</td>\n",
       "    </tr>\n",
       "    <tr>\n",
       "      <th>2</th>\n",
       "      <td>Lewis Hamilton</td>\n",
       "      <td>310</td>\n",
       "      <td>103</td>\n",
       "      <td>33.225806</td>\n",
       "    </tr>\n",
       "    <tr>\n",
       "      <th>3</th>\n",
       "      <td>Michael Schumacher</td>\n",
       "      <td>308</td>\n",
       "      <td>91</td>\n",
       "      <td>29.545455</td>\n",
       "    </tr>\n",
       "    <tr>\n",
       "      <th>4</th>\n",
       "      <td>Jackie Stewart</td>\n",
       "      <td>100</td>\n",
       "      <td>27</td>\n",
       "      <td>27.000000</td>\n",
       "    </tr>\n",
       "    <tr>\n",
       "      <th>5</th>\n",
       "      <td>Ayrton Senna</td>\n",
       "      <td>162</td>\n",
       "      <td>41</td>\n",
       "      <td>25.308642</td>\n",
       "    </tr>\n",
       "    <tr>\n",
       "      <th>6</th>\n",
       "      <td>Alain Prost</td>\n",
       "      <td>202</td>\n",
       "      <td>51</td>\n",
       "      <td>25.247525</td>\n",
       "    </tr>\n",
       "    <tr>\n",
       "      <th>7</th>\n",
       "      <td>Max Verstappen</td>\n",
       "      <td>163</td>\n",
       "      <td>35</td>\n",
       "      <td>21.472393</td>\n",
       "    </tr>\n",
       "    <tr>\n",
       "      <th>8</th>\n",
       "      <td>Damon Hill</td>\n",
       "      <td>122</td>\n",
       "      <td>22</td>\n",
       "      <td>18.032787</td>\n",
       "    </tr>\n",
       "    <tr>\n",
       "      <th>9</th>\n",
       "      <td>Sebastian Vettel</td>\n",
       "      <td>300</td>\n",
       "      <td>53</td>\n",
       "      <td>17.666667</td>\n",
       "    </tr>\n",
       "  </tbody>\n",
       "</table>\n",
       "</div>"
      ],
      "text/plain": [
       "             fullname  NumberOfRaces  NumberOfWins    Percent\n",
       "0  Juan Manuel Fangio             58            24  41.379310\n",
       "1           Jim Clark             73            25  34.246575\n",
       "2      Lewis Hamilton            310           103  33.225806\n",
       "3  Michael Schumacher            308            91  29.545455\n",
       "4      Jackie Stewart            100            27  27.000000\n",
       "5        Ayrton Senna            162            41  25.308642\n",
       "6         Alain Prost            202            51  25.247525\n",
       "7      Max Verstappen            163            35  21.472393\n",
       "8          Damon Hill            122            22  18.032787\n",
       "9    Sebastian Vettel            300            53  17.666667"
      ]
     },
     "execution_count": 158,
     "metadata": {},
     "output_type": "execute_result"
    }
   ],
   "source": [
    "f1_conversion_rate"
   ]
  },
  {
   "cell_type": "code",
   "execution_count": 159,
   "id": "37e43b2a",
   "metadata": {},
   "outputs": [],
   "source": [
    "f1_conversion_rate.sort_values('Percent', ascending=True, inplace=True)"
   ]
  },
  {
   "cell_type": "code",
   "execution_count": null,
   "id": "914845b8",
   "metadata": {},
   "outputs": [],
   "source": []
  },
  {
   "cell_type": "code",
   "execution_count": null,
   "id": "d1e12924",
   "metadata": {},
   "outputs": [],
   "source": []
  },
  {
   "cell_type": "code",
   "execution_count": 164,
   "id": "8542dd8f",
   "metadata": {},
   "outputs": [
    {
     "data": {
      "image/png": "[encoded data removed]",
      "text/plain": [
       "<Figure size 432x288 with 1 Axes>"
      ]
     },
     "metadata": {
      "needs_background": "light"
     },
     "output_type": "display_data"
    }
   ],
   "source": [
    "import pandas as pd\n",
    "import matplotlib.pyplot as plt\n",
    "\n",
    "\n",
    "\n",
    "# plotting stacked Horizontal Bar Chart with all the columns\n",
    "f1_conversion_rate.plot.barh(x='fullname', xlabel = '', ylabel = '', title= 'Formula One drivers - Converting race wins percentage', color=(\"gold\", \"steelblue\", 'tomato'))\n",
    "\n",
    "# display the plotted Horizontal Bar Chart\n",
    "plt.show()"
   ]
  },
  {
   "cell_type": "code",
   "execution_count": 141,
   "id": "b5de57ee",
   "metadata": {},
   "outputs": [
    {
     "data": {
      "text/plain": [
       "<AxesSubplot:xlabel='fullname'>"
      ]
     },
     "execution_count": 141,
     "metadata": {},
     "output_type": "execute_result"
    },
    {
     "data": {
      "image/png": "[encoded data removed]",
      "text/plain": [
       "<Figure size 432x288 with 1 Axes>"
      ]
     },
     "metadata": {
      "needs_background": "light"
     },
     "output_type": "display_data"
    }
   ],
   "source": [
    "f1_conversion_rate[['fullname', 'NumberOfRaces', 'NumberOfWins', 'Percent']].plot(x='fullname', kind='bar')"
   ]
  },
  {
   "cell_type": "code",
   "execution_count": 98,
   "id": "ad9871e9",
   "metadata": {},
   "outputs": [],
   "source": [
    "\n",
    "\n",
    "# top 10\n",
    "\n",
    "\n",
    "#sort\n",
    "#f1_conversion_rate.sort_values('Percent', ascending=False)"
   ]
  },
  {
   "cell_type": "code",
   "execution_count": null,
   "id": "273f5290",
   "metadata": {},
   "outputs": [],
   "source": []
  },
  {
   "cell_type": "code",
   "execution_count": null,
   "id": "7053db65",
   "metadata": {},
   "outputs": [],
   "source": []
  },
  {
   "cell_type": "code",
   "execution_count": 167,
   "id": "08a22b49",
   "metadata": {},
   "outputs": [
    {
     "name": "stdout",
     "output_type": "stream",
     "text": [
      "Driver                Michael Schumacher\n",
      "TimesWorldChampion                     7\n",
      "Name: 0, dtype: object\n",
      "Driver                Lewis Hamilton\n",
      "TimesWorldChampion                 7\n",
      "Name: 1, dtype: object\n",
      "Driver                Juan Manuel Fangio\n",
      "TimesWorldChampion                     6\n",
      "Name: 2, dtype: object\n",
      "Driver                Alain Prost\n",
      "TimesWorldChampion              4\n",
      "Name: 3, dtype: object\n",
      "Driver                Sebastian Vettel\n",
      "TimesWorldChampion                   4\n",
      "Name: 4, dtype: object\n"
     ]
    }
   ],
   "source": []
  },
  {
   "cell_type": "code",
   "execution_count": null,
   "id": "63ece901",
   "metadata": {},
   "outputs": [],
   "source": []
  },
  {
   "cell_type": "code",
   "execution_count": null,
   "id": "230fff95",
   "metadata": {},
   "outputs": [],
   "source": []
  },
  {
   "cell_type": "code",
   "execution_count": null,
   "id": "bd7f300b",
   "metadata": {},
   "outputs": [],
   "source": [
    "f1_conversion_rate.nlargest(10, ['Percent'])"
   ]
  },
  {
   "cell_type": "code",
   "execution_count": null,
   "id": "52e9f715",
   "metadata": {},
   "outputs": [],
   "source": [
    "f1_conversion_rate.drop(f1_conversion_rate.index[:10], inplace=True)\n"
   ]
  },
  {
   "cell_type": "code",
   "execution_count": null,
   "id": "c9855335",
   "metadata": {},
   "outputs": [],
   "source": []
  },
  {
   "cell_type": "code",
   "execution_count": 99,
   "id": "95f6344b",
   "metadata": {},
   "outputs": [
    {
     "data": {
      "text/html": [
       "<div>\n",
       "<style scoped>\n",
       "    .dataframe tbody tr th:only-of-type {\n",
       "        vertical-align: middle;\n",
       "    }\n",
       "\n",
       "    .dataframe tbody tr th {\n",
       "        vertical-align: top;\n",
       "    }\n",
       "\n",
       "    .dataframe thead th {\n",
       "        text-align: right;\n",
       "    }\n",
       "</style>\n",
       "<table border=\"1\" class=\"dataframe\">\n",
       "  <thead>\n",
       "    <tr style=\"text-align: right;\">\n",
       "      <th></th>\n",
       "      <th>fullname</th>\n",
       "      <th>NumberOfRaces</th>\n",
       "      <th>NumberOfWins</th>\n",
       "      <th>Percent</th>\n",
       "    </tr>\n",
       "  </thead>\n",
       "  <tbody>\n",
       "    <tr>\n",
       "      <th>0</th>\n",
       "      <td>Alain Prost</td>\n",
       "      <td>202</td>\n",
       "      <td>51</td>\n",
       "      <td>25.247525</td>\n",
       "    </tr>\n",
       "    <tr>\n",
       "      <th>1</th>\n",
       "      <td>Ayrton Senna</td>\n",
       "      <td>162</td>\n",
       "      <td>41</td>\n",
       "      <td>25.308642</td>\n",
       "    </tr>\n",
       "    <tr>\n",
       "      <th>2</th>\n",
       "      <td>Damon Hill</td>\n",
       "      <td>122</td>\n",
       "      <td>22</td>\n",
       "      <td>18.032787</td>\n",
       "    </tr>\n",
       "    <tr>\n",
       "      <th>3</th>\n",
       "      <td>Fernando Alonso</td>\n",
       "      <td>358</td>\n",
       "      <td>32</td>\n",
       "      <td>8.938547</td>\n",
       "    </tr>\n",
       "    <tr>\n",
       "      <th>4</th>\n",
       "      <td>Jackie Stewart</td>\n",
       "      <td>100</td>\n",
       "      <td>27</td>\n",
       "      <td>27.000000</td>\n",
       "    </tr>\n",
       "    <tr>\n",
       "      <th>5</th>\n",
       "      <td>Jim Clark</td>\n",
       "      <td>73</td>\n",
       "      <td>25</td>\n",
       "      <td>34.246575</td>\n",
       "    </tr>\n",
       "    <tr>\n",
       "      <th>6</th>\n",
       "      <td>Juan Manuel Fangio</td>\n",
       "      <td>58</td>\n",
       "      <td>24</td>\n",
       "      <td>41.379310</td>\n",
       "    </tr>\n",
       "    <tr>\n",
       "      <th>7</th>\n",
       "      <td>Kimi Räikkönen</td>\n",
       "      <td>352</td>\n",
       "      <td>21</td>\n",
       "      <td>5.965909</td>\n",
       "    </tr>\n",
       "    <tr>\n",
       "      <th>8</th>\n",
       "      <td>Lewis Hamilton</td>\n",
       "      <td>310</td>\n",
       "      <td>103</td>\n",
       "      <td>33.225806</td>\n",
       "    </tr>\n",
       "    <tr>\n",
       "      <th>9</th>\n",
       "      <td>Max Verstappen</td>\n",
       "      <td>163</td>\n",
       "      <td>35</td>\n",
       "      <td>21.472393</td>\n",
       "    </tr>\n",
       "    <tr>\n",
       "      <th>10</th>\n",
       "      <td>Michael Schumacher</td>\n",
       "      <td>308</td>\n",
       "      <td>91</td>\n",
       "      <td>29.545455</td>\n",
       "    </tr>\n",
       "    <tr>\n",
       "      <th>11</th>\n",
       "      <td>Nelson Piquet</td>\n",
       "      <td>207</td>\n",
       "      <td>23</td>\n",
       "      <td>11.111111</td>\n",
       "    </tr>\n",
       "    <tr>\n",
       "      <th>12</th>\n",
       "      <td>Nico Rosberg</td>\n",
       "      <td>206</td>\n",
       "      <td>23</td>\n",
       "      <td>11.165049</td>\n",
       "    </tr>\n",
       "    <tr>\n",
       "      <th>13</th>\n",
       "      <td>Nigel Mansell</td>\n",
       "      <td>192</td>\n",
       "      <td>31</td>\n",
       "      <td>16.145833</td>\n",
       "    </tr>\n",
       "    <tr>\n",
       "      <th>14</th>\n",
       "      <td>Niki Lauda</td>\n",
       "      <td>174</td>\n",
       "      <td>25</td>\n",
       "      <td>14.367816</td>\n",
       "    </tr>\n",
       "    <tr>\n",
       "      <th>15</th>\n",
       "      <td>Sebastian Vettel</td>\n",
       "      <td>300</td>\n",
       "      <td>53</td>\n",
       "      <td>17.666667</td>\n",
       "    </tr>\n",
       "  </tbody>\n",
       "</table>\n",
       "</div>"
      ],
      "text/plain": [
       "              fullname  NumberOfRaces  NumberOfWins    Percent\n",
       "0          Alain Prost            202            51  25.247525\n",
       "1         Ayrton Senna            162            41  25.308642\n",
       "2           Damon Hill            122            22  18.032787\n",
       "3      Fernando Alonso            358            32   8.938547\n",
       "4       Jackie Stewart            100            27  27.000000\n",
       "5            Jim Clark             73            25  34.246575\n",
       "6   Juan Manuel Fangio             58            24  41.379310\n",
       "7       Kimi Räikkönen            352            21   5.965909\n",
       "8       Lewis Hamilton            310           103  33.225806\n",
       "9       Max Verstappen            163            35  21.472393\n",
       "10  Michael Schumacher            308            91  29.545455\n",
       "11       Nelson Piquet            207            23  11.111111\n",
       "12        Nico Rosberg            206            23  11.165049\n",
       "13       Nigel Mansell            192            31  16.145833\n",
       "14          Niki Lauda            174            25  14.367816\n",
       "15    Sebastian Vettel            300            53  17.666667"
      ]
     },
     "execution_count": 99,
     "metadata": {},
     "output_type": "execute_result"
    }
   ],
   "source": [
    "f1_conversion_rate.head(18)"
   ]
  },
  {
   "cell_type": "code",
   "execution_count": null,
   "id": "1edde762",
   "metadata": {},
   "outputs": [],
   "source": []
  },
  {
   "cell_type": "code",
   "execution_count": null,
   "id": "e21f7f3f",
   "metadata": {},
   "outputs": [],
   "source": []
  },
  {
   "cell_type": "code",
   "execution_count": null,
   "id": "5742a80a",
   "metadata": {},
   "outputs": [],
   "source": [
    "f1_driver_wins = f1_results.groupby(['fullname']).size().to_frame(name = 'NumberOfRaces').reset_index()"
   ]
  },
  {
   "cell_type": "code",
   "execution_count": null,
   "id": "f7cb2ee1",
   "metadata": {},
   "outputs": [],
   "source": []
  },
  {
   "cell_type": "code",
   "execution_count": 103,
   "id": "30197e88",
   "metadata": {},
   "outputs": [
    {
     "ename": "NameError",
     "evalue": "name 'f1_conversion' is not defined",
     "output_type": "error",
     "traceback": [
      "\u001b[1;31m---------------------------------------------------------------------------\u001b[0m",
      "\u001b[1;31mNameError\u001b[0m                                 Traceback (most recent call last)",
      "\u001b[1;32m<ipython-input-103-d1390b81be5e>\u001b[0m in \u001b[0;36m<module>\u001b[1;34m\u001b[0m\n\u001b[1;32m----> 1\u001b[1;33m \u001b[0mf1_conversion\u001b[0m\u001b[1;33m\u001b[0m\u001b[1;33m\u001b[0m\u001b[0m\n\u001b[0m",
      "\u001b[1;31mNameError\u001b[0m: name 'f1_conversion' is not defined"
     ]
    }
   ],
   "source": [
    "f1_conversion "
   ]
  },
  {
   "cell_type": "code",
   "execution_count": null,
   "id": "71949efd",
   "metadata": {},
   "outputs": [],
   "source": [
    "f1_conversion = f1_conversion['fullname'].unique()"
   ]
  },
  {
   "cell_type": "code",
   "execution_count": null,
   "id": "5f526e7d",
   "metadata": {},
   "outputs": [],
   "source": []
  },
  {
   "cell_type": "code",
   "execution_count": null,
   "id": "0b894cce",
   "metadata": {},
   "outputs": [],
   "source": []
  },
  {
   "cell_type": "code",
   "execution_count": null,
   "id": "b281614a",
   "metadata": {},
   "outputs": [],
   "source": []
  },
  {
   "cell_type": "code",
   "execution_count": null,
   "id": "7e2032c1",
   "metadata": {},
   "outputs": [],
   "source": []
  },
  {
   "cell_type": "code",
   "execution_count": null,
   "id": "0f4292f0",
   "metadata": {},
   "outputs": [],
   "source": [
    "f1_conversion['NumberOfWins'] = (\n",
    "    f1_results['positionOrder'].where(f1_results['positionOrder'] == 1).groupby(f1_results['fullname']).transform('sum'))"
   ]
  },
  {
   "cell_type": "code",
   "execution_count": null,
   "id": "8069e6ba",
   "metadata": {},
   "outputs": [],
   "source": [
    "df['new_group'] = df.groupby(\"id\")[\"group\"] \\\n",
    "                    .transform(lambda x: 'two' if (x.nunique() == 2) else x)"
   ]
  },
  {
   "cell_type": "code",
   "execution_count": null,
   "id": "90c217ee",
   "metadata": {},
   "outputs": [],
   "source": [
    "f1_conversion.insert(loc=2, column='NumberOflaps', value = f1_laps['laps'])"
   ]
  },
  {
   "cell_type": "code",
   "execution_count": null,
   "id": "14d2d9c1",
   "metadata": {},
   "outputs": [],
   "source": [
    "f1_conversion['NumberOfWins'] = f1_results['fullname'].groupby(df['Date']).transform('sum')"
   ]
  },
  {
   "cell_type": "code",
   "execution_count": null,
   "id": "f7d8d944",
   "metadata": {},
   "outputs": [],
   "source": []
  },
  {
   "cell_type": "code",
   "execution_count": null,
   "id": "24091c11",
   "metadata": {},
   "outputs": [],
   "source": []
  },
  {
   "cell_type": "code",
   "execution_count": null,
   "id": "145052fa",
   "metadata": {},
   "outputs": [],
   "source": []
  },
  {
   "cell_type": "code",
   "execution_count": null,
   "id": "8573b3ed",
   "metadata": {},
   "outputs": [],
   "source": []
  },
  {
   "cell_type": "code",
   "execution_count": null,
   "id": "d725e572",
   "metadata": {},
   "outputs": [],
   "source": [
    "f1_conversion"
   ]
  },
  {
   "cell_type": "code",
   "execution_count": null,
   "id": "0edbbef7",
   "metadata": {},
   "outputs": [],
   "source": []
  },
  {
   "cell_type": "code",
   "execution_count": null,
   "id": "42fed07e",
   "metadata": {},
   "outputs": [],
   "source": []
  },
  {
   "cell_type": "markdown",
   "id": "b1d90efb",
   "metadata": {},
   "source": [
    "### most laps driven in F1"
   ]
  },
  {
   "cell_type": "code",
   "execution_count": null,
   "id": "482e7865",
   "metadata": {},
   "outputs": [],
   "source": [
    "#f1_laps = f1_results.groupby(['f1_results','laps']).sum().reset_index()"
   ]
  },
  {
   "cell_type": "code",
   "execution_count": null,
   "id": "d549cfcd",
   "metadata": {},
   "outputs": [],
   "source": [
    "f1_laps = f1_results.groupby(['fullname'])['laps'].agg('sum').reset_index()"
   ]
  },
  {
   "cell_type": "code",
   "execution_count": null,
   "id": "761f2e99",
   "metadata": {},
   "outputs": [],
   "source": [
    "sns.barplot(\n",
    "    x = 'laps',\n",
    "    y = 'fullname',\n",
    "    data=f1_laps.nlargest(10, 'laps')\n",
    ")\n",
    "\n",
    "# Add plot title\n",
    "plt.title('Top 10 Formula One drivers - number of laps')\n",
    "\n",
    "# Add axis labels\n",
    "plt.xlabel('Number of completed laps')\n",
    "plt.ylabel('Driver')"
   ]
  },
  {
   "cell_type": "code",
   "execution_count": null,
   "id": "1c1c6d1c",
   "metadata": {},
   "outputs": [],
   "source": [
    "f1_experience"
   ]
  },
  {
   "cell_type": "code",
   "execution_count": null,
   "id": "279fb6fe",
   "metadata": {},
   "outputs": [],
   "source": []
  },
  {
   "cell_type": "markdown",
   "id": "b74b4030",
   "metadata": {},
   "source": []
  },
  {
   "cell_type": "code",
   "execution_count": null,
   "id": "d4e97998",
   "metadata": {},
   "outputs": [],
   "source": [
    "f1_conversion = pd.DataFrame(f1_results)"
   ]
  },
  {
   "cell_type": "code",
   "execution_count": null,
   "id": "2866a8c7",
   "metadata": {},
   "outputs": [],
   "source": [
    "f1_conversion.info()"
   ]
  },
  {
   "cell_type": "code",
   "execution_count": null,
   "id": "68024860",
   "metadata": {},
   "outputs": [],
   "source": []
  },
  {
   "cell_type": "code",
   "execution_count": null,
   "id": "3f986ec3",
   "metadata": {},
   "outputs": [],
   "source": []
  },
  {
   "cell_type": "code",
   "execution_count": null,
   "id": "fe501a35",
   "metadata": {},
   "outputs": [],
   "source": []
  },
  {
   "cell_type": "code",
   "execution_count": null,
   "id": "f8e4ea9d",
   "metadata": {},
   "outputs": [],
   "source": []
  },
  {
   "cell_type": "code",
   "execution_count": null,
   "id": "2b1c39cb",
   "metadata": {},
   "outputs": [],
   "source": [
    "f1_conversion = f1_conversion['fullname'].unique()\n",
    "f1_conversion = pd.DataFrame(f1_conversion)"
   ]
  },
  {
   "cell_type": "code",
   "execution_count": null,
   "id": "efe43c92",
   "metadata": {},
   "outputs": [],
   "source": [
    "print(f1_conversion)"
   ]
  },
  {
   "cell_type": "code",
   "execution_count": null,
   "id": "a0aa91f3",
   "metadata": {},
   "outputs": [],
   "source": [
    "f1_conversion = f1_conversion.rename(columns = {0: 'fullname'}, inplace = False)"
   ]
  },
  {
   "cell_type": "code",
   "execution_count": null,
   "id": "f4545df2",
   "metadata": {},
   "outputs": [],
   "source": [
    "f1_conversion.insert(loc=1, column='NumberOfRaces', value = f1_laps['laps'])"
   ]
  },
  {
   "cell_type": "code",
   "execution_count": null,
   "id": "fe456c1b",
   "metadata": {},
   "outputs": [],
   "source": [
    "#'f1_results.groupby(['fullname'])['laps'].agg('sum')"
   ]
  },
  {
   "cell_type": "code",
   "execution_count": null,
   "id": "3e318357",
   "metadata": {},
   "outputs": [],
   "source": [
    "f1_conversion"
   ]
  },
  {
   "cell_type": "code",
   "execution_count": null,
   "id": "cf18708a",
   "metadata": {},
   "outputs": [],
   "source": []
  },
  {
   "cell_type": "code",
   "execution_count": null,
   "id": "49e2a8bb",
   "metadata": {},
   "outputs": [],
   "source": []
  },
  {
   "cell_type": "code",
   "execution_count": null,
   "id": "a9dae3a3",
   "metadata": {},
   "outputs": [],
   "source": [
    "air_quality[\"ratio_paris_antwerp\"] = (\n",
    "    air_quality[\"station_paris\"] / air_quality[\"station_antwerp\"]"
   ]
  },
  {
   "cell_type": "code",
   "execution_count": null,
   "id": "d6126229",
   "metadata": {},
   "outputs": [],
   "source": []
  },
  {
   "cell_type": "code",
   "execution_count": null,
   "id": "dfe74a43",
   "metadata": {},
   "outputs": [],
   "source": []
  },
  {
   "cell_type": "code",
   "execution_count": null,
   "id": "bc15ddff",
   "metadata": {},
   "outputs": [],
   "source": []
  },
  {
   "cell_type": "code",
   "execution_count": null,
   "id": "4a8996e5",
   "metadata": {},
   "outputs": [],
   "source": []
  },
  {
   "cell_type": "code",
   "execution_count": null,
   "id": "6f9f4105",
   "metadata": {},
   "outputs": [],
   "source": []
  },
  {
   "cell_type": "code",
   "execution_count": null,
   "id": "6d59c1b1",
   "metadata": {},
   "outputs": [],
   "source": []
  },
  {
   "cell_type": "code",
   "execution_count": null,
   "id": "6a968f87",
   "metadata": {},
   "outputs": [],
   "source": []
  },
  {
   "cell_type": "code",
   "execution_count": null,
   "id": "39736fba",
   "metadata": {},
   "outputs": [],
   "source": []
  },
  {
   "cell_type": "code",
   "execution_count": null,
   "id": "5ef18c03",
   "metadata": {},
   "outputs": [],
   "source": []
  },
  {
   "cell_type": "code",
   "execution_count": null,
   "id": "c508b61d",
   "metadata": {},
   "outputs": [],
   "source": []
  },
  {
   "cell_type": "code",
   "execution_count": null,
   "id": "933e199e",
   "metadata": {},
   "outputs": [],
   "source": []
  },
  {
   "cell_type": "code",
   "execution_count": null,
   "id": "a6228dd2",
   "metadata": {},
   "outputs": [],
   "source": []
  },
  {
   "cell_type": "code",
   "execution_count": null,
   "id": "55035693",
   "metadata": {},
   "outputs": [],
   "source": []
  },
  {
   "cell_type": "markdown",
   "id": "3e3d82d1",
   "metadata": {},
   "source": [
    "### Most experienced driver"
   ]
  },
  {
   "cell_type": "code",
   "execution_count": null,
   "id": "169ec4d4",
   "metadata": {},
   "outputs": [],
   "source": [
    "#f1_experience = pd.DataFrame(f1_results)\n"
   ]
  },
  {
   "cell_type": "code",
   "execution_count": null,
   "id": "13638c9e",
   "metadata": {},
   "outputs": [],
   "source": [
    "f1_experience = f1_results.groupby(['fullname']).size().to_frame(name = 'NumberOfRaces').reset_index()"
   ]
  },
  {
   "cell_type": "code",
   "execution_count": null,
   "id": "5e8bf42a",
   "metadata": {},
   "outputs": [],
   "source": [
    "\n",
    "\n"
   ]
  },
  {
   "cell_type": "code",
   "execution_count": null,
   "id": "2b0c0ad6",
   "metadata": {},
   "outputs": [],
   "source": [
    "print(f1_results)"
   ]
  },
  {
   "cell_type": "code",
   "execution_count": null,
   "id": "aeb4d391",
   "metadata": {},
   "outputs": [],
   "source": []
  },
  {
   "cell_type": "code",
   "execution_count": null,
   "id": "ebc820c0",
   "metadata": {},
   "outputs": [],
   "source": [
    "print(f1_experience.head(10))"
   ]
  },
  {
   "cell_type": "code",
   "execution_count": null,
   "id": "ed0a7065",
   "metadata": {},
   "outputs": [],
   "source": [
    "print(f1_results.head(10))"
   ]
  },
  {
   "cell_type": "code",
   "execution_count": null,
   "id": "e22c0d99",
   "metadata": {},
   "outputs": [],
   "source": []
  },
  {
   "cell_type": "code",
   "execution_count": null,
   "id": "d13734a5",
   "metadata": {},
   "outputs": [],
   "source": []
  },
  {
   "cell_type": "code",
   "execution_count": null,
   "id": "6f57d122",
   "metadata": {},
   "outputs": [],
   "source": []
  },
  {
   "cell_type": "code",
   "execution_count": null,
   "id": "83fda8fc",
   "metadata": {},
   "outputs": [],
   "source": []
  },
  {
   "cell_type": "code",
   "execution_count": null,
   "id": "79d5151a",
   "metadata": {},
   "outputs": [],
   "source": []
  },
  {
   "cell_type": "code",
   "execution_count": null,
   "id": "b7417646",
   "metadata": {},
   "outputs": [],
   "source": []
  },
  {
   "cell_type": "markdown",
   "id": "a4f3e2d7",
   "metadata": {},
   "source": [
    "### Most laps driven"
   ]
  },
  {
   "cell_type": "code",
   "execution_count": null,
   "id": "ea68ef73",
   "metadata": {},
   "outputs": [],
   "source": []
  },
  {
   "cell_type": "code",
   "execution_count": null,
   "id": "802ec8d0",
   "metadata": {},
   "outputs": [],
   "source": []
  },
  {
   "cell_type": "code",
   "execution_count": null,
   "id": "6d9d3a8f",
   "metadata": {},
   "outputs": [],
   "source": [
    "import numpy as np\n",
    "import pandas as pd\n",
    "import matplotlib.pyplot as plt\n",
    "\n",
    "fig, (ax1,ax2) = plt.subplots(1,2, figsize=(10,4))  # 1 row, 2 columns\n",
    "f1_fatalities.plot('Date of accident', ax=ax1)\n",
    "f1_accidents.plot('year', ax=ax2)\n",
    "\n",
    "#plt.tight_layout()  # Optional ... often improves the layout"
   ]
  },
  {
   "cell_type": "code",
   "execution_count": null,
   "id": "7e211987",
   "metadata": {},
   "outputs": [],
   "source": [
    "import numpy as np\n",
    "import pandas as pd\n",
    "import matplotlib.pyplot as plt\n",
    "\n",
    "data_df = pd.DataFrame(np.random.randint(0,100,size=(15, 2)), columns=list('AB'))\n",
    "model_df = pd.DataFrame(np.random.randint(0,100,size=(15, 2)), columns=list('AB'))\n",
    "\n",
    "fig, axes = plt.subplots(nrows=1, ncols=2, figsize=(12,4))\n",
    "\n",
    "for col, ax in zip(data_df, axes):\n",
    "    data_df[col].plot(ax=ax, label=f\"data_df ({col})\")\n",
    "    model_df[col].plot(ax=ax, label=f\"model_df ({col})\")\n",
    "    ax.legend()"
   ]
  },
  {
   "cell_type": "code",
   "execution_count": null,
   "id": "47973b24",
   "metadata": {},
   "outputs": [],
   "source": [
    "f1_fatalities=f1_fatalities.groupby([\"Date of accident\"]).size().to_frame(name = 'number').reset_index()"
   ]
  },
  {
   "cell_type": "code",
   "execution_count": null,
   "id": "e9fd859c",
   "metadata": {},
   "outputs": [],
   "source": [
    "f1_fatalities.to_csv('safety_fatalities.csv')"
   ]
  },
  {
   "cell_type": "code",
   "execution_count": null,
   "id": "9ba88cb3",
   "metadata": {},
   "outputs": [],
   "source": []
  },
  {
   "cell_type": "code",
   "execution_count": null,
   "id": "6e3d260c",
   "metadata": {},
   "outputs": [],
   "source": []
  },
  {
   "cell_type": "code",
   "execution_count": null,
   "id": "96956fef",
   "metadata": {},
   "outputs": [],
   "source": []
  },
  {
   "cell_type": "code",
   "execution_count": null,
   "id": "d8662515",
   "metadata": {},
   "outputs": [],
   "source": [
    "f1_safety = pd.melt(df, id_vars=\"year\", value_vars=[\"NumberOfAccidents\", \"NumberOfFatalities\"])\n",
    "sns.lineplot(data=f1_safety, x=\"year\", y=\"value\", hue=\"variable\")"
   ]
  },
  {
   "cell_type": "code",
   "execution_count": null,
   "id": "3374398c",
   "metadata": {},
   "outputs": [],
   "source": []
  },
  {
   "cell_type": "code",
   "execution_count": null,
   "id": "243bc465",
   "metadata": {},
   "outputs": [],
   "source": []
  },
  {
   "cell_type": "code",
   "execution_count": null,
   "id": "5ecf768d",
   "metadata": {},
   "outputs": [],
   "source": []
  },
  {
   "cell_type": "code",
   "execution_count": null,
   "id": "3ec27628",
   "metadata": {},
   "outputs": [],
   "source": [
    "f1_accidents.head(1)"
   ]
  },
  {
   "cell_type": "code",
   "execution_count": null,
   "id": "bb546dcb",
   "metadata": {},
   "outputs": [],
   "source": [
    "f1_fatalities.head(1)"
   ]
  },
  {
   "cell_type": "code",
   "execution_count": null,
   "id": "e6233b58",
   "metadata": {},
   "outputs": [],
   "source": []
  },
  {
   "cell_type": "code",
   "execution_count": null,
   "id": "0fd9499a",
   "metadata": {},
   "outputs": [],
   "source": [
    "#Add Safety\n",
    "#f1_safety = pd.merge(f1_accidents,f1_fatalities, left_on = 'year', right_on = 'Date of accident', how='left')"
   ]
  },
  {
   "cell_type": "code",
   "execution_count": null,
   "id": "24c7c477",
   "metadata": {},
   "outputs": [],
   "source": []
  },
  {
   "cell_type": "code",
   "execution_count": null,
   "id": "fe27efa4",
   "metadata": {},
   "outputs": [],
   "source": [
    "f1_safety = pd.read_csv ('safety_accidents.csv')"
   ]
  },
  {
   "cell_type": "code",
   "execution_count": null,
   "id": "2499884e",
   "metadata": {},
   "outputs": [],
   "source": [
    "f1_safety = pd.DataFrame(f1_safety)"
   ]
  },
  {
   "cell_type": "code",
   "execution_count": null,
   "id": "bae918ce",
   "metadata": {},
   "outputs": [],
   "source": [
    "f1_safety.info()"
   ]
  },
  {
   "cell_type": "code",
   "execution_count": null,
   "id": "b7e6d470",
   "metadata": {},
   "outputs": [],
   "source": [
    "#**************************************************look atthis\n",
    "\n",
    "f1_safety.set_index(\"year\").plot()\n",
    "sns.lineplot(x=f1_safety['NumberOfFatalities'].sum(),y=f1_safety['NumberOfAccidents'].sum(), hue = f1_safety['year'])\n",
    "plt.show()\n",
    "\n",
    "\n",
    "\n",
    "\n",
    "\n"
   ]
  },
  {
   "cell_type": "code",
   "execution_count": null,
   "id": "665029c9",
   "metadata": {},
   "outputs": [],
   "source": []
  },
  {
   "cell_type": "code",
   "execution_count": null,
   "id": "13abf027",
   "metadata": {},
   "outputs": [],
   "source": []
  },
  {
   "cell_type": "code",
   "execution_count": null,
   "id": "3dbce310",
   "metadata": {},
   "outputs": [],
   "source": []
  },
  {
   "cell_type": "code",
   "execution_count": null,
   "id": "baf11466",
   "metadata": {},
   "outputs": [],
   "source": []
  },
  {
   "cell_type": "code",
   "execution_count": null,
   "id": "8d75f115",
   "metadata": {},
   "outputs": [],
   "source": [
    "#change n/a to 0\n",
    "\n",
    "f1_safety['NumberOfFatalities'] = f1_safety['NumberOfFatalities'].fillna(0)"
   ]
  },
  {
   "cell_type": "code",
   "execution_count": null,
   "id": "0eb001b1",
   "metadata": {},
   "outputs": [],
   "source": [
    "#f1_safety['NumberOfFatalities'].astype('int64')\n",
    "\n",
    "\n",
    "f1_safety[(\"NumberOfFatalities\")] = f1_safety[(\"NumberOfFatalities\")].astype(int)"
   ]
  },
  {
   "cell_type": "code",
   "execution_count": null,
   "id": "54d1835d",
   "metadata": {},
   "outputs": [],
   "source": [
    "print(f1_safety)"
   ]
  },
  {
   "cell_type": "code",
   "execution_count": null,
   "id": "b8ceede2",
   "metadata": {},
   "outputs": [],
   "source": [
    "\n",
    "\n",
    "f1_safety.plot(x=\"year\", y=[\"NumberOfAccidents\", \"NumberOfFatalities\"], kind=\"bar\")"
   ]
  },
  {
   "cell_type": "code",
   "execution_count": null,
   "id": "ef876ba3",
   "metadata": {},
   "outputs": [],
   "source": [
    "f1_safety = pd.melt(df, id_vars=\"year\", value_vars=[\"NumberOfAccidents\", \"NumberOfFatalities\"])\n",
    "sns.lineplot(data=f1_safety, x=\"year\", y=\"value\", hue=\"variable\")"
   ]
  },
  {
   "cell_type": "code",
   "execution_count": null,
   "id": "922e369f",
   "metadata": {},
   "outputs": [],
   "source": [
    "print(f1_safety)"
   ]
  },
  {
   "cell_type": "code",
   "execution_count": null,
   "id": "7cd9f28d",
   "metadata": {},
   "outputs": [],
   "source": []
  },
  {
   "cell_type": "code",
   "execution_count": null,
   "id": "b1a0cae9",
   "metadata": {},
   "outputs": [],
   "source": []
  },
  {
   "cell_type": "code",
   "execution_count": null,
   "id": "5e9d0621",
   "metadata": {},
   "outputs": [],
   "source": []
  },
  {
   "cell_type": "code",
   "execution_count": null,
   "id": "f2ac0f41",
   "metadata": {},
   "outputs": [],
   "source": []
  },
  {
   "cell_type": "code",
   "execution_count": null,
   "id": "1ed8a386",
   "metadata": {},
   "outputs": [],
   "source": []
  },
  {
   "cell_type": "code",
   "execution_count": null,
   "id": "fd9beac6",
   "metadata": {},
   "outputs": [],
   "source": []
  },
  {
   "cell_type": "code",
   "execution_count": null,
   "id": "e47dc7d7",
   "metadata": {},
   "outputs": [],
   "source": []
  },
  {
   "cell_type": "code",
   "execution_count": null,
   "id": "80df0f17",
   "metadata": {},
   "outputs": [],
   "source": [
    "#import matplotlib.pyplot as plt\n",
    "#import numpy as np\n",
    "\n",
    "plt.scatter(x = f1_retirements['year'],y = f1_retirements['NumberOfRetirements']);\n"
   ]
  },
  {
   "cell_type": "code",
   "execution_count": null,
   "id": "d0567d60",
   "metadata": {},
   "outputs": [],
   "source": []
  },
  {
   "cell_type": "code",
   "execution_count": null,
   "id": "432ac7a6",
   "metadata": {},
   "outputs": [],
   "source": [
    "import pandas as pd\n",
    "import numpy as np\n",
    "import matplotlib.pyplot as plt\n",
    "import seaborn as sns\n",
    "\n",
    "df=pd.read_csv('train_feature_store.csv')\n",
    "df.info\n",
    "df.head\n",
    "df.columns\n",
    "\n",
    "plt.figure(figsize=(20,6))\n",
    "sns.countplot(x='Store', data=f1_world_champions)\n",
    "plt.show()\n",
    "\n",
    "Size = df[['Size','Store']].groupby(['Store'], as_index=False).sum()\n",
    "\n",
    "df1 = Size.sort_values(by=['Size'],ascending=False).head(10).reset_index(drop=True)\n",
    "df1['Percentage'] = (df1['Size'] / df1['Size'].sum()) * 100\n",
    "df1.loc[10,:] = ['Grand Total', df1.Size.sum(), 100]\n",
    "\n",
    "Size.sort_values(by=['Size'],ascending=False).head(10)"
   ]
  },
  {
   "cell_type": "code",
   "execution_count": null,
   "id": "ed4d4a2e",
   "metadata": {},
   "outputs": [],
   "source": []
  },
  {
   "cell_type": "code",
   "execution_count": null,
   "id": "4dd822be",
   "metadata": {},
   "outputs": [],
   "source": []
  },
  {
   "cell_type": "code",
   "execution_count": null,
   "id": "153b03f1",
   "metadata": {},
   "outputs": [],
   "source": []
  },
  {
   "cell_type": "code",
   "execution_count": null,
   "id": "13810dff",
   "metadata": {},
   "outputs": [],
   "source": []
  },
  {
   "cell_type": "code",
   "execution_count": null,
   "id": "a9e8ebf4",
   "metadata": {},
   "outputs": [],
   "source": []
  },
  {
   "cell_type": "code",
   "execution_count": null,
   "id": "a4c944a0",
   "metadata": {},
   "outputs": [],
   "source": []
  },
  {
   "cell_type": "code",
   "execution_count": null,
   "id": "08ce6d4f",
   "metadata": {},
   "outputs": [],
   "source": []
  },
  {
   "cell_type": "code",
   "execution_count": null,
   "id": "af1b6a41",
   "metadata": {},
   "outputs": [],
   "source": []
  },
  {
   "cell_type": "code",
   "execution_count": null,
   "id": "4e677dde",
   "metadata": {},
   "outputs": [],
   "source": []
  },
  {
   "cell_type": "code",
   "execution_count": null,
   "id": "683fd789",
   "metadata": {},
   "outputs": [],
   "source": []
  },
  {
   "cell_type": "code",
   "execution_count": null,
   "id": "e483a729",
   "metadata": {},
   "outputs": [],
   "source": []
  },
  {
   "cell_type": "code",
   "execution_count": null,
   "id": "074b4385",
   "metadata": {},
   "outputs": [],
   "source": []
  },
  {
   "cell_type": "code",
   "execution_count": null,
   "id": "02806653",
   "metadata": {},
   "outputs": [],
   "source": []
  },
  {
   "cell_type": "code",
   "execution_count": null,
   "id": "f49262ef",
   "metadata": {},
   "outputs": [],
   "source": []
  },
  {
   "cell_type": "code",
   "execution_count": null,
   "id": "2c69b14e",
   "metadata": {},
   "outputs": [],
   "source": []
  },
  {
   "cell_type": "code",
   "execution_count": null,
   "id": "0501ce3b",
   "metadata": {},
   "outputs": [],
   "source": [
    "f1_circuits.head()\n",
    " "
   ]
  },
  {
   "cell_type": "code",
   "execution_count": null,
   "id": "1a10d0a3",
   "metadata": {},
   "outputs": [],
   "source": [
    "f1_status.head()\n"
   ]
  },
  {
   "cell_type": "code",
   "execution_count": null,
   "id": "aa8047d9",
   "metadata": {},
   "outputs": [],
   "source": [
    "f1_drivers.head()\n"
   ]
  },
  {
   "cell_type": "code",
   "execution_count": null,
   "id": "39ec5705",
   "metadata": {},
   "outputs": [],
   "source": [
    "f1_world_champions.head()"
   ]
  },
  {
   "cell_type": "code",
   "execution_count": null,
   "id": "cfa63464",
   "metadata": {},
   "outputs": [],
   "source": [
    "f1_races.head()\n"
   ]
  },
  {
   "cell_type": "code",
   "execution_count": null,
   "id": "e6d6cf42",
   "metadata": {},
   "outputs": [],
   "source": [
    "f1_results.count()"
   ]
  },
  {
   "cell_type": "code",
   "execution_count": null,
   "id": "120cda11",
   "metadata": {},
   "outputs": [],
   "source": [
    "df1.sort_values('cost', ascending = False).groupby('usage_start_date').head(5).pivot(index=\"usage_start_date\", columns=\"service_name\", values=\"cost\").plot(kind=\"bar\", stacked=True, width=0.2)"
   ]
  },
  {
   "cell_type": "code",
   "execution_count": null,
   "id": "c7c4224d",
   "metadata": {},
   "outputs": [],
   "source": []
  },
  {
   "cell_type": "code",
   "execution_count": null,
   "id": "d1363c0e",
   "metadata": {},
   "outputs": [],
   "source": []
  },
  {
   "cell_type": "code",
   "execution_count": null,
   "id": "f4bf0c53",
   "metadata": {},
   "outputs": [],
   "source": []
  },
  {
   "cell_type": "code",
   "execution_count": null,
   "id": "68d6bc78",
   "metadata": {},
   "outputs": [],
   "source": []
  },
  {
   "cell_type": "code",
   "execution_count": null,
   "id": "19fba989",
   "metadata": {},
   "outputs": [],
   "source": []
  },
  {
   "cell_type": "code",
   "execution_count": null,
   "id": "de82448e",
   "metadata": {},
   "outputs": [],
   "source": [
    "top5=f1_world_champions['TimesWorldChampion'].value_counts().nlargest(5)"
   ]
  },
  {
   "cell_type": "code",
   "execution_count": null,
   "id": "2f3c9855",
   "metadata": {},
   "outputs": [],
   "source": [
    "top5"
   ]
  },
  {
   "cell_type": "code",
   "execution_count": null,
   "id": "583a6978",
   "metadata": {},
   "outputs": [],
   "source": [
    "print(f1_world_champions)"
   ]
  },
  {
   "cell_type": "code",
   "execution_count": null,
   "id": "9697accc",
   "metadata": {},
   "outputs": [],
   "source": [
    "# Add new column \"Percent\"\n",
    "\n",
    "f1_world_champions['Percent'] = (f1_world_champions.TimesWorldChampion / f1_world_champions.TimesWorldChampion.sum())*100"
   ]
  }
 ],
 "metadata": {
  "kernelspec": {
   "display_name": "Python 3",
   "language": "python",
   "name": "python3"
  },
  "language_info": {
   "codemirror_mode": {
    "name": "ipython",
    "version": 3
   },
   "file_extension": ".py",
   "mimetype": "text/x-python",
   "name": "python",
   "nbconvert_exporter": "python",
   "pygments_lexer": "ipython3",
   "version": "3.8.8"
  }
 },
 "nbformat": 4,
 "nbformat_minor": 5
}
