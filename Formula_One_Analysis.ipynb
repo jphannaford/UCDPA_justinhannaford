{
 "cells": [
  {
   "cell_type": "markdown",
   "id": "0762b1fd",
   "metadata": {},
   "source": [
    "# Initialisation"
   ]
  },
  {
   "cell_type": "markdown",
   "id": "7e008121",
   "metadata": {},
   "source": [
    "    1. Import Python Packages needed to load data, review & scrub the data and present visualisation the saved data.\n",
    "    2. Import 4 Formula data files from csv downloads"
   ]
  },
  {
   "cell_type": "markdown",
   "id": "f06fd8ca",
   "metadata": {},
   "source": [
    "#### Import Packages & Formula One data files"
   ]
  },
  {
   "cell_type": "code",
   "execution_count": 1,
   "id": "9ea7e09e",
   "metadata": {},
   "outputs": [],
   "source": [
    "# The following packages are available with this installation of Python 3:\n",
    "\n",
    "import pandas as pd # Data manipulation and web scraping\n",
    "import numpy as np # Used for mathematical and type changes\n",
    "import matplotlib.pyplot as plt # Data visualisation\n",
    "import seaborn as sns # Data visualisation"
   ]
  },
  {
   "cell_type": "code",
   "execution_count": 2,
   "id": "5d2dccb6",
   "metadata": {},
   "outputs": [],
   "source": [
    "# Import Formula One csv data files. These files were downloaded from http://ergast.com/mrd/\n",
    "\n",
    "f1_circuits = pd.read_csv('circuits.csv') # Contains circuit and country data\n",
    "f1_status = pd.read_csv('status.csv') # Contains a status code for each driver per race\n",
    "f1_drivers = pd.read_csv('drivers.csv') # Contains a list of every driver to have ever driven in Formula One\n",
    "f1_races = pd.read_csv('races.csv') # Contains data for every race in Formula One\n",
    "f1_results = pd.read_csv('results.csv') # Contains data for results of every driver in every race in Formula One"
   ]
  },
  {
   "cell_type": "markdown",
   "id": "da16ce95",
   "metadata": {},
   "source": [
    "***"
   ]
  },
  {
   "cell_type": "markdown",
   "id": "a4d4793e",
   "metadata": {},
   "source": [
    "# Inspect and refine each DataFrame"
   ]
  },
  {
   "cell_type": "markdown",
   "id": "493ad115",
   "metadata": {},
   "source": [
    "    1. Inspect and refine data for all 5 imported cvs files\n",
    "    2. Import, inspect and refine Formaula One fatalities from Wikipedia via web scrape\n",
    "    3. Import, inspect and refine Formaula One World Champions from Wikipedia via web scrape\n",
    "    4. Ensure each DataFrame is free of null and duplicate values\n",
    "    "
   ]
  },
  {
   "cell_type": "code",
   "execution_count": 3,
   "id": "15d7af14",
   "metadata": {},
   "outputs": [
    {
     "name": "stdout",
     "output_type": "stream",
     "text": [
      "<class 'pandas.core.frame.DataFrame'>\n",
      "RangeIndex: 76 entries, 0 to 75\n",
      "Data columns (total 9 columns):\n",
      " #   Column      Non-Null Count  Dtype  \n",
      "---  ------      --------------  -----  \n",
      " 0   circuitId   76 non-null     int64  \n",
      " 1   circuitRef  76 non-null     object \n",
      " 2   name        76 non-null     object \n",
      " 3   location    76 non-null     object \n",
      " 4   country     76 non-null     object \n",
      " 5   lat         76 non-null     float64\n",
      " 6   lng         76 non-null     float64\n",
      " 7   alt         76 non-null     object \n",
      " 8   url         76 non-null     object \n",
      "dtypes: float64(2), int64(1), object(6)\n",
      "memory usage: 5.5+ KB\n"
     ]
    },
    {
     "data": {
      "text/plain": [
       "circuitId     0\n",
       "circuitRef    0\n",
       "name          0\n",
       "location      0\n",
       "country       0\n",
       "lat           0\n",
       "lng           0\n",
       "alt           0\n",
       "url           0\n",
       "dtype: int64"
      ]
     },
     "execution_count": 3,
     "metadata": {},
     "output_type": "execute_result"
    }
   ],
   "source": [
    "# Inspect \"Circuits\" DataFrame\n",
    "\n",
    "f1_circuits.info()\n",
    "f1_circuits.isnull().sum()\n",
    "\n",
    "# 76 entries with zero null values\n",
    "# Remove all columns except 'circuitId' & 'name'\n",
    "# Required columns are correct Data Types"
   ]
  },
  {
   "cell_type": "code",
   "execution_count": 4,
   "id": "14dff572",
   "metadata": {},
   "outputs": [
    {
     "data": {
      "text/plain": [
       "0"
      ]
     },
     "execution_count": 4,
     "metadata": {},
     "output_type": "execute_result"
    }
   ],
   "source": [
    "# Confirm that there are no duplicate vaues in the DataFrame\n",
    "\n",
    "f1_circuits.duplicated().sum()"
   ]
  },
  {
   "cell_type": "code",
   "execution_count": 5,
   "id": "db45e476",
   "metadata": {},
   "outputs": [],
   "source": [
    "# Drop all columns except 'circuitId', 'name' & 'country'\n",
    "\n",
    "cols = [1,3, 5,6,7,8]\n",
    "f1_circuits.drop(f1_circuits.columns[cols],axis=1,inplace=True)"
   ]
  },
  {
   "cell_type": "code",
   "execution_count": 6,
   "id": "57a5c656",
   "metadata": {},
   "outputs": [
    {
     "data": {
      "text/html": [
       "<div>\n",
       "<style scoped>\n",
       "    .dataframe tbody tr th:only-of-type {\n",
       "        vertical-align: middle;\n",
       "    }\n",
       "\n",
       "    .dataframe tbody tr th {\n",
       "        vertical-align: top;\n",
       "    }\n",
       "\n",
       "    .dataframe thead th {\n",
       "        text-align: right;\n",
       "    }\n",
       "</style>\n",
       "<table border=\"1\" class=\"dataframe\">\n",
       "  <thead>\n",
       "    <tr style=\"text-align: right;\">\n",
       "      <th></th>\n",
       "      <th>circuitId</th>\n",
       "      <th>name</th>\n",
       "      <th>country</th>\n",
       "    </tr>\n",
       "  </thead>\n",
       "  <tbody>\n",
       "    <tr>\n",
       "      <th>0</th>\n",
       "      <td>1</td>\n",
       "      <td>Albert Park Grand Prix Circuit</td>\n",
       "      <td>Australia</td>\n",
       "    </tr>\n",
       "    <tr>\n",
       "      <th>1</th>\n",
       "      <td>2</td>\n",
       "      <td>Sepang International Circuit</td>\n",
       "      <td>Malaysia</td>\n",
       "    </tr>\n",
       "    <tr>\n",
       "      <th>2</th>\n",
       "      <td>3</td>\n",
       "      <td>Bahrain International Circuit</td>\n",
       "      <td>Bahrain</td>\n",
       "    </tr>\n",
       "    <tr>\n",
       "      <th>3</th>\n",
       "      <td>4</td>\n",
       "      <td>Circuit de Barcelona-Catalunya</td>\n",
       "      <td>Spain</td>\n",
       "    </tr>\n",
       "    <tr>\n",
       "      <th>4</th>\n",
       "      <td>5</td>\n",
       "      <td>Istanbul Park</td>\n",
       "      <td>Turkey</td>\n",
       "    </tr>\n",
       "  </tbody>\n",
       "</table>\n",
       "</div>"
      ],
      "text/plain": [
       "   circuitId                            name    country\n",
       "0          1  Albert Park Grand Prix Circuit  Australia\n",
       "1          2    Sepang International Circuit   Malaysia\n",
       "2          3   Bahrain International Circuit    Bahrain\n",
       "3          4  Circuit de Barcelona-Catalunya      Spain\n",
       "4          5                   Istanbul Park     Turkey"
      ]
     },
     "execution_count": 6,
     "metadata": {},
     "output_type": "execute_result"
    }
   ],
   "source": [
    "f1_circuits.head()"
   ]
  },
  {
   "cell_type": "markdown",
   "id": "7c69a4b3",
   "metadata": {},
   "source": [
    "#### Inspect \"Status\" DataFrame"
   ]
  },
  {
   "cell_type": "code",
   "execution_count": 7,
   "id": "686d0900",
   "metadata": {},
   "outputs": [
    {
     "name": "stdout",
     "output_type": "stream",
     "text": [
      "<class 'pandas.core.frame.DataFrame'>\n",
      "RangeIndex: 139 entries, 0 to 138\n",
      "Data columns (total 2 columns):\n",
      " #   Column    Non-Null Count  Dtype \n",
      "---  ------    --------------  ----- \n",
      " 0   statusId  139 non-null    int64 \n",
      " 1   status    139 non-null    object\n",
      "dtypes: int64(1), object(1)\n",
      "memory usage: 2.3+ KB\n"
     ]
    },
    {
     "data": {
      "text/plain": [
       "statusId    0\n",
       "status      0\n",
       "dtype: int64"
      ]
     },
     "execution_count": 7,
     "metadata": {},
     "output_type": "execute_result"
    }
   ],
   "source": [
    "# Inspect 'Status' DataFrame\n",
    "\n",
    "f1_status.info()\n",
    "f1_status.isnull().sum()\n",
    "\n",
    "# 139 entries with zero null values\n",
    "# All columns are correct Data Types"
   ]
  },
  {
   "cell_type": "code",
   "execution_count": 8,
   "id": "baf05b73",
   "metadata": {},
   "outputs": [
    {
     "data": {
      "text/plain": [
       "0"
      ]
     },
     "execution_count": 8,
     "metadata": {},
     "output_type": "execute_result"
    }
   ],
   "source": [
    "# Confirm that there are no duplicate vaues in the DataFrame\n",
    "\n",
    "f1_status.duplicated().sum()"
   ]
  },
  {
   "cell_type": "code",
   "execution_count": 9,
   "id": "405d2a2c",
   "metadata": {},
   "outputs": [
    {
     "data": {
      "text/html": [
       "<div>\n",
       "<style scoped>\n",
       "    .dataframe tbody tr th:only-of-type {\n",
       "        vertical-align: middle;\n",
       "    }\n",
       "\n",
       "    .dataframe tbody tr th {\n",
       "        vertical-align: top;\n",
       "    }\n",
       "\n",
       "    .dataframe thead th {\n",
       "        text-align: right;\n",
       "    }\n",
       "</style>\n",
       "<table border=\"1\" class=\"dataframe\">\n",
       "  <thead>\n",
       "    <tr style=\"text-align: right;\">\n",
       "      <th></th>\n",
       "      <th>statusId</th>\n",
       "      <th>status</th>\n",
       "    </tr>\n",
       "  </thead>\n",
       "  <tbody>\n",
       "    <tr>\n",
       "      <th>0</th>\n",
       "      <td>1</td>\n",
       "      <td>Finished</td>\n",
       "    </tr>\n",
       "    <tr>\n",
       "      <th>1</th>\n",
       "      <td>2</td>\n",
       "      <td>Disqualified</td>\n",
       "    </tr>\n",
       "    <tr>\n",
       "      <th>2</th>\n",
       "      <td>3</td>\n",
       "      <td>Accident</td>\n",
       "    </tr>\n",
       "    <tr>\n",
       "      <th>3</th>\n",
       "      <td>4</td>\n",
       "      <td>Collision</td>\n",
       "    </tr>\n",
       "    <tr>\n",
       "      <th>4</th>\n",
       "      <td>5</td>\n",
       "      <td>Engine</td>\n",
       "    </tr>\n",
       "  </tbody>\n",
       "</table>\n",
       "</div>"
      ],
      "text/plain": [
       "   statusId        status\n",
       "0         1      Finished\n",
       "1         2  Disqualified\n",
       "2         3      Accident\n",
       "3         4     Collision\n",
       "4         5        Engine"
      ]
     },
     "execution_count": 9,
     "metadata": {},
     "output_type": "execute_result"
    }
   ],
   "source": [
    "# Review the final DataFrame\n",
    "\n",
    "f1_status.head()"
   ]
  },
  {
   "cell_type": "markdown",
   "id": "f611b52a",
   "metadata": {},
   "source": [
    "#### Import Formula One Fatality data from Wikipedia via web scrape"
   ]
  },
  {
   "cell_type": "code",
   "execution_count": 10,
   "id": "affb1201",
   "metadata": {},
   "outputs": [],
   "source": [
    "# Import 'World Champions' data from Wikipedia\n",
    "\n",
    "fatalities_table = pd.read_html('https://en.wikipedia.org/wiki/\\\n",
    "List_of_Formula_One_fatalities',\n",
    "match=\"Fatalities by driver\")"
   ]
  },
  {
   "cell_type": "code",
   "execution_count": 11,
   "id": "a6f86257",
   "metadata": {},
   "outputs": [],
   "source": [
    "# Create new DataFrame from Table\n",
    "\n",
    "f1_fatalities = pd.DataFrame(fatalities_table[0])"
   ]
  },
  {
   "cell_type": "code",
   "execution_count": 12,
   "id": "30409e8f",
   "metadata": {},
   "outputs": [
    {
     "name": "stdout",
     "output_type": "stream",
     "text": [
      "<class 'pandas.core.frame.DataFrame'>\n",
      "RangeIndex: 52 entries, 0 to 51\n",
      "Data columns (total 7 columns):\n",
      " #   Column            Non-Null Count  Dtype \n",
      "---  ------            --------------  ----- \n",
      " 0   Driver            52 non-null     object\n",
      " 1   Date of accident  52 non-null     object\n",
      " 2   Event             52 non-null     object\n",
      " 3   Circuit           52 non-null     object\n",
      " 4   Car               52 non-null     object\n",
      " 5   Session           52 non-null     object\n",
      " 6   Ref(s).           52 non-null     object\n",
      "dtypes: object(7)\n",
      "memory usage: 3.0+ KB\n"
     ]
    },
    {
     "data": {
      "text/plain": [
       "Driver              0\n",
       "Date of accident    0\n",
       "Event               0\n",
       "Circuit             0\n",
       "Car                 0\n",
       "Session             0\n",
       "Ref(s).             0\n",
       "dtype: int64"
      ]
     },
     "execution_count": 12,
     "metadata": {},
     "output_type": "execute_result"
    }
   ],
   "source": [
    "# Inspect and refine data\n",
    "\n",
    "f1_fatalities.info()\n",
    "f1_fatalities.isnull().sum()\n",
    "\n",
    "# 52 entries with zero null values\n",
    "# Remove all columns except Driver' & 'Date of Accident' columns\n",
    "# Remove trailing data in both 'Driver' & 'Date of Accident' columns\n",
    "# Required columns are correct Data Types"
   ]
  },
  {
   "cell_type": "code",
   "execution_count": 13,
   "id": "2365205b",
   "metadata": {},
   "outputs": [
    {
     "data": {
      "text/plain": [
       "0"
      ]
     },
     "execution_count": 13,
     "metadata": {},
     "output_type": "execute_result"
    }
   ],
   "source": [
    "# Confirm that there are no duplicate vaues in the DataFrame\n",
    "\n",
    "f1_fatalities.duplicated().sum()"
   ]
  },
  {
   "cell_type": "code",
   "execution_count": 14,
   "id": "26e35ab4",
   "metadata": {},
   "outputs": [
    {
     "data": {
      "text/html": [
       "<div>\n",
       "<style scoped>\n",
       "    .dataframe tbody tr th:only-of-type {\n",
       "        vertical-align: middle;\n",
       "    }\n",
       "\n",
       "    .dataframe tbody tr th {\n",
       "        vertical-align: top;\n",
       "    }\n",
       "\n",
       "    .dataframe thead th {\n",
       "        text-align: right;\n",
       "    }\n",
       "</style>\n",
       "<table border=\"1\" class=\"dataframe\">\n",
       "  <thead>\n",
       "    <tr style=\"text-align: right;\">\n",
       "      <th></th>\n",
       "      <th>Driver</th>\n",
       "      <th>Date of accident</th>\n",
       "      <th>Event</th>\n",
       "      <th>Circuit</th>\n",
       "      <th>Car</th>\n",
       "      <th>Session</th>\n",
       "      <th>Ref(s).</th>\n",
       "    </tr>\n",
       "  </thead>\n",
       "  <tbody>\n",
       "    <tr>\n",
       "      <th>0</th>\n",
       "      <td>Cameron Earl (UK)</td>\n",
       "      <td>June 18, 1952</td>\n",
       "      <td>Test</td>\n",
       "      <td>MIRA</td>\n",
       "      <td>ERA</td>\n",
       "      <td>Test</td>\n",
       "      <td>[15]</td>\n",
       "    </tr>\n",
       "    <tr>\n",
       "      <th>1</th>\n",
       "      <td>Chet Miller (USA)</td>\n",
       "      <td>May 15, 1953</td>\n",
       "      <td>Indianapolis 500[note 1]</td>\n",
       "      <td>Indianapolis Motor Speedway</td>\n",
       "      <td>Kurtis Kraft</td>\n",
       "      <td>Practice</td>\n",
       "      <td>[17]</td>\n",
       "    </tr>\n",
       "  </tbody>\n",
       "</table>\n",
       "</div>"
      ],
      "text/plain": [
       "              Driver Date of accident                     Event  \\\n",
       "0  Cameron Earl (UK)    June 18, 1952                      Test   \n",
       "1  Chet Miller (USA)     May 15, 1953  Indianapolis 500[note 1]   \n",
       "\n",
       "                       Circuit           Car   Session Ref(s).  \n",
       "0                         MIRA           ERA      Test    [15]  \n",
       "1  Indianapolis Motor Speedway  Kurtis Kraft  Practice    [17]  "
      ]
     },
     "execution_count": 14,
     "metadata": {},
     "output_type": "execute_result"
    }
   ],
   "source": [
    "# Display the first two rows of 'Fatalities' DataFrame\n",
    "\n",
    "f1_fatalities.head(2)"
   ]
  },
  {
   "cell_type": "code",
   "execution_count": 15,
   "id": "12dd1e22",
   "metadata": {},
   "outputs": [],
   "source": [
    "# Change 'Date of accident' to Year only. Change in type from object is not required\n",
    "\n",
    "f1_fatalities_Driver_split = f1_fatalities['Date of accident'].str.split(',', expand=True)\n",
    "\n",
    "# Insert back into original DataFrame\n",
    "\n",
    "f1_fatalities['Date of accident'] = f1_fatalities_Driver_split[1]\n",
    "f1_fatalities[\"Date of accident\"] = f1_fatalities[\"Date of accident\"].astype('int64')"
   ]
  },
  {
   "cell_type": "code",
   "execution_count": 16,
   "id": "efb62ee5",
   "metadata": {},
   "outputs": [],
   "source": [
    "# Remove country data from 'Driver' column\n",
    "\n",
    "f1_fatalities_Driver_split = f1_fatalities['Driver'].str.split('(', expand=True)\n",
    "\n",
    "#Insert back into original DataFrame\n",
    "\n",
    "f1_fatalities['Driver'] = f1_fatalities_Driver_split[0]"
   ]
  },
  {
   "cell_type": "code",
   "execution_count": 17,
   "id": "de09690f",
   "metadata": {},
   "outputs": [],
   "source": [
    "# Remove all non F1 race deaths. Retain Only Events that are actual Grand Prix races\n",
    "\n",
    "f1_fatalities = f1_fatalities[~f1_fatalities['Event'].str.contains('Grand') == False]"
   ]
  },
  {
   "cell_type": "code",
   "execution_count": 18,
   "id": "242f8b03",
   "metadata": {},
   "outputs": [
    {
     "data": {
      "text/html": [
       "<div>\n",
       "<style scoped>\n",
       "    .dataframe tbody tr th:only-of-type {\n",
       "        vertical-align: middle;\n",
       "    }\n",
       "\n",
       "    .dataframe tbody tr th {\n",
       "        vertical-align: top;\n",
       "    }\n",
       "\n",
       "    .dataframe thead th {\n",
       "        text-align: right;\n",
       "    }\n",
       "</style>\n",
       "<table border=\"1\" class=\"dataframe\">\n",
       "  <thead>\n",
       "    <tr style=\"text-align: right;\">\n",
       "      <th></th>\n",
       "      <th>Driver</th>\n",
       "      <th>Date of accident</th>\n",
       "    </tr>\n",
       "  </thead>\n",
       "  <tbody>\n",
       "    <tr>\n",
       "      <th>0</th>\n",
       "      <td>Charles de Tornaco</td>\n",
       "      <td>1953</td>\n",
       "    </tr>\n",
       "    <tr>\n",
       "      <th>1</th>\n",
       "      <td>Onofre Marimón</td>\n",
       "      <td>1954</td>\n",
       "    </tr>\n",
       "    <tr>\n",
       "      <th>2</th>\n",
       "      <td>Mario Alborghetti</td>\n",
       "      <td>1955</td>\n",
       "    </tr>\n",
       "    <tr>\n",
       "      <th>3</th>\n",
       "      <td>Luigi Musso</td>\n",
       "      <td>1958</td>\n",
       "    </tr>\n",
       "    <tr>\n",
       "      <th>4</th>\n",
       "      <td>Peter Collins</td>\n",
       "      <td>1958</td>\n",
       "    </tr>\n",
       "    <tr>\n",
       "      <th>5</th>\n",
       "      <td>Stuart Lewis-Evans</td>\n",
       "      <td>1958</td>\n",
       "    </tr>\n",
       "    <tr>\n",
       "      <th>6</th>\n",
       "      <td>Chris Bristow</td>\n",
       "      <td>1960</td>\n",
       "    </tr>\n",
       "    <tr>\n",
       "      <th>7</th>\n",
       "      <td>Alan Stacey</td>\n",
       "      <td>1960</td>\n",
       "    </tr>\n",
       "    <tr>\n",
       "      <th>8</th>\n",
       "      <td>Wolfgang von Trips</td>\n",
       "      <td>1961</td>\n",
       "    </tr>\n",
       "    <tr>\n",
       "      <th>9</th>\n",
       "      <td>Ricardo Rodríguez</td>\n",
       "      <td>1962</td>\n",
       "    </tr>\n",
       "    <tr>\n",
       "      <th>10</th>\n",
       "      <td>Gary Hocking</td>\n",
       "      <td>1962</td>\n",
       "    </tr>\n",
       "    <tr>\n",
       "      <th>11</th>\n",
       "      <td>Carel Godin de Beaufort</td>\n",
       "      <td>1964</td>\n",
       "    </tr>\n",
       "    <tr>\n",
       "      <th>12</th>\n",
       "      <td>John Taylor</td>\n",
       "      <td>1966</td>\n",
       "    </tr>\n",
       "    <tr>\n",
       "      <th>13</th>\n",
       "      <td>Lorenzo Bandini</td>\n",
       "      <td>1967</td>\n",
       "    </tr>\n",
       "    <tr>\n",
       "      <th>14</th>\n",
       "      <td>Jo Schlesser</td>\n",
       "      <td>1968</td>\n",
       "    </tr>\n",
       "    <tr>\n",
       "      <th>15</th>\n",
       "      <td>Gerhard Mitter</td>\n",
       "      <td>1969</td>\n",
       "    </tr>\n",
       "    <tr>\n",
       "      <th>16</th>\n",
       "      <td>Piers Courage</td>\n",
       "      <td>1970</td>\n",
       "    </tr>\n",
       "    <tr>\n",
       "      <th>17</th>\n",
       "      <td>Jochen Rindt</td>\n",
       "      <td>1970</td>\n",
       "    </tr>\n",
       "    <tr>\n",
       "      <th>18</th>\n",
       "      <td>Roger Williamson</td>\n",
       "      <td>1973</td>\n",
       "    </tr>\n",
       "    <tr>\n",
       "      <th>19</th>\n",
       "      <td>François Cevert</td>\n",
       "      <td>1973</td>\n",
       "    </tr>\n",
       "    <tr>\n",
       "      <th>20</th>\n",
       "      <td>Helmuth Koinigg</td>\n",
       "      <td>1974</td>\n",
       "    </tr>\n",
       "    <tr>\n",
       "      <th>21</th>\n",
       "      <td>Mark Donohue</td>\n",
       "      <td>1975</td>\n",
       "    </tr>\n",
       "    <tr>\n",
       "      <th>22</th>\n",
       "      <td>Tom Pryce</td>\n",
       "      <td>1977</td>\n",
       "    </tr>\n",
       "    <tr>\n",
       "      <th>23</th>\n",
       "      <td>Ronnie Peterson</td>\n",
       "      <td>1978</td>\n",
       "    </tr>\n",
       "    <tr>\n",
       "      <th>24</th>\n",
       "      <td>Gilles Villeneuve</td>\n",
       "      <td>1982</td>\n",
       "    </tr>\n",
       "    <tr>\n",
       "      <th>25</th>\n",
       "      <td>Riccardo Paletti</td>\n",
       "      <td>1982</td>\n",
       "    </tr>\n",
       "    <tr>\n",
       "      <th>26</th>\n",
       "      <td>Roland Ratzenberger</td>\n",
       "      <td>1994</td>\n",
       "    </tr>\n",
       "    <tr>\n",
       "      <th>27</th>\n",
       "      <td>Ayrton Senna</td>\n",
       "      <td>1994</td>\n",
       "    </tr>\n",
       "    <tr>\n",
       "      <th>28</th>\n",
       "      <td>Jules Bianchi</td>\n",
       "      <td>2014</td>\n",
       "    </tr>\n",
       "    <tr>\n",
       "      <th>29</th>\n",
       "      <td>David Ferrer</td>\n",
       "      <td>2017</td>\n",
       "    </tr>\n",
       "  </tbody>\n",
       "</table>\n",
       "</div>"
      ],
      "text/plain": [
       "                      Driver  Date of accident\n",
       "0        Charles de Tornaco               1953\n",
       "1            Onofre Marimón               1954\n",
       "2         Mario Alborghetti               1955\n",
       "3               Luigi Musso               1958\n",
       "4             Peter Collins               1958\n",
       "5        Stuart Lewis-Evans               1958\n",
       "6             Chris Bristow               1960\n",
       "7               Alan Stacey               1960\n",
       "8        Wolfgang von Trips               1961\n",
       "9         Ricardo Rodríguez               1962\n",
       "10             Gary Hocking               1962\n",
       "11  Carel Godin de Beaufort               1964\n",
       "12              John Taylor               1966\n",
       "13          Lorenzo Bandini               1967\n",
       "14             Jo Schlesser               1968\n",
       "15           Gerhard Mitter               1969\n",
       "16            Piers Courage               1970\n",
       "17             Jochen Rindt               1970\n",
       "18         Roger Williamson               1973\n",
       "19          François Cevert               1973\n",
       "20          Helmuth Koinigg               1974\n",
       "21             Mark Donohue               1975\n",
       "22                Tom Pryce               1977\n",
       "23          Ronnie Peterson               1978\n",
       "24        Gilles Villeneuve               1982\n",
       "25         Riccardo Paletti               1982\n",
       "26      Roland Ratzenberger               1994\n",
       "27             Ayrton Senna               1994\n",
       "28            Jules Bianchi               2014\n",
       "29             David Ferrer               2017"
      ]
     },
     "execution_count": 18,
     "metadata": {},
     "output_type": "execute_result"
    }
   ],
   "source": [
    "# Drop all columns except for 'Driver' and 'Date of Accident'\n",
    "\n",
    "f1_fatalities.drop(f1_fatalities.loc[:, 'Event':'Ref(s).'].columns, axis=1).reset_index(drop=True)"
   ]
  },
  {
   "cell_type": "markdown",
   "id": "3f1cb92e",
   "metadata": {},
   "source": [
    "#### Import Formula One Fatality data from Wikipedia via web scrape"
   ]
  },
  {
   "cell_type": "code",
   "execution_count": 19,
   "id": "9f226228",
   "metadata": {},
   "outputs": [],
   "source": [
    "# Import \"World Champions\" data from Wikipedia\n",
    "\n",
    "world_champions_table = pd.read_html('https://en.wikipedia.org/wiki/\\\n",
    "List_of_Formula_One_World_Drivers%27_Champions',\n",
    "match=\"World Drivers' Champions by season\")"
   ]
  },
  {
   "cell_type": "code",
   "execution_count": 20,
   "id": "fa30d83e",
   "metadata": {},
   "outputs": [],
   "source": [
    "# Create DataFrame from Table\n",
    "\n",
    "f1_world_champions = pd.DataFrame(world_champions_table[0])"
   ]
  },
  {
   "cell_type": "code",
   "execution_count": 21,
   "id": "1af93a02",
   "metadata": {},
   "outputs": [
    {
     "data": {
      "text/html": [
       "<div>\n",
       "<style scoped>\n",
       "    .dataframe tbody tr th:only-of-type {\n",
       "        vertical-align: middle;\n",
       "    }\n",
       "\n",
       "    .dataframe tbody tr th {\n",
       "        vertical-align: top;\n",
       "    }\n",
       "\n",
       "    .dataframe thead tr th {\n",
       "        text-align: left;\n",
       "    }\n",
       "</style>\n",
       "<table border=\"1\" class=\"dataframe\">\n",
       "  <thead>\n",
       "    <tr>\n",
       "      <th></th>\n",
       "      <th>Season</th>\n",
       "      <th>Driver</th>\n",
       "      <th>Age</th>\n",
       "      <th colspan=\"2\" halign=\"left\">Constructor</th>\n",
       "      <th>Tyres</th>\n",
       "      <th>Poles</th>\n",
       "      <th>Wins</th>\n",
       "      <th>Podiums</th>\n",
       "      <th>Fastest laps</th>\n",
       "      <th>Points</th>\n",
       "      <th>% Points</th>\n",
       "      <th>Clinched[17]</th>\n",
       "      <th># of racesremaining</th>\n",
       "      <th>Margin</th>\n",
       "      <th>% Margin</th>\n",
       "    </tr>\n",
       "    <tr>\n",
       "      <th></th>\n",
       "      <th>Season</th>\n",
       "      <th>Driver</th>\n",
       "      <th>Age</th>\n",
       "      <th>Chassis</th>\n",
       "      <th>Engine</th>\n",
       "      <th>Tyres</th>\n",
       "      <th>Poles</th>\n",
       "      <th>Wins</th>\n",
       "      <th>Podiums</th>\n",
       "      <th>Fastest laps</th>\n",
       "      <th>Points</th>\n",
       "      <th>% Points</th>\n",
       "      <th>Clinched[17]</th>\n",
       "      <th># of racesremaining</th>\n",
       "      <th>Margin</th>\n",
       "      <th>% Margin</th>\n",
       "    </tr>\n",
       "  </thead>\n",
       "  <tbody>\n",
       "    <tr>\n",
       "      <th>0</th>\n",
       "      <td>1950</td>\n",
       "      <td>Giuseppe Farina[20]</td>\n",
       "      <td>44</td>\n",
       "      <td>Alfa Romeo</td>\n",
       "      <td>Alfa Romeo</td>\n",
       "      <td>P</td>\n",
       "      <td>2</td>\n",
       "      <td>3</td>\n",
       "      <td>3</td>\n",
       "      <td>3</td>\n",
       "      <td>30</td>\n",
       "      <td>83.333 (47.619)</td>\n",
       "      <td>Race 7 of 7</td>\n",
       "      <td>0</td>\n",
       "      <td>3</td>\n",
       "      <td>10.000</td>\n",
       "    </tr>\n",
       "    <tr>\n",
       "      <th>1</th>\n",
       "      <td>1951</td>\n",
       "      <td>Juan Manuel Fangio[21]</td>\n",
       "      <td>40</td>\n",
       "      <td>Alfa Romeo</td>\n",
       "      <td>Alfa Romeo</td>\n",
       "      <td>P</td>\n",
       "      <td>4</td>\n",
       "      <td>3</td>\n",
       "      <td>5</td>\n",
       "      <td>5</td>\n",
       "      <td>31</td>\n",
       "      <td>86.111 (51.389)</td>\n",
       "      <td>Race 8 of 8</td>\n",
       "      <td>0</td>\n",
       "      <td>6</td>\n",
       "      <td>19.355</td>\n",
       "    </tr>\n",
       "    <tr>\n",
       "      <th>2</th>\n",
       "      <td>1952[a]</td>\n",
       "      <td>Alberto Ascari[23]</td>\n",
       "      <td>34</td>\n",
       "      <td>Ferrari</td>\n",
       "      <td>Ferrari</td>\n",
       "      <td>F P</td>\n",
       "      <td>5</td>\n",
       "      <td>6</td>\n",
       "      <td>6</td>\n",
       "      <td>6</td>\n",
       "      <td>36</td>\n",
       "      <td>100.000 (74.306)</td>\n",
       "      <td>Race 6 of 8</td>\n",
       "      <td>2</td>\n",
       "      <td>12</td>\n",
       "      <td>33.333</td>\n",
       "    </tr>\n",
       "  </tbody>\n",
       "</table>\n",
       "</div>"
      ],
      "text/plain": [
       "    Season                  Driver Age Constructor             Tyres Poles  \\\n",
       "    Season                  Driver Age     Chassis      Engine Tyres Poles   \n",
       "0     1950     Giuseppe Farina[20]  44  Alfa Romeo  Alfa Romeo     P     2   \n",
       "1     1951  Juan Manuel Fangio[21]  40  Alfa Romeo  Alfa Romeo     P     4   \n",
       "2  1952[a]      Alberto Ascari[23]  34     Ferrari     Ferrari   F P     5   \n",
       "\n",
       "  Wins Podiums Fastest laps Points          % Points Clinched[17]  \\\n",
       "  Wins Podiums Fastest laps Points          % Points Clinched[17]   \n",
       "0    3       3            3     30   83.333 (47.619)  Race 7 of 7   \n",
       "1    3       5            5     31   86.111 (51.389)  Race 8 of 8   \n",
       "2    6       6            6     36  100.000 (74.306)  Race 6 of 8   \n",
       "\n",
       "  # of racesremaining Margin % Margin  \n",
       "  # of racesremaining Margin % Margin  \n",
       "0                   0      3   10.000  \n",
       "1                   0      6   19.355  \n",
       "2                   2     12   33.333  "
      ]
     },
     "execution_count": 21,
     "metadata": {},
     "output_type": "execute_result"
    }
   ],
   "source": [
    "# Review header and footer of imported data\n",
    "\n",
    "f1_world_champions.head(3) "
   ]
  },
  {
   "cell_type": "code",
   "execution_count": 22,
   "id": "713df60c",
   "metadata": {},
   "outputs": [
    {
     "data": {
      "text/html": [
       "<div>\n",
       "<style scoped>\n",
       "    .dataframe tbody tr th:only-of-type {\n",
       "        vertical-align: middle;\n",
       "    }\n",
       "\n",
       "    .dataframe tbody tr th {\n",
       "        vertical-align: top;\n",
       "    }\n",
       "\n",
       "    .dataframe thead tr th {\n",
       "        text-align: left;\n",
       "    }\n",
       "</style>\n",
       "<table border=\"1\" class=\"dataframe\">\n",
       "  <thead>\n",
       "    <tr>\n",
       "      <th></th>\n",
       "      <th>Season</th>\n",
       "      <th>Driver</th>\n",
       "      <th>Age</th>\n",
       "      <th colspan=\"2\" halign=\"left\">Constructor</th>\n",
       "      <th>Tyres</th>\n",
       "      <th>Poles</th>\n",
       "      <th>Wins</th>\n",
       "      <th>Podiums</th>\n",
       "      <th>Fastest laps</th>\n",
       "      <th>Points</th>\n",
       "      <th>% Points</th>\n",
       "      <th>Clinched[17]</th>\n",
       "      <th># of racesremaining</th>\n",
       "      <th>Margin</th>\n",
       "      <th>% Margin</th>\n",
       "    </tr>\n",
       "    <tr>\n",
       "      <th></th>\n",
       "      <th>Season</th>\n",
       "      <th>Driver</th>\n",
       "      <th>Age</th>\n",
       "      <th>Chassis</th>\n",
       "      <th>Engine</th>\n",
       "      <th>Tyres</th>\n",
       "      <th>Poles</th>\n",
       "      <th>Wins</th>\n",
       "      <th>Podiums</th>\n",
       "      <th>Fastest laps</th>\n",
       "      <th>Points</th>\n",
       "      <th>% Points</th>\n",
       "      <th>Clinched[17]</th>\n",
       "      <th># of racesremaining</th>\n",
       "      <th>Margin</th>\n",
       "      <th>% Margin</th>\n",
       "    </tr>\n",
       "  </thead>\n",
       "  <tbody>\n",
       "    <tr>\n",
       "      <th>73</th>\n",
       "      <td>2022</td>\n",
       "      <td>Max Verstappen[55]</td>\n",
       "      <td>25</td>\n",
       "      <td>Red Bull</td>\n",
       "      <td>RBPT</td>\n",
       "      <td>P</td>\n",
       "      <td>7</td>\n",
       "      <td>15</td>\n",
       "      <td>17</td>\n",
       "      <td>5</td>\n",
       "      <td>454</td>\n",
       "      <td>76.174</td>\n",
       "      <td>Race 18 of 22</td>\n",
       "      <td>4</td>\n",
       "      <td>146</td>\n",
       "      <td>32.159</td>\n",
       "    </tr>\n",
       "    <tr>\n",
       "      <th>74</th>\n",
       "      <td>Season</td>\n",
       "      <td>Driver</td>\n",
       "      <td>Age</td>\n",
       "      <td>Chassis</td>\n",
       "      <td>Engine</td>\n",
       "      <td>Tyres</td>\n",
       "      <td>Poles</td>\n",
       "      <td>Wins</td>\n",
       "      <td>Podiums</td>\n",
       "      <td>Fastest laps</td>\n",
       "      <td>Points</td>\n",
       "      <td>% Points</td>\n",
       "      <td>Clinched</td>\n",
       "      <td># of racesremaining</td>\n",
       "      <td>Margin</td>\n",
       "      <td>% Margin</td>\n",
       "    </tr>\n",
       "    <tr>\n",
       "      <th>75</th>\n",
       "      <td>Season</td>\n",
       "      <td>Driver</td>\n",
       "      <td>Age</td>\n",
       "      <td>Constructor</td>\n",
       "      <td>Constructor</td>\n",
       "      <td>Tyres</td>\n",
       "      <td>Poles</td>\n",
       "      <td>Wins</td>\n",
       "      <td>Podiums</td>\n",
       "      <td>Fastest laps</td>\n",
       "      <td>Points</td>\n",
       "      <td>% Points</td>\n",
       "      <td>Clinched</td>\n",
       "      <td># of racesremaining</td>\n",
       "      <td>Margin</td>\n",
       "      <td>% Margin</td>\n",
       "    </tr>\n",
       "  </tbody>\n",
       "</table>\n",
       "</div>"
      ],
      "text/plain": [
       "    Season              Driver  Age  Constructor               Tyres  Poles  \\\n",
       "    Season              Driver  Age      Chassis       Engine  Tyres  Poles   \n",
       "73    2022  Max Verstappen[55]   25     Red Bull         RBPT      P      7   \n",
       "74  Season              Driver  Age      Chassis       Engine  Tyres  Poles   \n",
       "75  Season              Driver  Age  Constructor  Constructor  Tyres  Poles   \n",
       "\n",
       "    Wins  Podiums  Fastest laps  Points  % Points   Clinched[17]  \\\n",
       "    Wins  Podiums  Fastest laps  Points  % Points   Clinched[17]   \n",
       "73    15       17             5     454    76.174  Race 18 of 22   \n",
       "74  Wins  Podiums  Fastest laps  Points  % Points       Clinched   \n",
       "75  Wins  Podiums  Fastest laps  Points  % Points       Clinched   \n",
       "\n",
       "    # of racesremaining  Margin  % Margin  \n",
       "    # of racesremaining  Margin  % Margin  \n",
       "73                    4     146    32.159  \n",
       "74  # of racesremaining  Margin  % Margin  \n",
       "75  # of racesremaining  Margin  % Margin  "
      ]
     },
     "execution_count": 22,
     "metadata": {},
     "output_type": "execute_result"
    }
   ],
   "source": [
    "f1_world_champions.tail(3)     # last 5 rows"
   ]
  },
  {
   "cell_type": "code",
   "execution_count": 23,
   "id": "0bfc1ad0",
   "metadata": {},
   "outputs": [],
   "source": [
    "# Wikipedia page has merged cells in header and footer so lines are duplicated\n",
    "# To resolve, save to csv and reimport, removing the first row and two bottom rows\n",
    "\n",
    "f1_world_champions.to_csv('world_champions.csv')\n",
    "f1_world_champions = pd.read_csv('world_champions.csv', index_col=0, skiprows=[1], skipfooter=2, engine='python')"
   ]
  },
  {
   "cell_type": "code",
   "execution_count": 24,
   "id": "052be25a",
   "metadata": {},
   "outputs": [
    {
     "data": {
      "text/html": [
       "<div>\n",
       "<style scoped>\n",
       "    .dataframe tbody tr th:only-of-type {\n",
       "        vertical-align: middle;\n",
       "    }\n",
       "\n",
       "    .dataframe tbody tr th {\n",
       "        vertical-align: top;\n",
       "    }\n",
       "\n",
       "    .dataframe thead th {\n",
       "        text-align: right;\n",
       "    }\n",
       "</style>\n",
       "<table border=\"1\" class=\"dataframe\">\n",
       "  <thead>\n",
       "    <tr style=\"text-align: right;\">\n",
       "      <th></th>\n",
       "      <th>Season</th>\n",
       "      <th>Driver</th>\n",
       "      <th>Age</th>\n",
       "      <th>Constructor</th>\n",
       "      <th>Constructor.1</th>\n",
       "      <th>Tyres</th>\n",
       "      <th>Poles</th>\n",
       "      <th>Wins</th>\n",
       "      <th>Podiums</th>\n",
       "      <th>Fastest laps</th>\n",
       "      <th>Points</th>\n",
       "      <th>% Points</th>\n",
       "      <th>Clinched[17]</th>\n",
       "      <th># of racesremaining</th>\n",
       "      <th>Margin</th>\n",
       "      <th>% Margin</th>\n",
       "    </tr>\n",
       "  </thead>\n",
       "  <tbody>\n",
       "    <tr>\n",
       "      <th>0</th>\n",
       "      <td>1950</td>\n",
       "      <td>Giuseppe Farina[20]</td>\n",
       "      <td>44</td>\n",
       "      <td>Alfa Romeo</td>\n",
       "      <td>Alfa Romeo</td>\n",
       "      <td>P</td>\n",
       "      <td>2</td>\n",
       "      <td>3</td>\n",
       "      <td>3</td>\n",
       "      <td>3</td>\n",
       "      <td>30.0</td>\n",
       "      <td>83.333 (47.619)</td>\n",
       "      <td>Race 7 of 7</td>\n",
       "      <td>0</td>\n",
       "      <td>3</td>\n",
       "      <td>10.000</td>\n",
       "    </tr>\n",
       "    <tr>\n",
       "      <th>1</th>\n",
       "      <td>1951</td>\n",
       "      <td>Juan Manuel Fangio[21]</td>\n",
       "      <td>40</td>\n",
       "      <td>Alfa Romeo</td>\n",
       "      <td>Alfa Romeo</td>\n",
       "      <td>P</td>\n",
       "      <td>4</td>\n",
       "      <td>3</td>\n",
       "      <td>5</td>\n",
       "      <td>5</td>\n",
       "      <td>31.0</td>\n",
       "      <td>86.111 (51.389)</td>\n",
       "      <td>Race 8 of 8</td>\n",
       "      <td>0</td>\n",
       "      <td>6</td>\n",
       "      <td>19.355</td>\n",
       "    </tr>\n",
       "    <tr>\n",
       "      <th>2</th>\n",
       "      <td>1952[a]</td>\n",
       "      <td>Alberto Ascari[23]</td>\n",
       "      <td>34</td>\n",
       "      <td>Ferrari</td>\n",
       "      <td>Ferrari</td>\n",
       "      <td>F P</td>\n",
       "      <td>5</td>\n",
       "      <td>6</td>\n",
       "      <td>6</td>\n",
       "      <td>6</td>\n",
       "      <td>36.0</td>\n",
       "      <td>100.000 (74.306)</td>\n",
       "      <td>Race 6 of 8</td>\n",
       "      <td>2</td>\n",
       "      <td>12</td>\n",
       "      <td>33.333</td>\n",
       "    </tr>\n",
       "  </tbody>\n",
       "</table>\n",
       "</div>"
      ],
      "text/plain": [
       "    Season                  Driver  Age Constructor Constructor.1 Tyres  \\\n",
       "0     1950     Giuseppe Farina[20]   44  Alfa Romeo    Alfa Romeo     P   \n",
       "1     1951  Juan Manuel Fangio[21]   40  Alfa Romeo    Alfa Romeo     P   \n",
       "2  1952[a]      Alberto Ascari[23]   34     Ferrari       Ferrari   F P   \n",
       "\n",
       "   Poles  Wins  Podiums  Fastest laps  Points          % Points Clinched[17]  \\\n",
       "0      2     3        3             3    30.0   83.333 (47.619)  Race 7 of 7   \n",
       "1      4     3        5             5    31.0   86.111 (51.389)  Race 8 of 8   \n",
       "2      5     6        6             6    36.0  100.000 (74.306)  Race 6 of 8   \n",
       "\n",
       "   # of racesremaining Margin % Margin  \n",
       "0                    0      3   10.000  \n",
       "1                    0      6   19.355  \n",
       "2                    2     12   33.333  "
      ]
     },
     "execution_count": 24,
     "metadata": {},
     "output_type": "execute_result"
    }
   ],
   "source": [
    "# Review header and footer of imported data\n",
    "\n",
    "f1_world_champions.head(3) "
   ]
  },
  {
   "cell_type": "code",
   "execution_count": 25,
   "id": "fa804764",
   "metadata": {},
   "outputs": [
    {
     "data": {
      "text/html": [
       "<div>\n",
       "<style scoped>\n",
       "    .dataframe tbody tr th:only-of-type {\n",
       "        vertical-align: middle;\n",
       "    }\n",
       "\n",
       "    .dataframe tbody tr th {\n",
       "        vertical-align: top;\n",
       "    }\n",
       "\n",
       "    .dataframe thead th {\n",
       "        text-align: right;\n",
       "    }\n",
       "</style>\n",
       "<table border=\"1\" class=\"dataframe\">\n",
       "  <thead>\n",
       "    <tr style=\"text-align: right;\">\n",
       "      <th></th>\n",
       "      <th>Season</th>\n",
       "      <th>Driver</th>\n",
       "      <th>Age</th>\n",
       "      <th>Constructor</th>\n",
       "      <th>Constructor.1</th>\n",
       "      <th>Tyres</th>\n",
       "      <th>Poles</th>\n",
       "      <th>Wins</th>\n",
       "      <th>Podiums</th>\n",
       "      <th>Fastest laps</th>\n",
       "      <th>Points</th>\n",
       "      <th>% Points</th>\n",
       "      <th>Clinched[17]</th>\n",
       "      <th># of racesremaining</th>\n",
       "      <th>Margin</th>\n",
       "      <th>% Margin</th>\n",
       "    </tr>\n",
       "  </thead>\n",
       "  <tbody>\n",
       "    <tr>\n",
       "      <th>71</th>\n",
       "      <td>2020</td>\n",
       "      <td>Lewis Hamilton[51]</td>\n",
       "      <td>35</td>\n",
       "      <td>Mercedes</td>\n",
       "      <td>Mercedes</td>\n",
       "      <td>P</td>\n",
       "      <td>10</td>\n",
       "      <td>11</td>\n",
       "      <td>14</td>\n",
       "      <td>6</td>\n",
       "      <td>347.0</td>\n",
       "      <td>78.507</td>\n",
       "      <td>Race 14 of 17</td>\n",
       "      <td>3</td>\n",
       "      <td>124</td>\n",
       "      <td>35.735</td>\n",
       "    </tr>\n",
       "    <tr>\n",
       "      <th>72</th>\n",
       "      <td>2021</td>\n",
       "      <td>Max Verstappen[55]</td>\n",
       "      <td>24</td>\n",
       "      <td>Red Bull</td>\n",
       "      <td>Honda</td>\n",
       "      <td>P</td>\n",
       "      <td>10</td>\n",
       "      <td>10</td>\n",
       "      <td>18</td>\n",
       "      <td>6</td>\n",
       "      <td>395.5</td>\n",
       "      <td>69.692</td>\n",
       "      <td>Race 22 of 22</td>\n",
       "      <td>0</td>\n",
       "      <td>8</td>\n",
       "      <td>2.023</td>\n",
       "    </tr>\n",
       "    <tr>\n",
       "      <th>73</th>\n",
       "      <td>2022</td>\n",
       "      <td>Max Verstappen[55]</td>\n",
       "      <td>25</td>\n",
       "      <td>Red Bull</td>\n",
       "      <td>RBPT</td>\n",
       "      <td>P</td>\n",
       "      <td>7</td>\n",
       "      <td>15</td>\n",
       "      <td>17</td>\n",
       "      <td>5</td>\n",
       "      <td>454.0</td>\n",
       "      <td>76.174</td>\n",
       "      <td>Race 18 of 22</td>\n",
       "      <td>4</td>\n",
       "      <td>146</td>\n",
       "      <td>32.159</td>\n",
       "    </tr>\n",
       "  </tbody>\n",
       "</table>\n",
       "</div>"
      ],
      "text/plain": [
       "   Season              Driver  Age Constructor Constructor.1 Tyres  Poles  \\\n",
       "71   2020  Lewis Hamilton[51]   35    Mercedes      Mercedes     P     10   \n",
       "72   2021  Max Verstappen[55]   24    Red Bull         Honda     P     10   \n",
       "73   2022  Max Verstappen[55]   25    Red Bull          RBPT     P      7   \n",
       "\n",
       "    Wins  Podiums  Fastest laps  Points % Points   Clinched[17]  \\\n",
       "71    11       14             6   347.0   78.507  Race 14 of 17   \n",
       "72    10       18             6   395.5   69.692  Race 22 of 22   \n",
       "73    15       17             5   454.0   76.174  Race 18 of 22   \n",
       "\n",
       "    # of racesremaining Margin % Margin  \n",
       "71                    3    124   35.735  \n",
       "72                    0      8    2.023  \n",
       "73                    4    146   32.159  "
      ]
     },
     "execution_count": 25,
     "metadata": {},
     "output_type": "execute_result"
    }
   ],
   "source": [
    "f1_world_champions.tail(3)"
   ]
  },
  {
   "cell_type": "code",
   "execution_count": 26,
   "id": "47d188ba",
   "metadata": {},
   "outputs": [
    {
     "name": "stdout",
     "output_type": "stream",
     "text": [
      "<class 'pandas.core.frame.DataFrame'>\n",
      "Int64Index: 74 entries, 0 to 73\n",
      "Data columns (total 16 columns):\n",
      " #   Column               Non-Null Count  Dtype  \n",
      "---  ------               --------------  -----  \n",
      " 0   Season               74 non-null     object \n",
      " 1   Driver               74 non-null     object \n",
      " 2   Age                  74 non-null     int64  \n",
      " 3   Constructor          74 non-null     object \n",
      " 4   Constructor.1        74 non-null     object \n",
      " 5   Tyres                74 non-null     object \n",
      " 6   Poles                74 non-null     int64  \n",
      " 7   Wins                 74 non-null     int64  \n",
      " 8   Podiums              74 non-null     int64  \n",
      " 9   Fastest laps         74 non-null     int64  \n",
      " 10  Points               74 non-null     float64\n",
      " 11  % Points             74 non-null     object \n",
      " 12  Clinched[17]         74 non-null     object \n",
      " 13  # of racesremaining  74 non-null     int64  \n",
      " 14  Margin               74 non-null     object \n",
      " 15  % Margin             74 non-null     object \n",
      "dtypes: float64(1), int64(6), object(9)\n",
      "memory usage: 9.8+ KB\n"
     ]
    },
    {
     "data": {
      "text/plain": [
       "Season                 0\n",
       "Driver                 0\n",
       "Age                    0\n",
       "Constructor            0\n",
       "Constructor.1          0\n",
       "Tyres                  0\n",
       "Poles                  0\n",
       "Wins                   0\n",
       "Podiums                0\n",
       "Fastest laps           0\n",
       "Points                 0\n",
       "% Points               0\n",
       "Clinched[17]           0\n",
       "# of racesremaining    0\n",
       "Margin                 0\n",
       "% Margin               0\n",
       "dtype: int64"
      ]
     },
     "execution_count": 26,
     "metadata": {},
     "output_type": "execute_result"
    }
   ],
   "source": [
    "# Inspect and refine data\n",
    "\n",
    "f1_world_champions.info()\n",
    "f1_world_champions.isnull().sum()\n",
    "\n",
    "# 74 entries with zero null values\n",
    "# Remove all columns except 'Season' & 'Driver'\n",
    "# Remove trailing data in both 'Season' & 'Driver' columns\n",
    "# Required columns are correct Data Types"
   ]
  },
  {
   "cell_type": "code",
   "execution_count": 27,
   "id": "b15a8eed",
   "metadata": {},
   "outputs": [
    {
     "data": {
      "text/plain": [
       "0"
      ]
     },
     "execution_count": 27,
     "metadata": {},
     "output_type": "execute_result"
    }
   ],
   "source": [
    "# Confirm that there are no duplicate vaues in the DataFrame\n",
    "\n",
    "f1_world_champions.duplicated().sum()"
   ]
  },
  {
   "cell_type": "code",
   "execution_count": 28,
   "id": "10f3c5ec",
   "metadata": {},
   "outputs": [],
   "source": [
    "# Remove trailing data from 'Season' & 'Driver' columns\n",
    "\n",
    "f1_world_champions_split = f1_world_champions['Season'].str.split('[', expand=True)\n",
    "f1_world_champions['Season'] = f1_world_champions_split[0]\n",
    "f1_world_champions_split = f1_world_champions['Driver'].str.split('[', expand=True)\n",
    "f1_world_champions['Driver'] = f1_world_champions_split[0]"
   ]
  },
  {
   "cell_type": "code",
   "execution_count": 29,
   "id": "2f246e90",
   "metadata": {},
   "outputs": [],
   "source": [
    "# Remove unwanted columns\n",
    "\n",
    "f1_world_champions.drop(f1_world_champions.loc[:,'Age':'% Margin'].columns, axis=1, inplace=True)"
   ]
  },
  {
   "cell_type": "code",
   "execution_count": 30,
   "id": "e4c61de4",
   "metadata": {},
   "outputs": [],
   "source": [
    "# Groupby DataFrame and save\n",
    "\n",
    "f1_world_champions=f1_world_champions.groupby([ \"Driver\"]).size().to_frame(name = 'TimesWorldChampion').reset_index()"
   ]
  },
  {
   "cell_type": "code",
   "execution_count": 31,
   "id": "1bdfe2ec",
   "metadata": {},
   "outputs": [],
   "source": [
    "# Sort by 'TimesWorldChampion' column descending\n",
    "\n",
    "f1_world_champions = f1_world_champions.sort_values('TimesWorldChampion', ascending = False).reset_index(drop=True)"
   ]
  },
  {
   "cell_type": "code",
   "execution_count": 32,
   "id": "f8b64440",
   "metadata": {},
   "outputs": [
    {
     "data": {
      "text/html": [
       "<div>\n",
       "<style scoped>\n",
       "    .dataframe tbody tr th:only-of-type {\n",
       "        vertical-align: middle;\n",
       "    }\n",
       "\n",
       "    .dataframe tbody tr th {\n",
       "        vertical-align: top;\n",
       "    }\n",
       "\n",
       "    .dataframe thead th {\n",
       "        text-align: right;\n",
       "    }\n",
       "</style>\n",
       "<table border=\"1\" class=\"dataframe\">\n",
       "  <thead>\n",
       "    <tr style=\"text-align: right;\">\n",
       "      <th></th>\n",
       "      <th>Driver</th>\n",
       "      <th>TimesWorldChampion</th>\n",
       "    </tr>\n",
       "  </thead>\n",
       "  <tbody>\n",
       "    <tr>\n",
       "      <th>0</th>\n",
       "      <td>Michael Schumacher</td>\n",
       "      <td>7</td>\n",
       "    </tr>\n",
       "    <tr>\n",
       "      <th>1</th>\n",
       "      <td>Lewis Hamilton</td>\n",
       "      <td>7</td>\n",
       "    </tr>\n",
       "    <tr>\n",
       "      <th>2</th>\n",
       "      <td>Juan Manuel Fangio</td>\n",
       "      <td>6</td>\n",
       "    </tr>\n",
       "    <tr>\n",
       "      <th>3</th>\n",
       "      <td>Alain Prost</td>\n",
       "      <td>4</td>\n",
       "    </tr>\n",
       "    <tr>\n",
       "      <th>4</th>\n",
       "      <td>Sebastian Vettel</td>\n",
       "      <td>4</td>\n",
       "    </tr>\n",
       "  </tbody>\n",
       "</table>\n",
       "</div>"
      ],
      "text/plain": [
       "               Driver  TimesWorldChampion\n",
       "0  Michael Schumacher                   7\n",
       "1      Lewis Hamilton                   7\n",
       "2  Juan Manuel Fangio                   6\n",
       "3         Alain Prost                   4\n",
       "4    Sebastian Vettel                   4"
      ]
     },
     "execution_count": 32,
     "metadata": {},
     "output_type": "execute_result"
    }
   ],
   "source": [
    "f1_world_champions.head()"
   ]
  },
  {
   "cell_type": "markdown",
   "id": "1b214af5",
   "metadata": {},
   "source": [
    "#### Inspect & Reformat \"Drivers\" DataFrame "
   ]
  },
  {
   "cell_type": "code",
   "execution_count": 33,
   "id": "2c364261",
   "metadata": {},
   "outputs": [
    {
     "name": "stdout",
     "output_type": "stream",
     "text": [
      "<class 'pandas.core.frame.DataFrame'>\n",
      "RangeIndex: 855 entries, 0 to 854\n",
      "Data columns (total 9 columns):\n",
      " #   Column       Non-Null Count  Dtype \n",
      "---  ------       --------------  ----- \n",
      " 0   driverId     855 non-null    int64 \n",
      " 1   driverRef    855 non-null    object\n",
      " 2   number       855 non-null    object\n",
      " 3   code         855 non-null    object\n",
      " 4   forename     855 non-null    object\n",
      " 5   surname      855 non-null    object\n",
      " 6   dob          855 non-null    object\n",
      " 7   nationality  855 non-null    object\n",
      " 8   url          855 non-null    object\n",
      "dtypes: int64(1), object(8)\n",
      "memory usage: 60.2+ KB\n"
     ]
    },
    {
     "data": {
      "text/plain": [
       "driverId       0\n",
       "driverRef      0\n",
       "number         0\n",
       "code           0\n",
       "forename       0\n",
       "surname        0\n",
       "dob            0\n",
       "nationality    0\n",
       "url            0\n",
       "dtype: int64"
      ]
     },
     "execution_count": 33,
     "metadata": {},
     "output_type": "execute_result"
    }
   ],
   "source": [
    "# Inspect and refine data\n",
    "\n",
    "f1_drivers.info()\n",
    "f1_drivers.isnull().sum()\n",
    "\n",
    "# 855 entries with zero null values\n",
    "# Remove all columns except 'driverId',  'forename', 'surname' & 'nationality'\n",
    "# Required columns are correct Data Types"
   ]
  },
  {
   "cell_type": "code",
   "execution_count": 34,
   "id": "9019cf2b",
   "metadata": {},
   "outputs": [
    {
     "data": {
      "text/plain": [
       "0"
      ]
     },
     "execution_count": 34,
     "metadata": {},
     "output_type": "execute_result"
    }
   ],
   "source": [
    "# Confirm that there are no duplicate values in the DataFrame\n",
    "\n",
    "f1_drivers.duplicated().sum()"
   ]
  },
  {
   "cell_type": "code",
   "execution_count": 35,
   "id": "a6ae6c3d",
   "metadata": {},
   "outputs": [],
   "source": [
    "# Drop all columns except 'driverId',  'forename', 'surname' & 'nationality'\n",
    "\n",
    "cols = [1,2,3,6,8]\n",
    "f1_drivers.drop(f1_drivers.columns[cols],axis=1,inplace=True)"
   ]
  },
  {
   "cell_type": "code",
   "execution_count": 36,
   "id": "2a72a56f",
   "metadata": {},
   "outputs": [],
   "source": [
    "# Create 'Full Name' column in DataFrame\n",
    "\n",
    "f1_drivers[\"fullname\"] = f1_drivers[\"forename\"] + ' ' + f1_drivers[\"surname\"]"
   ]
  },
  {
   "cell_type": "code",
   "execution_count": 37,
   "id": "8f82c38b",
   "metadata": {},
   "outputs": [],
   "source": [
    "# Move 'full name' position to after 'surname''\n",
    "\n",
    "f1_drivers = f1_drivers.reindex(['driverId', 'forename', 'surname', 'fullname', 'nationality'], axis=1)"
   ]
  },
  {
   "cell_type": "code",
   "execution_count": 38,
   "id": "df3db30c",
   "metadata": {},
   "outputs": [],
   "source": [
    "# Because the World Champion data is coming from a different source, \n",
    "# check to ensure that all World Champions exists in the 'Drivers' dataFrame\n",
    "\n",
    "f1_name_check = pd.merge(f1_drivers,f1_world_champions, left_on='fullname', right_on='Driver', how='right')"
   ]
  },
  {
   "cell_type": "code",
   "execution_count": 39,
   "id": "1f0d93ef",
   "metadata": {},
   "outputs": [
    {
     "data": {
      "text/html": [
       "<div>\n",
       "<style scoped>\n",
       "    .dataframe tbody tr th:only-of-type {\n",
       "        vertical-align: middle;\n",
       "    }\n",
       "\n",
       "    .dataframe tbody tr th {\n",
       "        vertical-align: top;\n",
       "    }\n",
       "\n",
       "    .dataframe thead th {\n",
       "        text-align: right;\n",
       "    }\n",
       "</style>\n",
       "<table border=\"1\" class=\"dataframe\">\n",
       "  <thead>\n",
       "    <tr style=\"text-align: right;\">\n",
       "      <th></th>\n",
       "      <th>driverId</th>\n",
       "      <th>forename</th>\n",
       "      <th>surname</th>\n",
       "      <th>fullname</th>\n",
       "      <th>nationality</th>\n",
       "      <th>Driver</th>\n",
       "      <th>TimesWorldChampion</th>\n",
       "    </tr>\n",
       "  </thead>\n",
       "  <tbody>\n",
       "    <tr>\n",
       "      <th>2</th>\n",
       "      <td>NaN</td>\n",
       "      <td>NaN</td>\n",
       "      <td>NaN</td>\n",
       "      <td>NaN</td>\n",
       "      <td>NaN</td>\n",
       "      <td>Juan Manuel Fangio</td>\n",
       "      <td>6</td>\n",
       "    </tr>\n",
       "    <tr>\n",
       "      <th>32</th>\n",
       "      <td>NaN</td>\n",
       "      <td>NaN</td>\n",
       "      <td>NaN</td>\n",
       "      <td>NaN</td>\n",
       "      <td>NaN</td>\n",
       "      <td>Giuseppe Farina</td>\n",
       "      <td>1</td>\n",
       "    </tr>\n",
       "  </tbody>\n",
       "</table>\n",
       "</div>"
      ],
      "text/plain": [
       "    driverId forename surname fullname nationality              Driver  \\\n",
       "2        NaN      NaN     NaN      NaN         NaN  Juan Manuel Fangio   \n",
       "32       NaN      NaN     NaN      NaN         NaN     Giuseppe Farina   \n",
       "\n",
       "    TimesWorldChampion  \n",
       "2                    6  \n",
       "32                   1  "
      ]
     },
     "execution_count": 39,
     "metadata": {},
     "output_type": "execute_result"
    }
   ],
   "source": [
    "# From right join, check to see if any naming discrepancies exist in 'World Champions' DataFrame\n",
    "\n",
    "f1_name_check[f1_name_check['fullname'].isna()]"
   ]
  },
  {
   "cell_type": "code",
   "execution_count": 40,
   "id": "94c14807",
   "metadata": {},
   "outputs": [
    {
     "name": "stdout",
     "output_type": "stream",
     "text": [
      "     driverId forename surname     fullname nationality\n",
      "579       579     Juan  Fangio  Juan Fangio   Argentine\n",
      "642       642     Nino  Farina  Nino Farina     Italian\n"
     ]
    }
   ],
   "source": [
    "# Find the impacted rows in the 'Drivers' dataFrame\n",
    "\n",
    "f1_name_check = f1_drivers[f1_drivers.eval(\"surname == 'Fangio' or \\\n",
    "                                            surname == 'Farina'\")]\n",
    "print(f1_name_check)"
   ]
  },
  {
   "cell_type": "code",
   "execution_count": 41,
   "id": "9357420a",
   "metadata": {},
   "outputs": [],
   "source": [
    " # Change forenames and surnames in the 'Drivers' dataFrame to match 'World Champions'\n",
    "\n",
    "f1_drivers['forename'] = f1_drivers['forename'].str.replace('Nino','Giuseppe')\n",
    "f1_drivers['forename'] = f1_drivers['forename'].str.replace('Juan','Juan Manuel')\n",
    "f1_drivers['fullname'] = f1_drivers['fullname'].str.replace('Nino Farina','Giuseppe Farina')\n",
    "f1_drivers['fullname'] = f1_drivers['fullname'].str.replace('Juan Fangio','Juan Manuel Fangio')\n"
   ]
  },
  {
   "cell_type": "code",
   "execution_count": 42,
   "id": "48adb418",
   "metadata": {},
   "outputs": [
    {
     "name": "stdout",
     "output_type": "stream",
     "text": [
      "     driverId     forename surname            fullname nationality\n",
      "579       579  Juan Manuel  Fangio  Juan Manuel Fangio   Argentine\n",
      "642       642     Giuseppe  Farina     Giuseppe Farina     Italian\n"
     ]
    }
   ],
   "source": [
    "# Confirm that 'Drivers' dataFrame has been updated correctly\n",
    "\n",
    "print(f1_drivers.loc[f1_drivers['fullname'].isin(['Juan Manuel Fangio', 'Giuseppe Farina'])])"
   ]
  },
  {
   "cell_type": "code",
   "execution_count": 43,
   "id": "886d6ec9",
   "metadata": {},
   "outputs": [
    {
     "data": {
      "text/plain": [
       "driverId       0\n",
       "forename       0\n",
       "surname        0\n",
       "fullname       0\n",
       "nationality    0\n",
       "dtype: int64"
      ]
     },
     "execution_count": 43,
     "metadata": {},
     "output_type": "execute_result"
    }
   ],
   "source": [
    "# Ensure all NaN data has been resolved\n",
    "\n",
    "f1_drivers.isna().sum()"
   ]
  },
  {
   "cell_type": "code",
   "execution_count": 44,
   "id": "a0c68803",
   "metadata": {},
   "outputs": [],
   "source": [
    "# Merge 'Warld Champions' DataFrame into 'Drivers' DataFrame\n",
    "\n",
    "f1_drivers = pd.merge(f1_drivers,f1_world_champions, left_on='fullname', right_on='Driver', how='outer')"
   ]
  },
  {
   "cell_type": "code",
   "execution_count": 45,
   "id": "4f6e453f",
   "metadata": {},
   "outputs": [],
   "source": [
    "# Remove 'Drivers' columns\n",
    "f1_drivers.drop(['Driver'], axis=1, inplace=True)"
   ]
  },
  {
   "cell_type": "code",
   "execution_count": 46,
   "id": "3b21f0e9",
   "metadata": {},
   "outputs": [
    {
     "data": {
      "text/html": [
       "<div>\n",
       "<style scoped>\n",
       "    .dataframe tbody tr th:only-of-type {\n",
       "        vertical-align: middle;\n",
       "    }\n",
       "\n",
       "    .dataframe tbody tr th {\n",
       "        vertical-align: top;\n",
       "    }\n",
       "\n",
       "    .dataframe thead th {\n",
       "        text-align: right;\n",
       "    }\n",
       "</style>\n",
       "<table border=\"1\" class=\"dataframe\">\n",
       "  <thead>\n",
       "    <tr style=\"text-align: right;\">\n",
       "      <th></th>\n",
       "      <th>driverId</th>\n",
       "      <th>forename</th>\n",
       "      <th>surname</th>\n",
       "      <th>fullname</th>\n",
       "      <th>nationality</th>\n",
       "      <th>TimesWorldChampion</th>\n",
       "    </tr>\n",
       "  </thead>\n",
       "  <tbody>\n",
       "    <tr>\n",
       "      <th>0</th>\n",
       "      <td>1</td>\n",
       "      <td>Lewis</td>\n",
       "      <td>Hamilton</td>\n",
       "      <td>Lewis Hamilton</td>\n",
       "      <td>British</td>\n",
       "      <td>7.0</td>\n",
       "    </tr>\n",
       "    <tr>\n",
       "      <th>1</th>\n",
       "      <td>2</td>\n",
       "      <td>Nick</td>\n",
       "      <td>Heidfeld</td>\n",
       "      <td>Nick Heidfeld</td>\n",
       "      <td>German</td>\n",
       "      <td>NaN</td>\n",
       "    </tr>\n",
       "    <tr>\n",
       "      <th>2</th>\n",
       "      <td>3</td>\n",
       "      <td>Nico</td>\n",
       "      <td>Rosberg</td>\n",
       "      <td>Nico Rosberg</td>\n",
       "      <td>German</td>\n",
       "      <td>1.0</td>\n",
       "    </tr>\n",
       "  </tbody>\n",
       "</table>\n",
       "</div>"
      ],
      "text/plain": [
       "   driverId forename   surname        fullname nationality  TimesWorldChampion\n",
       "0         1    Lewis  Hamilton  Lewis Hamilton     British                 7.0\n",
       "1         2     Nick  Heidfeld   Nick Heidfeld      German                 NaN\n",
       "2         3     Nico   Rosberg    Nico Rosberg      German                 1.0"
      ]
     },
     "execution_count": 46,
     "metadata": {},
     "output_type": "execute_result"
    }
   ],
   "source": [
    "# Inspect f1_drivers post-merge \n",
    "\n",
    "f1_drivers.head(3)\n",
    "\n",
    "# Remove all NaN data\n",
    "# Change 'TimesWorldChampion' type from float to int"
   ]
  },
  {
   "cell_type": "code",
   "execution_count": 47,
   "id": "5a834ec1",
   "metadata": {},
   "outputs": [],
   "source": [
    "# Replace NULL values with zero\n",
    "\n",
    "f1_drivers['TimesWorldChampion'] = f1_drivers['TimesWorldChampion'].fillna(0).astype(np.int64)"
   ]
  },
  {
   "cell_type": "code",
   "execution_count": 48,
   "id": "e865b622",
   "metadata": {},
   "outputs": [],
   "source": [
    "# Change driverId from float to int\n",
    "\n",
    "f1_drivers['driverId'] = f1_drivers['driverId'].astype(np.int64)"
   ]
  },
  {
   "cell_type": "code",
   "execution_count": 49,
   "id": "0af50bc7",
   "metadata": {},
   "outputs": [
    {
     "name": "stdout",
     "output_type": "stream",
     "text": [
      "<class 'pandas.core.frame.DataFrame'>\n",
      "Int64Index: 855 entries, 0 to 854\n",
      "Data columns (total 6 columns):\n",
      " #   Column              Non-Null Count  Dtype \n",
      "---  ------              --------------  ----- \n",
      " 0   driverId            855 non-null    int64 \n",
      " 1   forename            855 non-null    object\n",
      " 2   surname             855 non-null    object\n",
      " 3   fullname            855 non-null    object\n",
      " 4   nationality         855 non-null    object\n",
      " 5   TimesWorldChampion  855 non-null    int64 \n",
      "dtypes: int64(2), object(4)\n",
      "memory usage: 46.8+ KB\n"
     ]
    }
   ],
   "source": [
    "f1_drivers.info()"
   ]
  },
  {
   "cell_type": "code",
   "execution_count": 50,
   "id": "4ad8c8bc",
   "metadata": {},
   "outputs": [
    {
     "data": {
      "text/html": [
       "<div>\n",
       "<style scoped>\n",
       "    .dataframe tbody tr th:only-of-type {\n",
       "        vertical-align: middle;\n",
       "    }\n",
       "\n",
       "    .dataframe tbody tr th {\n",
       "        vertical-align: top;\n",
       "    }\n",
       "\n",
       "    .dataframe thead th {\n",
       "        text-align: right;\n",
       "    }\n",
       "</style>\n",
       "<table border=\"1\" class=\"dataframe\">\n",
       "  <thead>\n",
       "    <tr style=\"text-align: right;\">\n",
       "      <th></th>\n",
       "      <th>driverId</th>\n",
       "      <th>forename</th>\n",
       "      <th>surname</th>\n",
       "      <th>fullname</th>\n",
       "      <th>nationality</th>\n",
       "      <th>TimesWorldChampion</th>\n",
       "    </tr>\n",
       "  </thead>\n",
       "  <tbody>\n",
       "    <tr>\n",
       "      <th>0</th>\n",
       "      <td>1</td>\n",
       "      <td>Lewis</td>\n",
       "      <td>Hamilton</td>\n",
       "      <td>Lewis Hamilton</td>\n",
       "      <td>British</td>\n",
       "      <td>7</td>\n",
       "    </tr>\n",
       "    <tr>\n",
       "      <th>1</th>\n",
       "      <td>2</td>\n",
       "      <td>Nick</td>\n",
       "      <td>Heidfeld</td>\n",
       "      <td>Nick Heidfeld</td>\n",
       "      <td>German</td>\n",
       "      <td>0</td>\n",
       "    </tr>\n",
       "    <tr>\n",
       "      <th>2</th>\n",
       "      <td>3</td>\n",
       "      <td>Nico</td>\n",
       "      <td>Rosberg</td>\n",
       "      <td>Nico Rosberg</td>\n",
       "      <td>German</td>\n",
       "      <td>1</td>\n",
       "    </tr>\n",
       "    <tr>\n",
       "      <th>3</th>\n",
       "      <td>4</td>\n",
       "      <td>Fernando</td>\n",
       "      <td>Alonso</td>\n",
       "      <td>Fernando Alonso</td>\n",
       "      <td>Spanish</td>\n",
       "      <td>2</td>\n",
       "    </tr>\n",
       "    <tr>\n",
       "      <th>4</th>\n",
       "      <td>5</td>\n",
       "      <td>Heikki</td>\n",
       "      <td>Kovalainen</td>\n",
       "      <td>Heikki Kovalainen</td>\n",
       "      <td>Finnish</td>\n",
       "      <td>0</td>\n",
       "    </tr>\n",
       "  </tbody>\n",
       "</table>\n",
       "</div>"
      ],
      "text/plain": [
       "   driverId  forename     surname           fullname nationality  \\\n",
       "0         1     Lewis    Hamilton     Lewis Hamilton     British   \n",
       "1         2      Nick    Heidfeld      Nick Heidfeld      German   \n",
       "2         3      Nico     Rosberg       Nico Rosberg      German   \n",
       "3         4  Fernando      Alonso    Fernando Alonso     Spanish   \n",
       "4         5    Heikki  Kovalainen  Heikki Kovalainen     Finnish   \n",
       "\n",
       "   TimesWorldChampion  \n",
       "0                   7  \n",
       "1                   0  \n",
       "2                   1  \n",
       "3                   2  \n",
       "4                   0  "
      ]
     },
     "execution_count": 50,
     "metadata": {},
     "output_type": "execute_result"
    }
   ],
   "source": [
    "f1_drivers.head()"
   ]
  },
  {
   "cell_type": "markdown",
   "id": "3354d900",
   "metadata": {},
   "source": [
    "#### Inspect & Reformat \"Races\" DataFrame"
   ]
  },
  {
   "cell_type": "code",
   "execution_count": 51,
   "id": "fbe5dee8",
   "metadata": {},
   "outputs": [
    {
     "name": "stdout",
     "output_type": "stream",
     "text": [
      "<class 'pandas.core.frame.DataFrame'>\n",
      "RangeIndex: 1079 entries, 0 to 1078\n",
      "Data columns (total 18 columns):\n",
      " #   Column       Non-Null Count  Dtype \n",
      "---  ------       --------------  ----- \n",
      " 0   raceId       1079 non-null   int64 \n",
      " 1   year         1079 non-null   int64 \n",
      " 2   round        1079 non-null   int64 \n",
      " 3   circuitId    1079 non-null   int64 \n",
      " 4   name         1079 non-null   object\n",
      " 5   date         1079 non-null   object\n",
      " 6   time         1079 non-null   object\n",
      " 7   url          1079 non-null   object\n",
      " 8   fp1_date     1079 non-null   object\n",
      " 9   fp1_time     1079 non-null   object\n",
      " 10  fp2_date     1079 non-null   object\n",
      " 11  fp2_time     1079 non-null   object\n",
      " 12  fp3_date     1079 non-null   object\n",
      " 13  fp3_time     1079 non-null   object\n",
      " 14  quali_date   1079 non-null   object\n",
      " 15  quali_time   1079 non-null   object\n",
      " 16  sprint_date  1079 non-null   object\n",
      " 17  sprint_time  1079 non-null   object\n",
      "dtypes: int64(4), object(14)\n",
      "memory usage: 151.9+ KB\n"
     ]
    },
    {
     "data": {
      "text/plain": [
       "raceId         0\n",
       "year           0\n",
       "round          0\n",
       "circuitId      0\n",
       "name           0\n",
       "date           0\n",
       "time           0\n",
       "url            0\n",
       "fp1_date       0\n",
       "fp1_time       0\n",
       "fp2_date       0\n",
       "fp2_time       0\n",
       "fp3_date       0\n",
       "fp3_time       0\n",
       "quali_date     0\n",
       "quali_time     0\n",
       "sprint_date    0\n",
       "sprint_time    0\n",
       "dtype: int64"
      ]
     },
     "execution_count": 51,
     "metadata": {},
     "output_type": "execute_result"
    }
   ],
   "source": [
    "# Inspect and refine data\n",
    "\n",
    "f1_races.info()\n",
    "f1_races.isnull().sum()\n",
    "\n",
    "# 1,079 entries with zero null values\n",
    "# Remove all columns except 'raceId' & 'year'\n",
    "# Change in type for 'year' from int64 is not required\n",
    "# Required columns are correct Data Types"
   ]
  },
  {
   "cell_type": "code",
   "execution_count": 52,
   "id": "95374a41",
   "metadata": {},
   "outputs": [
    {
     "data": {
      "text/plain": [
       "0"
      ]
     },
     "execution_count": 52,
     "metadata": {},
     "output_type": "execute_result"
    }
   ],
   "source": [
    "# Confirm that there are no duplicate vaues in the DataFrame\n",
    "\n",
    "f1_races.duplicated().sum()"
   ]
  },
  {
   "cell_type": "code",
   "execution_count": 53,
   "id": "4b8a03e7",
   "metadata": {},
   "outputs": [],
   "source": [
    "# Drop all columns except 'raceId' & 'year'\n",
    "\n",
    "f1_races.drop(f1_races.loc[:,'round':'sprint_time'].columns, axis=1, inplace=True)"
   ]
  },
  {
   "cell_type": "code",
   "execution_count": 54,
   "id": "df6034bc",
   "metadata": {},
   "outputs": [
    {
     "data": {
      "text/html": [
       "<div>\n",
       "<style scoped>\n",
       "    .dataframe tbody tr th:only-of-type {\n",
       "        vertical-align: middle;\n",
       "    }\n",
       "\n",
       "    .dataframe tbody tr th {\n",
       "        vertical-align: top;\n",
       "    }\n",
       "\n",
       "    .dataframe thead th {\n",
       "        text-align: right;\n",
       "    }\n",
       "</style>\n",
       "<table border=\"1\" class=\"dataframe\">\n",
       "  <thead>\n",
       "    <tr style=\"text-align: right;\">\n",
       "      <th></th>\n",
       "      <th>raceId</th>\n",
       "      <th>year</th>\n",
       "    </tr>\n",
       "  </thead>\n",
       "  <tbody>\n",
       "    <tr>\n",
       "      <th>0</th>\n",
       "      <td>1</td>\n",
       "      <td>2009</td>\n",
       "    </tr>\n",
       "    <tr>\n",
       "      <th>1</th>\n",
       "      <td>2</td>\n",
       "      <td>2009</td>\n",
       "    </tr>\n",
       "    <tr>\n",
       "      <th>2</th>\n",
       "      <td>3</td>\n",
       "      <td>2009</td>\n",
       "    </tr>\n",
       "    <tr>\n",
       "      <th>3</th>\n",
       "      <td>4</td>\n",
       "      <td>2009</td>\n",
       "    </tr>\n",
       "    <tr>\n",
       "      <th>4</th>\n",
       "      <td>5</td>\n",
       "      <td>2009</td>\n",
       "    </tr>\n",
       "  </tbody>\n",
       "</table>\n",
       "</div>"
      ],
      "text/plain": [
       "   raceId  year\n",
       "0       1  2009\n",
       "1       2  2009\n",
       "2       3  2009\n",
       "3       4  2009\n",
       "4       5  2009"
      ]
     },
     "execution_count": 54,
     "metadata": {},
     "output_type": "execute_result"
    }
   ],
   "source": [
    "f1_races.head()"
   ]
  },
  {
   "cell_type": "markdown",
   "id": "b5d8c570",
   "metadata": {},
   "source": [
    "#### Inspect & Reformat \"Results\" DataFrame"
   ]
  },
  {
   "cell_type": "code",
   "execution_count": 55,
   "id": "4eea7962",
   "metadata": {},
   "outputs": [
    {
     "name": "stdout",
     "output_type": "stream",
     "text": [
      "<class 'pandas.core.frame.DataFrame'>\n",
      "RangeIndex: 25840 entries, 0 to 25839\n",
      "Data columns (total 18 columns):\n",
      " #   Column           Non-Null Count  Dtype  \n",
      "---  ------           --------------  -----  \n",
      " 0   resultId         25840 non-null  int64  \n",
      " 1   raceId           25840 non-null  int64  \n",
      " 2   driverId         25840 non-null  int64  \n",
      " 3   constructorId    25840 non-null  int64  \n",
      " 4   number           25840 non-null  object \n",
      " 5   grid             25840 non-null  int64  \n",
      " 6   position         25840 non-null  object \n",
      " 7   positionText     25840 non-null  object \n",
      " 8   positionOrder    25840 non-null  int64  \n",
      " 9   points           25840 non-null  float64\n",
      " 10  laps             25840 non-null  int64  \n",
      " 11  time             25840 non-null  object \n",
      " 12  milliseconds     25840 non-null  object \n",
      " 13  fastestLap       25840 non-null  object \n",
      " 14  rank             25840 non-null  object \n",
      " 15  fastestLapTime   25840 non-null  object \n",
      " 16  fastestLapSpeed  25840 non-null  object \n",
      " 17  statusId         25840 non-null  int64  \n",
      "dtypes: float64(1), int64(8), object(9)\n",
      "memory usage: 3.5+ MB\n"
     ]
    },
    {
     "data": {
      "text/plain": [
       "resultId           0\n",
       "raceId             0\n",
       "driverId           0\n",
       "constructorId      0\n",
       "number             0\n",
       "grid               0\n",
       "position           0\n",
       "positionText       0\n",
       "positionOrder      0\n",
       "points             0\n",
       "laps               0\n",
       "time               0\n",
       "milliseconds       0\n",
       "fastestLap         0\n",
       "rank               0\n",
       "fastestLapTime     0\n",
       "fastestLapSpeed    0\n",
       "statusId           0\n",
       "dtype: int64"
      ]
     },
     "execution_count": 55,
     "metadata": {},
     "output_type": "execute_result"
    }
   ],
   "source": [
    "# Inspect and refine data\n",
    "\n",
    "f1_results.info()\n",
    "f1_results.isnull().sum()\n",
    "\n",
    "# Inspect \"Results\" DataFrame\n",
    "# 25,840 entries with zero null values\n",
    "# Remove all columns except 'raceId', 'driverId', 'positionText'  \n",
    "# 'positionOrder', 'fastestLapSpeed' & 'statusId'\n",
    "# Required columns are correct Data Types"
   ]
  },
  {
   "cell_type": "code",
   "execution_count": 56,
   "id": "3b848317",
   "metadata": {},
   "outputs": [
    {
     "data": {
      "text/plain": [
       "0"
      ]
     },
     "execution_count": 56,
     "metadata": {},
     "output_type": "execute_result"
    }
   ],
   "source": [
    "# Confirm that there are no duplicate vaues in the DataFrame\n",
    "\n",
    "f1_results.duplicated().sum()"
   ]
  },
  {
   "cell_type": "code",
   "execution_count": 57,
   "id": "b559d914",
   "metadata": {},
   "outputs": [],
   "source": [
    "# Merge 'Status' DataFrame into 'Results' DataFrame\n",
    "\n",
    "f1_results = pd.merge(f1_results,f1_status,on='statusId', how='inner')"
   ]
  },
  {
   "cell_type": "code",
   "execution_count": 58,
   "id": "5d8599a5",
   "metadata": {},
   "outputs": [],
   "source": [
    "# Merge 'Drivers' DataFrame into 'Results' DataFrame\n",
    "\n",
    "f1_results = pd.merge(f1_results,f1_drivers,on='driverId', how='inner')"
   ]
  },
  {
   "cell_type": "code",
   "execution_count": 59,
   "id": "04a8389e",
   "metadata": {},
   "outputs": [],
   "source": [
    "# Merge 'Races' DataFrame into 'Results' DataFrame\n",
    "\n",
    "f1_results = pd.merge(f1_results,f1_races,on='raceId', how='inner')"
   ]
  },
  {
   "cell_type": "code",
   "execution_count": 60,
   "id": "08f88f22",
   "metadata": {},
   "outputs": [
    {
     "name": "stdout",
     "output_type": "stream",
     "text": [
      "<class 'pandas.core.frame.DataFrame'>\n",
      "Int64Index: 25840 entries, 0 to 25839\n",
      "Data columns (total 25 columns):\n",
      " #   Column              Non-Null Count  Dtype  \n",
      "---  ------              --------------  -----  \n",
      " 0   resultId            25840 non-null  int64  \n",
      " 1   raceId              25840 non-null  int64  \n",
      " 2   driverId            25840 non-null  int64  \n",
      " 3   constructorId       25840 non-null  int64  \n",
      " 4   number              25840 non-null  object \n",
      " 5   grid                25840 non-null  int64  \n",
      " 6   position            25840 non-null  object \n",
      " 7   positionText        25840 non-null  object \n",
      " 8   positionOrder       25840 non-null  int64  \n",
      " 9   points              25840 non-null  float64\n",
      " 10  laps                25840 non-null  int64  \n",
      " 11  time                25840 non-null  object \n",
      " 12  milliseconds        25840 non-null  object \n",
      " 13  fastestLap          25840 non-null  object \n",
      " 14  rank                25840 non-null  object \n",
      " 15  fastestLapTime      25840 non-null  object \n",
      " 16  fastestLapSpeed     25840 non-null  object \n",
      " 17  statusId            25840 non-null  int64  \n",
      " 18  status              25840 non-null  object \n",
      " 19  forename            25840 non-null  object \n",
      " 20  surname             25840 non-null  object \n",
      " 21  fullname            25840 non-null  object \n",
      " 22  nationality         25840 non-null  object \n",
      " 23  TimesWorldChampion  25840 non-null  int64  \n",
      " 24  year                25840 non-null  int64  \n",
      "dtypes: float64(1), int64(10), object(14)\n",
      "memory usage: 5.1+ MB\n"
     ]
    }
   ],
   "source": [
    "f1_results.info()"
   ]
  },
  {
   "cell_type": "code",
   "execution_count": 61,
   "id": "0d0abaf8",
   "metadata": {},
   "outputs": [],
   "source": [
    "# Drop all columns except 'positionText', 'positionOrder', 'laps', 'fullname', 'nationality' & 'year'\n",
    "\n",
    "cols = [0,1,2,3,4,5,6,9,11,12,13,14,15,16,17,19,20,23]\n",
    "f1_results.drop(f1_results.columns[cols],axis=1,inplace=True)"
   ]
  },
  {
   "cell_type": "code",
   "execution_count": 62,
   "id": "eef62b47",
   "metadata": {},
   "outputs": [
    {
     "data": {
      "text/html": [
       "<div>\n",
       "<style scoped>\n",
       "    .dataframe tbody tr th:only-of-type {\n",
       "        vertical-align: middle;\n",
       "    }\n",
       "\n",
       "    .dataframe tbody tr th {\n",
       "        vertical-align: top;\n",
       "    }\n",
       "\n",
       "    .dataframe thead th {\n",
       "        text-align: right;\n",
       "    }\n",
       "</style>\n",
       "<table border=\"1\" class=\"dataframe\">\n",
       "  <thead>\n",
       "    <tr style=\"text-align: right;\">\n",
       "      <th></th>\n",
       "      <th>positionText</th>\n",
       "      <th>positionOrder</th>\n",
       "      <th>laps</th>\n",
       "      <th>status</th>\n",
       "      <th>fullname</th>\n",
       "      <th>nationality</th>\n",
       "      <th>year</th>\n",
       "    </tr>\n",
       "  </thead>\n",
       "  <tbody>\n",
       "    <tr>\n",
       "      <th>0</th>\n",
       "      <td>1</td>\n",
       "      <td>1</td>\n",
       "      <td>58</td>\n",
       "      <td>Finished</td>\n",
       "      <td>Lewis Hamilton</td>\n",
       "      <td>British</td>\n",
       "      <td>2008</td>\n",
       "    </tr>\n",
       "    <tr>\n",
       "      <th>1</th>\n",
       "      <td>2</td>\n",
       "      <td>2</td>\n",
       "      <td>58</td>\n",
       "      <td>Finished</td>\n",
       "      <td>Nick Heidfeld</td>\n",
       "      <td>German</td>\n",
       "      <td>2008</td>\n",
       "    </tr>\n",
       "    <tr>\n",
       "      <th>2</th>\n",
       "      <td>3</td>\n",
       "      <td>3</td>\n",
       "      <td>58</td>\n",
       "      <td>Finished</td>\n",
       "      <td>Nico Rosberg</td>\n",
       "      <td>German</td>\n",
       "      <td>2008</td>\n",
       "    </tr>\n",
       "    <tr>\n",
       "      <th>3</th>\n",
       "      <td>4</td>\n",
       "      <td>4</td>\n",
       "      <td>58</td>\n",
       "      <td>Finished</td>\n",
       "      <td>Fernando Alonso</td>\n",
       "      <td>Spanish</td>\n",
       "      <td>2008</td>\n",
       "    </tr>\n",
       "    <tr>\n",
       "      <th>4</th>\n",
       "      <td>5</td>\n",
       "      <td>5</td>\n",
       "      <td>58</td>\n",
       "      <td>Finished</td>\n",
       "      <td>Heikki Kovalainen</td>\n",
       "      <td>Finnish</td>\n",
       "      <td>2008</td>\n",
       "    </tr>\n",
       "  </tbody>\n",
       "</table>\n",
       "</div>"
      ],
      "text/plain": [
       "  positionText  positionOrder  laps    status           fullname nationality  \\\n",
       "0            1              1    58  Finished     Lewis Hamilton     British   \n",
       "1            2              2    58  Finished      Nick Heidfeld      German   \n",
       "2            3              3    58  Finished       Nico Rosberg      German   \n",
       "3            4              4    58  Finished    Fernando Alonso     Spanish   \n",
       "4            5              5    58  Finished  Heikki Kovalainen     Finnish   \n",
       "\n",
       "   year  \n",
       "0  2008  \n",
       "1  2008  \n",
       "2  2008  \n",
       "3  2008  \n",
       "4  2008  "
      ]
     },
     "execution_count": 62,
     "metadata": {},
     "output_type": "execute_result"
    }
   ],
   "source": [
    "f1_results.head()"
   ]
  },
  {
   "cell_type": "markdown",
   "id": "85eda3e2",
   "metadata": {},
   "source": [
    "***"
   ]
  },
  {
   "cell_type": "markdown",
   "id": "928a4b81",
   "metadata": {},
   "source": [
    "# Visualisation of Data"
   ]
  },
  {
   "cell_type": "markdown",
   "id": "84bcda8e",
   "metadata": {},
   "source": [
    "    1. Number of races per year\n",
    "    2. Number of retirements per decade\n",
    "    3. Nationality of race winners\n",
    "    4. Top 5 World Champions versus all other World Champions\n",
    "    5. Number of accidents per decade\n",
    "    6. Number of fatalities per decade\n",
    "    7. Most number of races per driver\n",
    "    8. Most number of laps per driver\n",
    "    9. Best conversion rate of races for wins\n",
    "    "
   ]
  },
  {
   "cell_type": "markdown",
   "id": "4780a8c4",
   "metadata": {},
   "source": [
    "#### 1. Number of Formula One races per year"
   ]
  },
  {
   "cell_type": "markdown",
   "id": "75eaaf0e",
   "metadata": {},
   "source": [
    "This visualisation is intended to show whether Formula One has grown in scale over the years. "
   ]
  },
  {
   "cell_type": "code",
   "execution_count": 63,
   "id": "ed1b6d26",
   "metadata": {},
   "outputs": [],
   "source": [
    "# Group by number of races per year\n",
    "\n",
    "f1_numberofraces = f1_races.groupby([\"year\"]).size().to_frame(name = 'NumberOfRaces').reset_index()"
   ]
  },
  {
   "cell_type": "code",
   "execution_count": 98,
   "id": "8ab169fd",
   "metadata": {},
   "outputs": [
    {
     "data": {
      "image/png": "[encoded data removed]",
      "text/plain": [
       "<Figure size 432x288 with 1 Axes>"
      ]
     },
     "metadata": {
      "needs_background": "light"
     },
     "output_type": "display_data"
    }
   ],
   "source": [
    "\n",
    "\n",
    "\n",
    "plt.plot(f1_numberofraces[\"year\"], f1_numberofraces[\"NumberOfRaces\"])\n",
    "plt.axhline(y = np.nanmean(f1_numberofraces.NumberOfRaces),color='green',linewidth=3,label='Average Races per Year')\n",
    "\n",
    "# Add plot title\n",
    "plt.title(\"Number of Formula One races per Year\")\n",
    "\n",
    "# Add axis labels\n",
    "plt.xlabel(\"Year\")\n",
    "plt.ylabel(\"Number of Races\")\n",
    "\n",
    "# Add legend label\n",
    "plt.legend(loc='best')\n",
    "plt.savefig('number_races_per_year.png', dpi=300, bbox_inches='tight', facecolor='white', transparent=False)\n",
    "plt.show()"
   ]
  },
  {
   "cell_type": "code",
   "execution_count": 65,
   "id": "ee62042e",
   "metadata": {},
   "outputs": [
    {
     "data": {
      "text/plain": [
       "76"
      ]
     },
     "execution_count": 65,
     "metadata": {},
     "output_type": "execute_result"
    }
   ],
   "source": [
    "# Display how many different race tracks have hosted Formula One\n",
    "\n",
    "f1_circuits['name'].count()"
   ]
  },
  {
   "cell_type": "code",
   "execution_count": 66,
   "id": "2c3db786",
   "metadata": {},
   "outputs": [
    {
     "data": {
      "text/plain": [
       "34"
      ]
     },
     "execution_count": 66,
     "metadata": {},
     "output_type": "execute_result"
    }
   ],
   "source": [
    "# Display how many different countries have hosted Formula One\n",
    "\n",
    "f1_circuits['country'].nunique()"
   ]
  },
  {
   "cell_type": "markdown",
   "id": "07915977",
   "metadata": {},
   "source": [
    "The number of Formula One races has gradually increased over the years, with a record high number of 22 races recorded last season. The scope of Formula One can also be measured in the number of circuits used (76) and countries that have hosted Grand Prix (34)."
   ]
  },
  {
   "cell_type": "markdown",
   "id": "1d9ea1ab",
   "metadata": {},
   "source": [
    "#### 2. Number of Formula One retirements per decade"
   ]
  },
  {
   "cell_type": "code",
   "execution_count": 67,
   "id": "b1bc0e4b",
   "metadata": {},
   "outputs": [],
   "source": [
    "f1_retirements = f1_results[f1_results.eval(\"positionText == 'R' & \\\n",
    "                                            status != 'Accident' & \\\n",
    "                                            status != 'Collision' & \\\n",
    "                                            status != 'Collision damage' & \\\n",
    "                                            status != 'Spun off' & \\\n",
    "                                            status != 'Suspension' & \\\n",
    "                                            status != 'Withdrew'\")]"
   ]
  },
  {
   "cell_type": "code",
   "execution_count": 68,
   "id": "9b991674",
   "metadata": {},
   "outputs": [],
   "source": [
    "# Groupby DataFrame and save\n",
    "f1_retirements = f1_retirements.groupby([\"year\"]).size().to_frame(name = 'NumberOfRetirements').reset_index()"
   ]
  },
  {
   "cell_type": "code",
   "execution_count": 69,
   "id": "ba41fbb4",
   "metadata": {},
   "outputs": [],
   "source": [
    "f1_retirements.to_csv('f1_retirements.csv')  "
   ]
  },
  {
   "cell_type": "code",
   "execution_count": 70,
   "id": "cfaa5127",
   "metadata": {},
   "outputs": [
    {
     "data": {
      "text/plain": [
       "year                   73\n",
       "NumberOfRetirements    73\n",
       "dtype: int64"
      ]
     },
     "execution_count": 70,
     "metadata": {},
     "output_type": "execute_result"
    }
   ],
   "source": [
    "f1_retirements.count()"
   ]
  },
  {
   "cell_type": "code",
   "execution_count": 99,
   "id": "03d91f4a",
   "metadata": {},
   "outputs": [
    {
     "data": {
      "text/plain": [
       "<function matplotlib.pyplot.show(close=None, block=None)>"
      ]
     },
     "execution_count": 99,
     "metadata": {},
     "output_type": "execute_result"
    },
    {
     "data": {
      "image/png": "[encoded data removed]",
      "text/plain": [
       "<Figure size 432x288 with 1 Axes>"
      ]
     },
     "metadata": {
      "needs_background": "light"
     },
     "output_type": "display_data"
    }
   ],
   "source": [
    "f1_retirements['year'] = f1_retirements['year'] - f1_retirements['year'] % 10\n",
    "df_decade = (f1_retirements.groupby(['year']).sum().reset_index())\n",
    "ax = sns.barplot(x=\"year\", y=\"NumberOfRetirements\", data=df_decade)\n",
    "\n",
    "# Add plot title\n",
    "plt.title('Total Formula One retirements per decade')\n",
    "\n",
    "# Add axis labels\n",
    "plt.xlabel('Number of Retirements')\n",
    "plt.ylabel('Decade')\n",
    "\n",
    "plt.savefig('retirements_per_decade.png', dpi=300, bbox_inches='tight', facecolor='white', transparent=False)\n",
    "plt.show"
   ]
  },
  {
   "cell_type": "markdown",
   "id": "873f1039",
   "metadata": {},
   "source": [
    "#### 3. Nationality of all Formula One winners"
   ]
  },
  {
   "cell_type": "code",
   "execution_count": 72,
   "id": "32695902",
   "metadata": {},
   "outputs": [],
   "source": [
    "f1_nationality = f1_results[f1_results.eval(\"positionOrder == 1\")]"
   ]
  },
  {
   "cell_type": "code",
   "execution_count": 73,
   "id": "1cf1db48",
   "metadata": {},
   "outputs": [],
   "source": [
    "# \n",
    "f1_nationality = f1_nationality.groupby([\"nationality\"]).size().to_frame(name = 'NumberOfNationalities').reset_index()"
   ]
  },
  {
   "cell_type": "code",
   "execution_count": 74,
   "id": "c7664371",
   "metadata": {},
   "outputs": [
    {
     "name": "stdout",
     "output_type": "stream",
     "text": [
      "<class 'pandas.core.frame.DataFrame'>\n",
      "RangeIndex: 23 entries, 0 to 22\n",
      "Data columns (total 2 columns):\n",
      " #   Column                 Non-Null Count  Dtype \n",
      "---  ------                 --------------  ----- \n",
      " 0   nationality            23 non-null     object\n",
      " 1   NumberOfNationalities  23 non-null     int64 \n",
      "dtypes: int64(1), object(1)\n",
      "memory usage: 496.0+ bytes\n"
     ]
    }
   ],
   "source": [
    "f1_nationality.info()"
   ]
  },
  {
   "cell_type": "code",
   "execution_count": 75,
   "id": "bdf674ca",
   "metadata": {},
   "outputs": [
    {
     "data": {
      "image/png": "[encoded data removed]",
      "text/plain": [
       "<Figure size 432x288 with 1 Axes>"
      ]
     },
     "metadata": {
      "needs_background": "light"
     },
     "output_type": "display_data"
    }
   ],
   "source": [
    "# Create horizontal barplot\n",
    "sns.barplot(x = f1_nationality.NumberOfNationalities, y = f1_nationality.nationality, orient='h')\n",
    "\n",
    "# Add plot title\n",
    "plt.title('Total Formula One wins per Nationality')\n",
    "\n",
    "# Add axis labels\n",
    "plt.xlabel('Number of wins')\n",
    "plt.ylabel('Nationality')\n",
    "plt.savefig('winners_nationality.png', dpi=300, bbox_inches='tight', facecolor='white', transparent=False)"
   ]
  },
  {
   "cell_type": "markdown",
   "id": "425cdbbb",
   "metadata": {},
   "source": [
    "#### 4. Cumulative top 5 World Champions versus all other World Champions "
   ]
  },
  {
   "cell_type": "markdown",
   "id": "6e0aba32",
   "metadata": {},
   "source": [
    "This visualisation is intended to show whether the spread of World Champions across the universe of winners is even, or whether there is a small group of drivers who have dominated the number of World Championships."
   ]
  },
  {
   "cell_type": "code",
   "execution_count": 76,
   "id": "064f7d1a",
   "metadata": {},
   "outputs": [
    {
     "name": "stdout",
     "output_type": "stream",
     "text": [
      "Driver                Michael Schumacher\n",
      "TimesWorldChampion                     7\n",
      "Name: 0, dtype: object\n",
      "Driver                Lewis Hamilton\n",
      "TimesWorldChampion                 7\n",
      "Name: 1, dtype: object\n",
      "Driver                Juan Manuel Fangio\n",
      "TimesWorldChampion                     6\n",
      "Name: 2, dtype: object\n",
      "Driver                Alain Prost\n",
      "TimesWorldChampion              4\n",
      "Name: 3, dtype: object\n",
      "Driver                Sebastian Vettel\n",
      "TimesWorldChampion                   4\n",
      "Name: 4, dtype: object\n"
     ]
    }
   ],
   "source": [
    "# Firstly, we can check to see how many drivers, if any, have won more than 4 World Championships. \n",
    "# The number of drivers is 5\n",
    "\n",
    "for i in range(len(f1_world_champions)):\n",
    "    if f1_world_champions.loc[i, \"TimesWorldChampion\"] >= 4:\n",
    "        print(f1_world_champions.loc[i])"
   ]
  },
  {
   "cell_type": "code",
   "execution_count": 77,
   "id": "18d29640",
   "metadata": {},
   "outputs": [
    {
     "data": {
      "text/html": [
       "<div>\n",
       "<style scoped>\n",
       "    .dataframe tbody tr th:only-of-type {\n",
       "        vertical-align: middle;\n",
       "    }\n",
       "\n",
       "    .dataframe tbody tr th {\n",
       "        vertical-align: top;\n",
       "    }\n",
       "\n",
       "    .dataframe thead th {\n",
       "        text-align: right;\n",
       "    }\n",
       "</style>\n",
       "<table border=\"1\" class=\"dataframe\">\n",
       "  <thead>\n",
       "    <tr style=\"text-align: right;\">\n",
       "      <th></th>\n",
       "      <th>DriversGrouped</th>\n",
       "      <th>NumberOfChampionships</th>\n",
       "    </tr>\n",
       "  </thead>\n",
       "  <tbody>\n",
       "    <tr>\n",
       "      <th>0</th>\n",
       "      <td>top 5 drivers</td>\n",
       "      <td>28</td>\n",
       "    </tr>\n",
       "    <tr>\n",
       "      <th>1</th>\n",
       "      <td>rest of drivers</td>\n",
       "      <td>46</td>\n",
       "    </tr>\n",
       "  </tbody>\n",
       "</table>\n",
       "</div>"
      ],
      "text/plain": [
       "    DriversGrouped  NumberOfChampionships\n",
       "0    top 5 drivers                     28\n",
       "1  rest of drivers                     46"
      ]
     },
     "execution_count": 77,
     "metadata": {},
     "output_type": "execute_result"
    }
   ],
   "source": [
    "# Create a new DataFrame by grouping these 5 drivers together against the rest of the World Champions\n",
    "  \n",
    "# initialize list of lists\n",
    "f1_world_champions_top_5 = [['top 5 drivers', (f1_world_champions['TimesWorldChampion'][:5].sum())], ['rest of drivers', (f1_world_champions['TimesWorldChampion'][5:].sum())]]\n",
    "  \n",
    "# Create the pandas DataFrame\n",
    "f1_world_champions_top_5 = pd.DataFrame(f1_world_champions_top_5, columns=['DriversGrouped', 'NumberOfChampionships'])\n",
    "  \n",
    "# print dataframe.\n",
    "f1_world_champions_top_5"
   ]
  },
  {
   "cell_type": "code",
   "execution_count": 78,
   "id": "c3a10f31",
   "metadata": {},
   "outputs": [
    {
     "data": {
      "image/png": "[encoded data removed]",
      "text/plain": [
       "<Figure size 432x288 with 1 Axes>"
      ]
     },
     "metadata": {},
     "output_type": "display_data"
    }
   ],
   "source": [
    "# Create a pie chart showing the percentage of Championships attributed to the top 5 drivers \n",
    "# versus the other World Champions. Save this chart as *.png\n",
    "\n",
    "f1_world_champions_top_5.groupby(['DriversGrouped']).sum().plot(\n",
    "    kind='pie', y='NumberOfChampionships', ylabel = '', autopct='%0.1f%%', colors = ['skyblue', 'sienna'], shadow=False)\n",
    "plt.savefig('top_5_world_champions.png', dpi=300, bbox_inches='tight', facecolor='white', transparent=False)"
   ]
  },
  {
   "cell_type": "markdown",
   "id": "d2486cc2",
   "metadata": {},
   "source": [
    "The output shows that the top 5 drivers have dominated; winning nearly 38% of all World Championships between them."
   ]
  },
  {
   "cell_type": "markdown",
   "id": "afb13d30",
   "metadata": {},
   "source": [
    "#### 5. Number of Formula One accidents per Decade"
   ]
  },
  {
   "cell_type": "markdown",
   "id": "6d613290",
   "metadata": {},
   "source": [
    "This visualisation is intended to plot the number of accidents in Formula One per decade. It is helpful to demonstrate a trend of whether the incidence of accidents has increased, decreased or remained the same over a 70 year period of racing."
   ]
  },
  {
   "cell_type": "code",
   "execution_count": 79,
   "id": "ef2362d8",
   "metadata": {},
   "outputs": [],
   "source": [
    "# Within 'Results' DataFrame, return only retirements\n",
    "# that can be attributed to either Accident or Collision only.\n",
    "# Remove all records after 2019 as there is only 3 year's \n",
    "# worth of data in the current decade\n",
    "\n",
    "f1_accidents = f1_results[f1_results.eval(\"positionText == 'R' & \\\n",
    "                                            year <= 2019 & \\\n",
    "                                            (status == 'Accident' or \\\n",
    "                                            status == 'Collision')\")].reset_index()                         "
   ]
  },
  {
   "cell_type": "code",
   "execution_count": 80,
   "id": "ed1bc3b9",
   "metadata": {},
   "outputs": [],
   "source": [
    "# Group by number of accidents per year\n",
    "\n",
    "f1_accidents = f1_accidents.groupby([\"year\"]).size().to_frame(name = 'NumberOfAccidents').reset_index()"
   ]
  },
  {
   "cell_type": "code",
   "execution_count": 81,
   "id": "3bd7f6e6",
   "metadata": {},
   "outputs": [
    {
     "data": {
      "image/png": "[encoded data removed]",
      "text/plain": [
       "<Figure size 432x288 with 1 Axes>"
      ]
     },
     "metadata": {
      "needs_background": "light"
     },
     "output_type": "display_data"
    }
   ],
   "source": [
    "# Plot a line graph showing the 'Accidents' DataFrame\n",
    "\n",
    "f1_accidents['year'] = f1_accidents['year'] - f1_accidents['year'] % 10\n",
    "df_decade = (f1_accidents.groupby(['year']).sum().reset_index())\n",
    "plt.title(\"Number of Accidents per Decade\")\n",
    "plt.xlabel(\"Decade\")\n",
    "plt.ylabel(\"Number of Accidents\")\n",
    "\n",
    "ax = sns.lineplot(x=\"year\", y=\"NumberOfAccidents\", data=df_decade)\n",
    "plt.savefig('accidents_per_decade.png', dpi=300, bbox_inches='tight', facecolor='white', transparent=False)"
   ]
  },
  {
   "cell_type": "markdown",
   "id": "6efbed0f",
   "metadata": {},
   "source": [
    "The output shows that the incidence of accidents peaked dramatically in the 1970s. The number of accidents has fallen slightly since this time, even though the number of races per year has increased between the 1970s and 2010s. This is evidenced in the earlier output '1. Number of Formula One races per year'. This suggests that actual level of accidents per races in Formula One has decreased in real terms since the 1970s."
   ]
  },
  {
   "cell_type": "markdown",
   "id": "f0e4a5f3",
   "metadata": {},
   "source": [
    "#### 6. Number of Formula One fatalities per Decade"
   ]
  },
  {
   "cell_type": "code",
   "execution_count": 82,
   "id": "7f38d1a1",
   "metadata": {},
   "outputs": [],
   "source": [
    "# Group by number of fatalities per year\n",
    "\n",
    "f1_fatalities = f1_fatalities.groupby([\"Date of accident\"]).size().to_frame(name = 'NumberOfFatalities').reset_index()"
   ]
  },
  {
   "cell_type": "code",
   "execution_count": 83,
   "id": "46f64028",
   "metadata": {},
   "outputs": [
    {
     "data": {
      "image/png": "[encoded data removed]",
      "text/plain": [
       "<Figure size 432x288 with 1 Axes>"
      ]
     },
     "metadata": {
      "needs_background": "light"
     },
     "output_type": "display_data"
    }
   ],
   "source": [
    "# Plot a line graph showing the 'Fatalities' DataFrame per decade\n",
    "\n",
    "f1_fatalities['Date of accident'] = f1_fatalities['Date of accident'] - f1_fatalities['Date of accident'] % 10\n",
    "df_decade = (f1_fatalities.groupby(['Date of accident']).sum().reset_index())\n",
    "\n",
    "plt.title(\"Number of Fatalities per Decade\")\n",
    "plt.xlabel(\"Decade\")\n",
    "plt.ylabel(\"Number of Fatalities\")\n",
    "\n",
    "ax = sns.lineplot(x=\"Date of accident\", y=\"NumberOfFatalities\", data=df_decade)\n",
    "plt.savefig('fatalities_per_decade.png', dpi=300, bbox_inches='tight', facecolor='white', transparent=False)"
   ]
  },
  {
   "cell_type": "markdown",
   "id": "f9993dd2",
   "metadata": {},
   "source": [
    "#### 7. Most experienced drivers in Formula One"
   ]
  },
  {
   "cell_type": "code",
   "execution_count": 84,
   "id": "72197f9f",
   "metadata": {},
   "outputs": [
    {
     "data": {
      "text/html": [
       "<div>\n",
       "<style scoped>\n",
       "    .dataframe tbody tr th:only-of-type {\n",
       "        vertical-align: middle;\n",
       "    }\n",
       "\n",
       "    .dataframe tbody tr th {\n",
       "        vertical-align: top;\n",
       "    }\n",
       "\n",
       "    .dataframe thead th {\n",
       "        text-align: right;\n",
       "    }\n",
       "</style>\n",
       "<table border=\"1\" class=\"dataframe\">\n",
       "  <thead>\n",
       "    <tr style=\"text-align: right;\">\n",
       "      <th></th>\n",
       "      <th>fullname</th>\n",
       "      <th>NumberOfRaces</th>\n",
       "    </tr>\n",
       "  </thead>\n",
       "  <tbody>\n",
       "    <tr>\n",
       "      <th>256</th>\n",
       "      <td>Fernando Alonso</td>\n",
       "      <td>358</td>\n",
       "    </tr>\n",
       "    <tr>\n",
       "      <th>501</th>\n",
       "      <td>Kimi Räikkönen</td>\n",
       "      <td>352</td>\n",
       "    </tr>\n",
       "    <tr>\n",
       "      <th>748</th>\n",
       "      <td>Rubens Barrichello</td>\n",
       "      <td>326</td>\n",
       "    </tr>\n",
       "    <tr>\n",
       "      <th>522</th>\n",
       "      <td>Lewis Hamilton</td>\n",
       "      <td>310</td>\n",
       "    </tr>\n",
       "    <tr>\n",
       "      <th>410</th>\n",
       "      <td>Jenson Button</td>\n",
       "      <td>309</td>\n",
       "    </tr>\n",
       "    <tr>\n",
       "      <th>...</th>\n",
       "      <td>...</td>\n",
       "      <td>...</td>\n",
       "    </tr>\n",
       "    <tr>\n",
       "      <th>436</th>\n",
       "      <td>Joe Fry</td>\n",
       "      <td>1</td>\n",
       "    </tr>\n",
       "    <tr>\n",
       "      <th>431</th>\n",
       "      <td>Jo Vonlanthen</td>\n",
       "      <td>1</td>\n",
       "    </tr>\n",
       "    <tr>\n",
       "      <th>1</th>\n",
       "      <td>Adolfo Cruz</td>\n",
       "      <td>1</td>\n",
       "    </tr>\n",
       "    <tr>\n",
       "      <th>426</th>\n",
       "      <td>Jimmy Stewart</td>\n",
       "      <td>1</td>\n",
       "    </tr>\n",
       "    <tr>\n",
       "      <th>854</th>\n",
       "      <td>Óscar González</td>\n",
       "      <td>1</td>\n",
       "    </tr>\n",
       "  </tbody>\n",
       "</table>\n",
       "<p>855 rows × 2 columns</p>\n",
       "</div>"
      ],
      "text/plain": [
       "               fullname  NumberOfRaces\n",
       "256     Fernando Alonso            358\n",
       "501      Kimi Räikkönen            352\n",
       "748  Rubens Barrichello            326\n",
       "522      Lewis Hamilton            310\n",
       "410       Jenson Button            309\n",
       "..                  ...            ...\n",
       "436             Joe Fry              1\n",
       "431       Jo Vonlanthen              1\n",
       "1           Adolfo Cruz              1\n",
       "426       Jimmy Stewart              1\n",
       "854      Óscar González              1\n",
       "\n",
       "[855 rows x 2 columns]"
      ]
     },
     "execution_count": 84,
     "metadata": {},
     "output_type": "execute_result"
    }
   ],
   "source": [
    "# \n",
    "\n",
    "f1_experience = f1_results.groupby(['fullname']).size().to_frame(name = 'NumberOfRaces').reset_index()\n",
    "f1_experience.sort_values('NumberOfRaces', ascending=False)"
   ]
  },
  {
   "cell_type": "code",
   "execution_count": 85,
   "id": "042db014",
   "metadata": {},
   "outputs": [
    {
     "data": {
      "image/png": "[encoded data removed]",
      "text/plain": [
       "<Figure size 432x288 with 1 Axes>"
      ]
     },
     "metadata": {
      "needs_background": "light"
     },
     "output_type": "display_data"
    }
   ],
   "source": [
    "# Plot the number of races for the top 10 most experienced drivers\n",
    "\n",
    "sns.barplot(\n",
    "    x = 'NumberOfRaces',\n",
    "    y = 'fullname',\n",
    "    data=f1_experience.nlargest(10, 'NumberOfRaces')\n",
    ")\n",
    "\n",
    "# Add plot title &  axis labels\n",
    "\n",
    "plt.title('Top 10 Formula One drivers - number of races')\n",
    "plt.xlabel('Number of races')\n",
    "plt.ylabel('Driver')\n",
    "plt.savefig('number_races_per_driver.png', dpi=300, bbox_inches='tight', facecolor='white', transparent=False)"
   ]
  },
  {
   "cell_type": "markdown",
   "id": "b1d90efb",
   "metadata": {},
   "source": [
    "#### 8. Most laps driven in Formula One"
   ]
  },
  {
   "cell_type": "code",
   "execution_count": 86,
   "id": "d549cfcd",
   "metadata": {},
   "outputs": [],
   "source": [
    "f1_laps = f1_results.groupby(['fullname'])['laps'].agg('sum').reset_index()"
   ]
  },
  {
   "cell_type": "code",
   "execution_count": 87,
   "id": "761f2e99",
   "metadata": {},
   "outputs": [
    {
     "data": {
      "image/png": "[encoded data removed]",
      "text/plain": [
       "<Figure size 432x288 with 1 Axes>"
      ]
     },
     "metadata": {
      "needs_background": "light"
     },
     "output_type": "display_data"
    }
   ],
   "source": [
    "# Plot the top 10 drivers who have completed the most number of laps in Formula One\n",
    "\n",
    "sns.barplot(\n",
    "    x = 'laps',\n",
    "    y = 'fullname',\n",
    "    data=f1_laps.nlargest(10, 'laps')\n",
    ")\n",
    "\n",
    "# Add plot title &  axis labels\n",
    "\n",
    "plt.title('Top 10 Formula One drivers - number of laps')\n",
    "plt.xlabel('Number of completed laps')\n",
    "plt.ylabel('Driver')\n",
    "plt.savefig('number_laps_per_driver.png', dpi=300, bbox_inches='tight', facecolor='white', transparent=False)"
   ]
  },
  {
   "cell_type": "markdown",
   "id": "28c35749",
   "metadata": {},
   "source": [
    "#### 9. Best conversion rate of races for wins in Formula One"
   ]
  },
  {
   "cell_type": "code",
   "execution_count": null,
   "id": "51408ddd",
   "metadata": {},
   "outputs": [],
   "source": []
  },
  {
   "cell_type": "code",
   "execution_count": 88,
   "id": "38320e9d",
   "metadata": {},
   "outputs": [
    {
     "data": {
      "text/html": [
       "<div>\n",
       "<style scoped>\n",
       "    .dataframe tbody tr th:only-of-type {\n",
       "        vertical-align: middle;\n",
       "    }\n",
       "\n",
       "    .dataframe tbody tr th {\n",
       "        vertical-align: top;\n",
       "    }\n",
       "\n",
       "    .dataframe thead th {\n",
       "        text-align: right;\n",
       "    }\n",
       "</style>\n",
       "<table border=\"1\" class=\"dataframe\">\n",
       "  <thead>\n",
       "    <tr style=\"text-align: right;\">\n",
       "      <th></th>\n",
       "      <th>fullname</th>\n",
       "      <th>NumberOfWins</th>\n",
       "    </tr>\n",
       "  </thead>\n",
       "  <tbody>\n",
       "    <tr>\n",
       "      <th>66</th>\n",
       "      <td>Lewis Hamilton</td>\n",
       "      <td>103</td>\n",
       "    </tr>\n",
       "    <tr>\n",
       "      <th>75</th>\n",
       "      <td>Michael Schumacher</td>\n",
       "      <td>91</td>\n",
       "    </tr>\n",
       "    <tr>\n",
       "      <th>104</th>\n",
       "      <td>Sebastian Vettel</td>\n",
       "      <td>53</td>\n",
       "    </tr>\n",
       "    <tr>\n",
       "      <th>0</th>\n",
       "      <td>Alain Prost</td>\n",
       "      <td>51</td>\n",
       "    </tr>\n",
       "    <tr>\n",
       "      <th>4</th>\n",
       "      <td>Ayrton Senna</td>\n",
       "      <td>41</td>\n",
       "    </tr>\n",
       "    <tr>\n",
       "      <th>...</th>\n",
       "      <td>...</td>\n",
       "      <td>...</td>\n",
       "    </tr>\n",
       "    <tr>\n",
       "      <th>34</th>\n",
       "      <td>Heikki Kovalainen</td>\n",
       "      <td>1</td>\n",
       "    </tr>\n",
       "    <tr>\n",
       "      <th>90</th>\n",
       "      <td>Peter Gethin</td>\n",
       "      <td>1</td>\n",
       "    </tr>\n",
       "    <tr>\n",
       "      <th>58</th>\n",
       "      <td>Johnnie Parsons</td>\n",
       "      <td>1</td>\n",
       "    </tr>\n",
       "    <tr>\n",
       "      <th>36</th>\n",
       "      <td>Innes Ireland</td>\n",
       "      <td>1</td>\n",
       "    </tr>\n",
       "    <tr>\n",
       "      <th>22</th>\n",
       "      <td>Esteban Ocon</td>\n",
       "      <td>1</td>\n",
       "    </tr>\n",
       "  </tbody>\n",
       "</table>\n",
       "<p>113 rows × 2 columns</p>\n",
       "</div>"
      ],
      "text/plain": [
       "               fullname  NumberOfWins\n",
       "66       Lewis Hamilton           103\n",
       "75   Michael Schumacher            91\n",
       "104    Sebastian Vettel            53\n",
       "0           Alain Prost            51\n",
       "4          Ayrton Senna            41\n",
       "..                  ...           ...\n",
       "34    Heikki Kovalainen             1\n",
       "90         Peter Gethin             1\n",
       "58      Johnnie Parsons             1\n",
       "36        Innes Ireland             1\n",
       "22         Esteban Ocon             1\n",
       "\n",
       "[113 rows x 2 columns]"
      ]
     },
     "execution_count": 88,
     "metadata": {},
     "output_type": "execute_result"
    }
   ],
   "source": [
    "\n",
    "\n",
    "\n",
    "f1_individual_wins = f1_results[f1_results.eval(\"positionOrder == 1\")].reset_index()\n",
    "f1_individual_wins = f1_individual_wins.groupby(['fullname']).size().to_frame(name = 'positionOrder').reset_index()\n",
    "f1_individual_wins = f1_individual_wins.rename(columns = {'positionOrder':'NumberOfWins'}, inplace = False)\n",
    "f1_individual_wins.sort_values('NumberOfWins', ascending=False)\n"
   ]
  },
  {
   "cell_type": "code",
   "execution_count": 89,
   "id": "a6384fab",
   "metadata": {},
   "outputs": [],
   "source": [
    "f1_conversion_rate = pd.merge(f1_experience,f1_individual_wins, on = 'fullname', how='inner').reset_index(drop=True)\n",
    "\n",
    "#drivers who never won a race have been dropped\n"
   ]
  },
  {
   "cell_type": "code",
   "execution_count": 90,
   "id": "0f5b8cf7",
   "metadata": {},
   "outputs": [
    {
     "data": {
      "text/html": [
       "<div>\n",
       "<style scoped>\n",
       "    .dataframe tbody tr th:only-of-type {\n",
       "        vertical-align: middle;\n",
       "    }\n",
       "\n",
       "    .dataframe tbody tr th {\n",
       "        vertical-align: top;\n",
       "    }\n",
       "\n",
       "    .dataframe thead th {\n",
       "        text-align: right;\n",
       "    }\n",
       "</style>\n",
       "<table border=\"1\" class=\"dataframe\">\n",
       "  <thead>\n",
       "    <tr style=\"text-align: right;\">\n",
       "      <th></th>\n",
       "      <th>fullname</th>\n",
       "      <th>NumberOfRaces</th>\n",
       "      <th>NumberOfWins</th>\n",
       "    </tr>\n",
       "  </thead>\n",
       "  <tbody>\n",
       "    <tr>\n",
       "      <th>0</th>\n",
       "      <td>Alain Prost</td>\n",
       "      <td>202</td>\n",
       "      <td>51</td>\n",
       "    </tr>\n",
       "    <tr>\n",
       "      <th>1</th>\n",
       "      <td>Alan Jones</td>\n",
       "      <td>117</td>\n",
       "      <td>12</td>\n",
       "    </tr>\n",
       "    <tr>\n",
       "      <th>2</th>\n",
       "      <td>Alberto Ascari</td>\n",
       "      <td>36</td>\n",
       "      <td>13</td>\n",
       "    </tr>\n",
       "  </tbody>\n",
       "</table>\n",
       "</div>"
      ],
      "text/plain": [
       "         fullname  NumberOfRaces  NumberOfWins\n",
       "0     Alain Prost            202            51\n",
       "1      Alan Jones            117            12\n",
       "2  Alberto Ascari             36            13"
      ]
     },
     "execution_count": 90,
     "metadata": {},
     "output_type": "execute_result"
    }
   ],
   "source": [
    "f1_conversion_rate.head(3)"
   ]
  },
  {
   "cell_type": "code",
   "execution_count": 91,
   "id": "652f910a",
   "metadata": {},
   "outputs": [],
   "source": [
    "#new Pct column\n",
    "f1_conversion_rate['Percent'] = ((f1_conversion_rate.NumberOfWins / f1_conversion_rate.NumberOfRaces)*100).reset_index(drop=True)\n",
    "f1_conversion_rate.sort_values('Percent', ascending=False, inplace=True)\n"
   ]
  },
  {
   "cell_type": "code",
   "execution_count": 92,
   "id": "a619a828",
   "metadata": {},
   "outputs": [],
   "source": [
    "# qualifier of minimum 20 races\n",
    "f1_conversion_rate = f1_conversion_rate[~(f1_conversion_rate['NumberOfWins'] <= 20)].reset_index(drop=True)"
   ]
  },
  {
   "cell_type": "code",
   "execution_count": 93,
   "id": "b313d54f",
   "metadata": {},
   "outputs": [],
   "source": [
    "# drop all drivers except the 10 with highest percentage of win conversions\n",
    "f1_conversion_rate = f1_conversion_rate.iloc[:10]"
   ]
  },
  {
   "cell_type": "code",
   "execution_count": 94,
   "id": "37e43b2a",
   "metadata": {},
   "outputs": [],
   "source": [
    "f1_conversion_rate.sort_values('Percent', ascending=True, inplace=True)"
   ]
  },
  {
   "cell_type": "code",
   "execution_count": 95,
   "id": "8542dd8f",
   "metadata": {},
   "outputs": [
    {
     "data": {
      "image/png": "[encoded data removed]",
      "text/plain": [
       "<Figure size 432x288 with 1 Axes>"
      ]
     },
     "metadata": {
      "needs_background": "light"
     },
     "output_type": "display_data"
    },
    {
     "data": {
      "text/plain": [
       "<Figure size 432x288 with 0 Axes>"
      ]
     },
     "metadata": {},
     "output_type": "display_data"
    }
   ],
   "source": [
    "\n",
    "# plotting stacked Horizontal Bar Chart with all the columns\n",
    "f1_conversion_rate.plot.barh(x='fullname', xlabel = '', ylabel = '', title= 'Formula One drivers - Converting race wins percentage', color=(\"gold\", \"steelblue\", 'tomato'))\n",
    "\n",
    "# display the plotted Horizontal Bar Chart\n",
    "plt.show()\n",
    "plt.savefig('conversion_rate.png', dpi=300, bbox_inches='tight', facecolor='white', transparent=False)"
   ]
  }
 ],
 "metadata": {
  "kernelspec": {
   "display_name": "Python 3",
   "language": "python",
   "name": "python3"
  },
  "language_info": {
   "codemirror_mode": {
    "name": "ipython",
    "version": 3
   },
   "file_extension": ".py",
   "mimetype": "text/x-python",
   "name": "python",
   "nbconvert_exporter": "python",
   "pygments_lexer": "ipython3",
   "version": "3.8.8"
  }
 },
 "nbformat": 4,
 "nbformat_minor": 5
}
